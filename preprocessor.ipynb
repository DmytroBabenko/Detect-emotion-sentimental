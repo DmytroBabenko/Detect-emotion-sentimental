{
 "cells": [
  {
   "cell_type": "code",
   "execution_count": 1,
   "metadata": {},
   "outputs": [],
   "source": [
    "import tokenize_uk\n",
    "import pymorphy2\n",
    "from gensim.models import KeyedVectors\n",
    "from gensim.models.keyedvectors import Word2VecKeyedVectors\n",
    "from typing import List, Dict\n",
    "from fuzzyset import FuzzySet"
   ]
  },
  {
   "cell_type": "code",
   "execution_count": 2,
   "metadata": {},
   "outputs": [],
   "source": [
    "embeddings_file = \"./embeddings/ubercorpus.cased.tokenized.word2vec.300d\""
   ]
  },
  {
   "cell_type": "code",
   "execution_count": 3,
   "metadata": {},
   "outputs": [],
   "source": [
    "word2vec = KeyedVectors.load_word2vec_format(embeddings_file)"
   ]
  },
  {
   "cell_type": "code",
   "execution_count": 4,
   "metadata": {},
   "outputs": [],
   "source": [
    "w2v_vocab = FuzzySet(word2vec.vocab)"
   ]
  },
  {
   "cell_type": "code",
   "execution_count": 5,
   "metadata": {},
   "outputs": [],
   "source": [
    "class Preprocessor:\n",
    "    morph_analyzer = pymorphy2.MorphAnalyzer(lang='uk')\n",
    "    \n",
    "    def __init__(self, word2vec: Word2VecKeyedVectors, \n",
    "                 stop_words: List[str] = list(), \n",
    "                 fixed_word_dict: Dict[str, List[str]] = dict()):\n",
    "        self.word2vec = word2vec\n",
    "        self.approximate_matcher = FuzzySet(word2vec.vocab)\n",
    "        self.stop_words = stop_words\n",
    "        self.fixed_word_dict = fixed_word_dict\n",
    "        \n",
    "        \n",
    "    def preprocess_texts(self, texts: List[str]):\n",
    "        results = [self.preprocess_text(text) for text in texts]\n",
    "        return results\n",
    "        \n",
    "    def preprocess_text(self, text: str) -> List[str]:\n",
    "        result: List[str] = []\n",
    "        tokens = tokenize_uk.tokenize_words(text)\n",
    "        for token in tokens:\n",
    "            if self.__should_token_be_included(token):\n",
    "                if token in self.word2vec:\n",
    "                    result.append(token)\n",
    "                else:\n",
    "                    fixed_word = self.__fix_word(token)\n",
    "                    if fixed_word is not None:\n",
    "                        result.append(fixed_word)\n",
    "            \n",
    "                \n",
    "        \n",
    "                \n",
    "        return result\n",
    "    \n",
    "    def __should_token_be_included(self, token: str) -> bool:\n",
    "        if token in self.stop_words:\n",
    "            return False\n",
    "        \n",
    "        if self.__check_punctuation(token) is False:\n",
    "            return False\n",
    "        \n",
    "        \n",
    "        return True\n",
    "    \n",
    "    def __check_punctuation(self, token: str) -> bool:\n",
    "        parse = self.morph_analyzer.parse(token)[0]\n",
    "        \n",
    "        if 'PNCT' in parse.tag:\n",
    "            return False\n",
    "        \n",
    "        #TODO: add more \n",
    "        \n",
    "        return True\n",
    "    \n",
    "    \n",
    "    def __fix_word(self, word: str):\n",
    "        if word in self.fixed_word_dict:\n",
    "            return self.fixed_word_dict[word]\n",
    "        \n",
    "        candidate = self.approximate_matcher.get(word)\n",
    "        if candidate is not None and len(candidate) > 0:\n",
    "            fixed_word = candidate[0][1]\n",
    "            self.fixed_word_dict[word] = fixed_word\n",
    "            return fixed_word\n",
    "        \n",
    "        return None"
   ]
  },
  {
   "cell_type": "code",
   "execution_count": 6,
   "metadata": {},
   "outputs": [],
   "source": [
    "preprocess = Preprocessor(word2vec)"
   ]
  },
  {
   "cell_type": "code",
   "execution_count": 7,
   "metadata": {},
   "outputs": [
    {
     "data": {
      "text/plain": [
       "[['Куди', 'мені', 'йти']]"
      ]
     },
     "execution_count": 7,
     "metadata": {},
     "output_type": "execute_result"
    }
   ],
   "source": [
    "preprocess.preprocess_texts([\"Куди мені йт?\"])"
   ]
  },
  {
   "cell_type": "markdown",
   "metadata": {},
   "source": [
    "### Load data"
   ]
  },
  {
   "cell_type": "code",
   "execution_count": 8,
   "metadata": {},
   "outputs": [],
   "source": [
    "import pandas as pd"
   ]
  },
  {
   "cell_type": "code",
   "execution_count": 9,
   "metadata": {},
   "outputs": [],
   "source": [
    "df = pd.read_csv(\"data/reviews.csv\")"
   ]
  },
  {
   "cell_type": "code",
   "execution_count": 10,
   "metadata": {},
   "outputs": [
    {
     "data": {
      "text/html": [
       "<div>\n",
       "<style scoped>\n",
       "    .dataframe tbody tr th:only-of-type {\n",
       "        vertical-align: middle;\n",
       "    }\n",
       "\n",
       "    .dataframe tbody tr th {\n",
       "        vertical-align: top;\n",
       "    }\n",
       "\n",
       "    .dataframe thead th {\n",
       "        text-align: right;\n",
       "    }\n",
       "</style>\n",
       "<table border=\"1\" class=\"dataframe\">\n",
       "  <thead>\n",
       "    <tr style=\"text-align: right;\">\n",
       "      <th></th>\n",
       "      <th>Unnamed: 0</th>\n",
       "      <th>title</th>\n",
       "      <th>pos_text</th>\n",
       "      <th>neg_text</th>\n",
       "      <th>ratingValue</th>\n",
       "      <th>bestRating</th>\n",
       "    </tr>\n",
       "  </thead>\n",
       "  <tbody>\n",
       "    <tr>\n",
       "      <th>0</th>\n",
       "      <td>0</td>\n",
       "      <td>Ідеально для ділової поїздки!</td>\n",
       "      <td>Ідеально для ділової поїздки! Господар зустрів...</td>\n",
       "      <td>NaN</td>\n",
       "      <td>10.0</td>\n",
       "      <td>10.0</td>\n",
       "    </tr>\n",
       "    <tr>\n",
       "      <th>1</th>\n",
       "      <td>1</td>\n",
       "      <td>Затишний, чистий номер з усіма зручностями.</td>\n",
       "      <td>Затишний, чистий номер з усіма зручностями. Чу...</td>\n",
       "      <td>При бронюванні вказала час прибуття о 7 ранку,...</td>\n",
       "      <td>9.2</td>\n",
       "      <td>10.0</td>\n",
       "    </tr>\n",
       "    <tr>\n",
       "      <th>2</th>\n",
       "      <td>2</td>\n",
       "      <td>Все сподобалося. Рекомендую</td>\n",
       "      <td>Чисто, тихо, комфортно. Зустрів і провів приєм...</td>\n",
       "      <td>На барі кава тільки 3 в 1. Хотілося звичайної ...</td>\n",
       "      <td>9.6</td>\n",
       "      <td>10.0</td>\n",
       "    </tr>\n",
       "    <tr>\n",
       "      <th>3</th>\n",
       "      <td>3</td>\n",
       "      <td>Зручне розташування,чудовий вигляд з вікна,в н...</td>\n",
       "      <td>Зручне розташування,чудовий вигляд з вікна,в н...</td>\n",
       "      <td>NaN</td>\n",
       "      <td>10.0</td>\n",
       "      <td>10.0</td>\n",
       "    </tr>\n",
       "    <tr>\n",
       "      <th>4</th>\n",
       "      <td>4</td>\n",
       "      <td>Все чудово: 9,9 балів!</td>\n",
       "      <td>Нові апартаменти на останньому поверсі ЖК, біл...</td>\n",
       "      <td>Немає терміналу для оплати кредиткою, тільки г...</td>\n",
       "      <td>10.0</td>\n",
       "      <td>10.0</td>\n",
       "    </tr>\n",
       "  </tbody>\n",
       "</table>\n",
       "</div>"
      ],
      "text/plain": [
       "   Unnamed: 0                                              title  \\\n",
       "0           0                      Ідеально для ділової поїздки!   \n",
       "1           1        Затишний, чистий номер з усіма зручностями.   \n",
       "2           2                        Все сподобалося. Рекомендую   \n",
       "3           3  Зручне розташування,чудовий вигляд з вікна,в н...   \n",
       "4           4                             Все чудово: 9,9 балів!   \n",
       "\n",
       "                                            pos_text  \\\n",
       "0  Ідеально для ділової поїздки! Господар зустрів...   \n",
       "1  Затишний, чистий номер з усіма зручностями. Чу...   \n",
       "2  Чисто, тихо, комфортно. Зустрів і провів приєм...   \n",
       "3  Зручне розташування,чудовий вигляд з вікна,в н...   \n",
       "4  Нові апартаменти на останньому поверсі ЖК, біл...   \n",
       "\n",
       "                                            neg_text  ratingValue  bestRating  \n",
       "0                                                NaN         10.0        10.0  \n",
       "1  При бронюванні вказала час прибуття о 7 ранку,...          9.2        10.0  \n",
       "2  На барі кава тільки 3 в 1. Хотілося звичайної ...          9.6        10.0  \n",
       "3                                                NaN         10.0        10.0  \n",
       "4  Немає терміналу для оплати кредиткою, тільки г...         10.0        10.0  "
      ]
     },
     "execution_count": 10,
     "metadata": {},
     "output_type": "execute_result"
    }
   ],
   "source": [
    "df.head()"
   ]
  },
  {
   "cell_type": "code",
   "execution_count": 11,
   "metadata": {},
   "outputs": [],
   "source": [
    "preprocessed_data_dict = {\n",
    "    'title': [],\n",
    "    'pos': [],\n",
    "    'neg': [],\n",
    "    'ratingValue': [],\n",
    "    'bestRating': [],\n",
    "    'rate' : []\n",
    "}"
   ]
  },
  {
   "cell_type": "code",
   "execution_count": 12,
   "metadata": {},
   "outputs": [
    {
     "data": {
      "text/plain": [
       "'Ідеально для ділової поїздки!'"
      ]
     },
     "execution_count": 12,
     "metadata": {},
     "output_type": "execute_result"
    }
   ],
   "source": [
    "df.iloc[0]['title']"
   ]
  },
  {
   "cell_type": "code",
   "execution_count": 13,
   "metadata": {},
   "outputs": [
    {
     "data": {
      "text/plain": [
       "['Nan']"
      ]
     },
     "execution_count": 13,
     "metadata": {},
     "output_type": "execute_result"
    }
   ],
   "source": [
    "preprocess.preprocess_text(df.iloc[0]['neg_text'])"
   ]
  },
  {
   "cell_type": "code",
   "execution_count": 14,
   "metadata": {},
   "outputs": [],
   "source": [
    "for i in range(0, len(df)):\n",
    "    preprocessed_data_dict['title'].append(preprocess.preprocess_text(df.iloc[i]['title']))\n",
    "    preprocessed_data_dict['pos'].append(preprocess.preprocess_text(df.iloc[i]['pos_text']))\n",
    "    preprocessed_data_dict['neg'].append(preprocess.preprocess_text(df.iloc[i]['neg_text']))\n",
    "    \n",
    "    ratingValue = df.iloc[i]['ratingValue']\n",
    "    preprocessed_data_dict['ratingValue'].append(ratingValue)\n",
    "    preprocessed_data_dict['bestRating'].append(df.iloc[i]['bestRating'])\n",
    "    preprocessed_data_dict['rate'].append(-1)\n",
    "    if ratingValue > 6 and ratingValue < 9:\n",
    "        preprocessed_data_dict['rate'][-1] = 0\n",
    "    elif ratingValue >= 9:\n",
    "        preprocessed_data_dict['rate'][-1] = 1\n",
    "        \n",
    "#     preprocessed_data_dict['rate'].append(rate)"
   ]
  },
  {
   "cell_type": "code",
   "execution_count": 15,
   "metadata": {},
   "outputs": [
    {
     "data": {
      "text/plain": [
       "True"
      ]
     },
     "execution_count": 15,
     "metadata": {},
     "output_type": "execute_result"
    }
   ],
   "source": [
    "preprocessed_data_dict['ratingValue'][-1] >= 9"
   ]
  },
  {
   "cell_type": "code",
   "execution_count": 16,
   "metadata": {},
   "outputs": [
    {
     "data": {
      "text/plain": [
       "15993"
      ]
     },
     "execution_count": 16,
     "metadata": {},
     "output_type": "execute_result"
    }
   ],
   "source": [
    "len(preprocessed_data_dict['ratingValue'])"
   ]
  },
  {
   "cell_type": "code",
   "execution_count": 17,
   "metadata": {},
   "outputs": [
    {
     "data": {
      "text/plain": [
       "15993"
      ]
     },
     "execution_count": 17,
     "metadata": {},
     "output_type": "execute_result"
    }
   ],
   "source": [
    "len(preprocessed_data_dict['rate'])"
   ]
  },
  {
   "cell_type": "code",
   "execution_count": 18,
   "metadata": {},
   "outputs": [
    {
     "data": {
      "text/html": [
       "<div>\n",
       "<style scoped>\n",
       "    .dataframe tbody tr th:only-of-type {\n",
       "        vertical-align: middle;\n",
       "    }\n",
       "\n",
       "    .dataframe tbody tr th {\n",
       "        vertical-align: top;\n",
       "    }\n",
       "\n",
       "    .dataframe thead th {\n",
       "        text-align: right;\n",
       "    }\n",
       "</style>\n",
       "<table border=\"1\" class=\"dataframe\">\n",
       "  <thead>\n",
       "    <tr style=\"text-align: right;\">\n",
       "      <th></th>\n",
       "      <th>title</th>\n",
       "      <th>pos</th>\n",
       "      <th>neg</th>\n",
       "      <th>ratingValue</th>\n",
       "      <th>bestRating</th>\n",
       "      <th>rate</th>\n",
       "    </tr>\n",
       "  </thead>\n",
       "  <tbody>\n",
       "    <tr>\n",
       "      <th>0</th>\n",
       "      <td>[Ідеально, для, ділової, поїздки]</td>\n",
       "      <td>[Ідеально, для, ділової, поїздки, Господар, зу...</td>\n",
       "      <td>[Nan]</td>\n",
       "      <td>10.0</td>\n",
       "      <td>10.0</td>\n",
       "      <td>1</td>\n",
       "    </tr>\n",
       "    <tr>\n",
       "      <th>1</th>\n",
       "      <td>[Затишний, чистий, номер, з, усіма, зручностями]</td>\n",
       "      <td>[Затишний, чистий, номер, з, усіма, зручностям...</td>\n",
       "      <td>[При, бронюванні, вказала, час, прибуття, о, 7...</td>\n",
       "      <td>9.2</td>\n",
       "      <td>10.0</td>\n",
       "      <td>1</td>\n",
       "    </tr>\n",
       "    <tr>\n",
       "      <th>2</th>\n",
       "      <td>[Все, сподобалося, Рекомендую]</td>\n",
       "      <td>[Чисто, тихо, комфортно, Зустрів, і, провів, п...</td>\n",
       "      <td>[На, барі, кава, тільки, 3, в, 1, Хотілося, зв...</td>\n",
       "      <td>9.6</td>\n",
       "      <td>10.0</td>\n",
       "      <td>1</td>\n",
       "    </tr>\n",
       "    <tr>\n",
       "      <th>3</th>\n",
       "      <td>[Зручне, розташування, чудовий, вигляд, з, вік...</td>\n",
       "      <td>[Зручне, розташування, чудовий, вигляд, з, вік...</td>\n",
       "      <td>[Nan]</td>\n",
       "      <td>10.0</td>\n",
       "      <td>10.0</td>\n",
       "      <td>1</td>\n",
       "    </tr>\n",
       "    <tr>\n",
       "      <th>4</th>\n",
       "      <td>[Все, чудово, 9,9, балів]</td>\n",
       "      <td>[Нові, апартаменти, на, останньому, поверсі, Ж...</td>\n",
       "      <td>[Немає, терміналу, для, оплати, кредиткою, тіл...</td>\n",
       "      <td>10.0</td>\n",
       "      <td>10.0</td>\n",
       "      <td>1</td>\n",
       "    </tr>\n",
       "  </tbody>\n",
       "</table>\n",
       "</div>"
      ],
      "text/plain": [
       "                                               title  \\\n",
       "0                  [Ідеально, для, ділової, поїздки]   \n",
       "1   [Затишний, чистий, номер, з, усіма, зручностями]   \n",
       "2                     [Все, сподобалося, Рекомендую]   \n",
       "3  [Зручне, розташування, чудовий, вигляд, з, вік...   \n",
       "4                          [Все, чудово, 9,9, балів]   \n",
       "\n",
       "                                                 pos  \\\n",
       "0  [Ідеально, для, ділової, поїздки, Господар, зу...   \n",
       "1  [Затишний, чистий, номер, з, усіма, зручностям...   \n",
       "2  [Чисто, тихо, комфортно, Зустрів, і, провів, п...   \n",
       "3  [Зручне, розташування, чудовий, вигляд, з, вік...   \n",
       "4  [Нові, апартаменти, на, останньому, поверсі, Ж...   \n",
       "\n",
       "                                                 neg  ratingValue  bestRating  \\\n",
       "0                                              [Nan]         10.0        10.0   \n",
       "1  [При, бронюванні, вказала, час, прибуття, о, 7...          9.2        10.0   \n",
       "2  [На, барі, кава, тільки, 3, в, 1, Хотілося, зв...          9.6        10.0   \n",
       "3                                              [Nan]         10.0        10.0   \n",
       "4  [Немає, терміналу, для, оплати, кредиткою, тіл...         10.0        10.0   \n",
       "\n",
       "   rate  \n",
       "0     1  \n",
       "1     1  \n",
       "2     1  \n",
       "3     1  \n",
       "4     1  "
      ]
     },
     "execution_count": 18,
     "metadata": {},
     "output_type": "execute_result"
    }
   ],
   "source": [
    "preprocessed_df = pd.DataFrame.from_dict(preprocessed_data_dict)\n",
    "preprocessed_df.head()"
   ]
  },
  {
   "cell_type": "code",
   "execution_count": 19,
   "metadata": {},
   "outputs": [
    {
     "data": {
      "text/plain": [
       "['Ідеально', 'для', 'ділової', 'поїздки']"
      ]
     },
     "execution_count": 19,
     "metadata": {},
     "output_type": "execute_result"
    }
   ],
   "source": [
    "preprocessed_df.iloc[0]['title']"
   ]
  },
  {
   "cell_type": "code",
   "execution_count": 20,
   "metadata": {},
   "outputs": [],
   "source": [
    "preprocessed_df.to_csv(\"data/reviews_preprocessed.csv\")"
   ]
  },
  {
   "cell_type": "code",
   "execution_count": null,
   "metadata": {},
   "outputs": [],
   "source": []
  }
 ],
 "metadata": {
  "kernelspec": {
   "display_name": "Python 3",
   "language": "python",
   "name": "python3"
  },
  "language_info": {
   "codemirror_mode": {
    "name": "ipython",
    "version": 3
   },
   "file_extension": ".py",
   "mimetype": "text/x-python",
   "name": "python",
   "nbconvert_exporter": "python",
   "pygments_lexer": "ipython3",
   "version": "3.6.8"
  }
 },
 "nbformat": 4,
 "nbformat_minor": 2
}
