{
 "cells": [
  {
   "cell_type": "code",
   "execution_count": 1,
   "metadata": {},
   "outputs": [],
   "source": [
    "import pandas as pd\n",
    "import numpy as np\n",
    "from sklearn.feature_extraction.text import CountVectorizer\n",
    "\n",
    "%matplotlib notebook\n",
    "import matplotlib.pyplot as plt\n",
    "\n"
   ]
  },
  {
   "cell_type": "code",
   "execution_count": 2,
   "metadata": {},
   "outputs": [],
   "source": [
    "pos_unigram_scores = pd.read_csv('./data/unigram-pmi-positive-scores.csv')\n",
    "pos_bigram_scores = pd.read_csv('./data/bigram-pmi-positive-scores.csv')\n",
    "pos_trigram_scores = pd.read_csv('./data/trigram-pmi-positive-scores.csv')"
   ]
  },
  {
   "cell_type": "code",
   "execution_count": 3,
   "metadata": {},
   "outputs": [],
   "source": [
    "neg_unigram_scores = pd.read_csv('./data/unigram-pmi-negative-scores.csv')\n",
    "neg_bigram_scores = pd.read_csv('./data/bigram-pmi-negative-scores.csv')\n",
    "neg_trigram_scores = pd.read_csv('./data/trigram-pmi-negative-scores.csv')"
   ]
  },
  {
   "cell_type": "markdown",
   "metadata": {},
   "source": [
    "#### The class for acquiriung top trigrams, bigrams and inigrams with specific threshold"
   ]
  },
  {
   "cell_type": "code",
   "execution_count": 4,
   "metadata": {},
   "outputs": [],
   "source": [
    "class NgramManager:\n",
    "    INVALID_SCORE = -100\n",
    "    \n",
    "    def __init__(self, unigram_scores, \n",
    "                 bigram_scores, \n",
    "                 trigram_scores, \n",
    "                 stop_words=None, \n",
    "                 threshold=None):\n",
    "        \n",
    "        self.trigram_scores = trigram_scores\n",
    "        self.bigram_scores = bigram_scores\n",
    "        self.unigram_scores = unigram_scores\n",
    "        \n",
    "        self.__threshold = threshold        \n",
    "        self.__ignore_score = False\n",
    "        self.__stop_words = stop_words\n",
    "        \n",
    "    \n",
    "    def ignore_score(self, enabled):\n",
    "        self.__ignore_score = enabled\n",
    "        \n",
    "        \n",
    "    def find_important_unigrams(self, text: str):\n",
    "        valuable_trigrams = self.find_importnat_ngrams_for_text(text, \n",
    "                                                          self.unigram_scores, \n",
    "                                                          (1,1))\n",
    "        \n",
    "        return valuable_trigrams\n",
    "\n",
    "\n",
    "        \n",
    "    def find_important_bigrams(self, text: str):\n",
    "        valuable_trigrams = self.find_importnat_ngrams_for_text(text, \n",
    "                                                          self.bigram_scores, \n",
    "                                                          (2,2))\n",
    "        \n",
    "        return valuable_trigrams\n",
    "\n",
    "\n",
    "    \n",
    "    def find_important_trigrams(self, text: str):\n",
    "        valuable_trigrams = self.find_importnat_ngrams_for_text(text, \n",
    "                                                          self.trigram_scores, \n",
    "                                                          (3,3))\n",
    "        \n",
    "        return valuable_trigrams\n",
    "    \n",
    "        \n",
    "     \n",
    "    def find_importnat_ngrams_for_text(self, text: str, ngram_scores, ngram_range):\n",
    "        ngrams = NgramManager.get_all_ngrams_for_text(text, ngram_range, self.__stop_words)\n",
    "        \n",
    "        important_ngrams = list()\n",
    "        \n",
    "        for ngram in ngrams:\n",
    "            score = self.find_ngram_score(ngram_scores, ngram)\n",
    "            \n",
    "            if score == self.INVALID_SCORE:\n",
    "                continue\n",
    "                \n",
    "            if self.__ignore_score:\n",
    "                important_ngrams.append((ngram, score))\n",
    "                continue\n",
    "            \n",
    "            if self.__threshold is None:\n",
    "                important_ngrams.append((ngram, score))\n",
    "            else:\n",
    "                if score >= self.__threshold:\n",
    "                    important_ngrams.append((ngram, score))\n",
    "                            \n",
    "        important_ngrams.sort(key=lambda tup: tup[1], reverse=True)\n",
    "                \n",
    "        return important_ngrams\n",
    "\n",
    "    @staticmethod\n",
    "    def find_ngram_score(ngram_scores, ngram: str):\n",
    "        found_df = ngram_scores[ngram_scores['ngram'] == ngram]\n",
    "        if len(found_df) == 0:\n",
    "            return NgramManager.INVALID_SCORE\n",
    "\n",
    "        return found_df['score'].values[0] \n",
    "    \n",
    "    @staticmethod\n",
    "    def get_all_ngrams_for_text(text: str, ngram_range, stop_words):\n",
    "        try:\n",
    "            vectorizer = CountVectorizer(ngram_range=ngram_range, stop_words=stop_words)\n",
    "            countvector = vectorizer.fit_transform([text])\n",
    "            ngrams = vectorizer.get_feature_names()\n",
    "            return ngrams\n",
    "        except:\n",
    "            return []"
   ]
  },
  {
   "cell_type": "markdown",
   "metadata": {},
   "source": [
    "### Load dataset"
   ]
  },
  {
   "cell_type": "code",
   "execution_count": 5,
   "metadata": {},
   "outputs": [
    {
     "name": "stdout",
     "output_type": "stream",
     "text": [
      "analyze.ipynb\r\n",
      "booking-rating-for-one-hot-test.csv\r\n",
      "booking-rating-for-one-hot-train.csv\r\n",
      "booking-rating-for-one-hot-val.csv\r\n",
      "booking-rating-test.csv\r\n",
      "booking-rating-train.csv\r\n",
      "booking-rating-val.csv\r\n",
      "booking-sentences-test.csv\r\n",
      "booking-sentences-train.csv\r\n",
      "booking-sentences-val.csv\r\n",
      "booking-test.csv\r\n",
      "booking-train.csv\r\n",
      "booking-val.csv\r\n",
      "create-dataset-for-rating-classification.ipynb\r\n",
      "create-detect-ngram-dataset.ipynb\r\n",
      "create-sentence-classification-dataset.ipynb\r\n",
      "dnipro-reviews.csv\r\n",
      "ivano-frankivsk-reviews.csv\r\n",
      "kharkiv-reviews.csv\r\n",
      "kyiv-reviews.csv\r\n",
      "lviv-reviews.csv\r\n",
      "odesa-reviews.csv\r\n",
      "\u001b[34mtranslated\u001b[m\u001b[m\r\n",
      "uzhgorod-reviews.csv\r\n"
     ]
    }
   ],
   "source": [
    "!ls dataset/booking"
   ]
  },
  {
   "cell_type": "code",
   "execution_count": 6,
   "metadata": {},
   "outputs": [],
   "source": [
    "def read_stop_words(file):\n",
    "    with open(file) as f:\n",
    "        stop_words = f.read().split('\\n')\n",
    "\n",
    "    return stop_words"
   ]
  },
  {
   "cell_type": "code",
   "execution_count": 7,
   "metadata": {},
   "outputs": [],
   "source": [
    "uk_stop_words = read_stop_words('./data/ukrainian-stopwords.txt')"
   ]
  },
  {
   "cell_type": "code",
   "execution_count": null,
   "metadata": {},
   "outputs": [],
   "source": []
  },
  {
   "cell_type": "code",
   "execution_count": 8,
   "metadata": {},
   "outputs": [],
   "source": [
    "senteces_files = [\n",
    "    'dataset/booking/booking-sentences-train.csv',\n",
    "    'dataset/booking/booking-sentences-test.csv',\n",
    "    'dataset/booking/booking-sentences-val.csv',\n",
    "]"
   ]
  },
  {
   "cell_type": "code",
   "execution_count": 9,
   "metadata": {},
   "outputs": [],
   "source": [
    "def read_all_frames(files):\n",
    "    frames= []\n",
    "    for file in files:\n",
    "        df = pd.read_csv(file)\n",
    "        frames.append(df)\n",
    "    \n",
    "    return pd.concat(frames)"
   ]
  },
  {
   "cell_type": "code",
   "execution_count": 10,
   "metadata": {},
   "outputs": [],
   "source": [
    "full_df = read_all_frames(senteces_files)"
   ]
  },
  {
   "cell_type": "code",
   "execution_count": 11,
   "metadata": {},
   "outputs": [
    {
     "data": {
      "text/html": [
       "<div>\n",
       "<style scoped>\n",
       "    .dataframe tbody tr th:only-of-type {\n",
       "        vertical-align: middle;\n",
       "    }\n",
       "\n",
       "    .dataframe tbody tr th {\n",
       "        vertical-align: top;\n",
       "    }\n",
       "\n",
       "    .dataframe thead th {\n",
       "        text-align: right;\n",
       "    }\n",
       "</style>\n",
       "<table border=\"1\" class=\"dataframe\">\n",
       "  <thead>\n",
       "    <tr style=\"text-align: right;\">\n",
       "      <th></th>\n",
       "      <th>sentence</th>\n",
       "      <th>label</th>\n",
       "    </tr>\n",
       "  </thead>\n",
       "  <tbody>\n",
       "    <tr>\n",
       "      <th>0</th>\n",
       "      <td>Хороший готель.</td>\n",
       "      <td>pos_2</td>\n",
       "    </tr>\n",
       "    <tr>\n",
       "      <th>1</th>\n",
       "      <td>Перебувала в готелі одну добу.</td>\n",
       "      <td>pos_2</td>\n",
       "    </tr>\n",
       "    <tr>\n",
       "      <th>2</th>\n",
       "      <td>Повернули полную терасовані футболку.</td>\n",
       "      <td>neg_1</td>\n",
       "    </tr>\n",
       "    <tr>\n",
       "      <th>3</th>\n",
       "      <td>Комфортні номери, хороша кухня)</td>\n",
       "      <td>pos_2</td>\n",
       "    </tr>\n",
       "    <tr>\n",
       "      <th>4</th>\n",
       "      <td>Прогулянка до пляжу займала лише 20 хвилин, че...</td>\n",
       "      <td>pos_2</td>\n",
       "    </tr>\n",
       "    <tr>\n",
       "      <th>5</th>\n",
       "      <td>У головному корпусі до 23ч галаслива музика і ...</td>\n",
       "      <td>neg_1</td>\n",
       "    </tr>\n",
       "    <tr>\n",
       "      <th>6</th>\n",
       "      <td>Ціна для такого номера (6 м.кв.) дорога.</td>\n",
       "      <td>neg_1</td>\n",
       "    </tr>\n",
       "    <tr>\n",
       "      <th>7</th>\n",
       "      <td>Добре місцезнаходження, своя приватна автостоя...</td>\n",
       "      <td>pos_2</td>\n",
       "    </tr>\n",
       "    <tr>\n",
       "      <th>8</th>\n",
       "      <td>Смачний сніданок, хороший номер, гостинний пер...</td>\n",
       "      <td>pos_2</td>\n",
       "    </tr>\n",
       "    <tr>\n",
       "      <th>9</th>\n",
       "      <td>І відвертий плінтус на 3 поверсі в коридорі . ...</td>\n",
       "      <td>neg_1</td>\n",
       "    </tr>\n",
       "    <tr>\n",
       "      <th>10</th>\n",
       "      <td>Гарячої води немає, туалетного паперу немає, в...</td>\n",
       "      <td>neg_1</td>\n",
       "    </tr>\n",
       "    <tr>\n",
       "      <th>11</th>\n",
       "      <td>На прохання поміняти на більш дешеву, дівчина ...</td>\n",
       "      <td>neg_1</td>\n",
       "    </tr>\n",
       "    <tr>\n",
       "      <th>12</th>\n",
       "      <td>Перебої з гарячою водою, прохолода в номерах, ...</td>\n",
       "      <td>neg_1</td>\n",
       "    </tr>\n",
       "    <tr>\n",
       "      <th>13</th>\n",
       "      <td>Ввічливий персонал.</td>\n",
       "      <td>pos_2</td>\n",
       "    </tr>\n",
       "    <tr>\n",
       "      <th>14</th>\n",
       "      <td>Ліжка в звичайний двох вмісних номерах, просто...</td>\n",
       "      <td>neg_1</td>\n",
       "    </tr>\n",
       "    <tr>\n",
       "      <th>15</th>\n",
       "      <td>Персонал був не завжди ввічливим.</td>\n",
       "      <td>neg_1</td>\n",
       "    </tr>\n",
       "    <tr>\n",
       "      <th>16</th>\n",
       "      <td>У день від &amp; #39; їзду на шведському столі не ...</td>\n",
       "      <td>neg_1</td>\n",
       "    </tr>\n",
       "    <tr>\n",
       "      <th>17</th>\n",
       "      <td>Якість надаваних послуг значно впала.</td>\n",
       "      <td>neg_1</td>\n",
       "    </tr>\n",
       "    <tr>\n",
       "      <th>18</th>\n",
       "      <td>По - перше, дуже зручне розташування – як з по...</td>\n",
       "      <td>pos_2</td>\n",
       "    </tr>\n",
       "    <tr>\n",
       "      <th>19</th>\n",
       "      <td>Та все .</td>\n",
       "      <td>pos_2</td>\n",
       "    </tr>\n",
       "    <tr>\n",
       "      <th>20</th>\n",
       "      <td>Затишно, поряд з метро.</td>\n",
       "      <td>pos_2</td>\n",
       "    </tr>\n",
       "    <tr>\n",
       "      <th>21</th>\n",
       "      <td>Зупинилися на ніч і вранці після Несмачного сн...</td>\n",
       "      <td>neg_1</td>\n",
       "    </tr>\n",
       "    <tr>\n",
       "      <th>22</th>\n",
       "      <td>Місцезнаходження і персонал просто Супер!</td>\n",
       "      <td>pos_2</td>\n",
       "    </tr>\n",
       "    <tr>\n",
       "      <th>23</th>\n",
       "      <td>Внизу є невеликий супермаркет, з хорошою піцою...</td>\n",
       "      <td>pos_2</td>\n",
       "    </tr>\n",
       "    <tr>\n",
       "      <th>24</th>\n",
       "      <td>Пізня прибирання в номері, в 17 небажана.</td>\n",
       "      <td>neg_1</td>\n",
       "    </tr>\n",
       "    <tr>\n",
       "      <th>25</th>\n",
       "      <td>Відсутність халатів, капців і т.д. не впливає ...</td>\n",
       "      <td>neg_1</td>\n",
       "    </tr>\n",
       "    <tr>\n",
       "      <th>26</th>\n",
       "      <td>Гарний вид з вікна.</td>\n",
       "      <td>pos_2</td>\n",
       "    </tr>\n",
       "    <tr>\n",
       "      <th>27</th>\n",
       "      <td>Обслуговування ду-у-уже сильно потрібно підтяг...</td>\n",
       "      <td>neg_1</td>\n",
       "    </tr>\n",
       "    <tr>\n",
       "      <th>28</th>\n",
       "      <td>Скористатися паризькою (не впевнений чи є там ...</td>\n",
       "      <td>neg_1</td>\n",
       "    </tr>\n",
       "    <tr>\n",
       "      <th>29</th>\n",
       "      <td>Дуже важливий персонал.За таку ціну і за таке ...</td>\n",
       "      <td>pos_2</td>\n",
       "    </tr>\n",
       "    <tr>\n",
       "      <th>...</th>\n",
       "      <td>...</td>\n",
       "      <td>...</td>\n",
       "    </tr>\n",
       "    <tr>\n",
       "      <th>119468</th>\n",
       "      <td>Прохання до адміністрації готелю .</td>\n",
       "      <td>neg_1</td>\n",
       "    </tr>\n",
       "    <tr>\n",
       "      <th>119469</th>\n",
       "      <td>Персонал дуже привабливий .</td>\n",
       "      <td>pos_2</td>\n",
       "    </tr>\n",
       "    <tr>\n",
       "      <th>119470</th>\n",
       "      <td>Чисто, тепло, комфортно, туалетні приналежност...</td>\n",
       "      <td>pos_2</td>\n",
       "    </tr>\n",
       "    <tr>\n",
       "      <th>119471</th>\n",
       "      <td>Вдячна за чистоту, мінімалізм у оформленні при...</td>\n",
       "      <td>pos_2</td>\n",
       "    </tr>\n",
       "    <tr>\n",
       "      <th>119472</th>\n",
       "      <td>Добра господиня.</td>\n",
       "      <td>pos_2</td>\n",
       "    </tr>\n",
       "    <tr>\n",
       "      <th>119473</th>\n",
       "      <td>Йогурт зі злаками, круасани і т . д.</td>\n",
       "      <td>neg_1</td>\n",
       "    </tr>\n",
       "    <tr>\n",
       "      <th>119474</th>\n",
       "      <td>Відсутність, видають купон в \" Львівські круас...</td>\n",
       "      <td>neg_1</td>\n",
       "    </tr>\n",
       "    <tr>\n",
       "      <th>119475</th>\n",
       "      <td>Хороші сніданки і тихі номери.</td>\n",
       "      <td>pos_2</td>\n",
       "    </tr>\n",
       "    <tr>\n",
       "      <th>119476</th>\n",
       "      <td>В центрі. все поруч, все недорого.</td>\n",
       "      <td>pos_2</td>\n",
       "    </tr>\n",
       "    <tr>\n",
       "      <th>119477</th>\n",
       "      <td>Відсутність фена в номері, моторошний запах во...</td>\n",
       "      <td>neg_1</td>\n",
       "    </tr>\n",
       "    <tr>\n",
       "      <th>119478</th>\n",
       "      <td>Провели 4 незабутніх і щасливих дні .</td>\n",
       "      <td>pos_2</td>\n",
       "    </tr>\n",
       "    <tr>\n",
       "      <th>119479</th>\n",
       "      <td>Чисто.</td>\n",
       "      <td>pos_2</td>\n",
       "    </tr>\n",
       "    <tr>\n",
       "      <th>119480</th>\n",
       "      <td>Не рекомендую!!! Фото не відповідає реалії, шу...</td>\n",
       "      <td>neg_1</td>\n",
       "    </tr>\n",
       "    <tr>\n",
       "      <th>119481</th>\n",
       "      <td>Готель розташований в центрі, поруч парк з озе...</td>\n",
       "      <td>pos_2</td>\n",
       "    </tr>\n",
       "    <tr>\n",
       "      <th>119482</th>\n",
       "      <td>Недолік один- немає ліфта, довелося підніматис...</td>\n",
       "      <td>neg_1</td>\n",
       "    </tr>\n",
       "    <tr>\n",
       "      <th>119483</th>\n",
       "      <td>Сніданок дуже смачний, великий вибір продуктів...</td>\n",
       "      <td>pos_2</td>\n",
       "    </tr>\n",
       "    <tr>\n",
       "      <th>119484</th>\n",
       "      <td>Nan</td>\n",
       "      <td>neg_1</td>\n",
       "    </tr>\n",
       "    <tr>\n",
       "      <th>119485</th>\n",
       "      <td>У той же час дуже тихе місце для гарного відпо...</td>\n",
       "      <td>pos_2</td>\n",
       "    </tr>\n",
       "    <tr>\n",
       "      <th>119486</th>\n",
       "      <td>Ввічливий персонал!</td>\n",
       "      <td>pos_2</td>\n",
       "    </tr>\n",
       "    <tr>\n",
       "      <th>119487</th>\n",
       "      <td>Задоволеними лишились не тільки ми, а й наші б...</td>\n",
       "      <td>pos_2</td>\n",
       "    </tr>\n",
       "    <tr>\n",
       "      <th>119488</th>\n",
       "      <td>Привітний персонал.</td>\n",
       "      <td>pos_2</td>\n",
       "    </tr>\n",
       "    <tr>\n",
       "      <th>119489</th>\n",
       "      <td>Я пішла поговорити з адміністратором, але мені...</td>\n",
       "      <td>neg_1</td>\n",
       "    </tr>\n",
       "    <tr>\n",
       "      <th>119490</th>\n",
       "      <td>Відмінний готель, відмінний номер.</td>\n",
       "      <td>pos_2</td>\n",
       "    </tr>\n",
       "    <tr>\n",
       "      <th>119491</th>\n",
       "      <td>Кімната була на 3 поверсі, але вночі чути, кол...</td>\n",
       "      <td>neg_1</td>\n",
       "    </tr>\n",
       "    <tr>\n",
       "      <th>119492</th>\n",
       "      <td>Повна відповідність фотографій об &amp; #39; єкта ...</td>\n",
       "      <td>pos_2</td>\n",
       "    </tr>\n",
       "    <tr>\n",
       "      <th>119493</th>\n",
       "      <td>Персонал ввічливий .</td>\n",
       "      <td>pos_2</td>\n",
       "    </tr>\n",
       "    <tr>\n",
       "      <th>119494</th>\n",
       "      <td>Простора вітальня з вікном від стелі до підлоги .</td>\n",
       "      <td>pos_2</td>\n",
       "    </tr>\n",
       "    <tr>\n",
       "      <th>119495</th>\n",
       "      <td>А в підсумку дістався нам номер з роздільними ...</td>\n",
       "      <td>neg_1</td>\n",
       "    </tr>\n",
       "    <tr>\n",
       "      <th>119496</th>\n",
       "      <td>Хороший персонал, чисто, тепло, ключ карта зру...</td>\n",
       "      <td>pos_2</td>\n",
       "    </tr>\n",
       "    <tr>\n",
       "      <th>119497</th>\n",
       "      <td>Ліжко вставлена між 3 стін .</td>\n",
       "      <td>neg_1</td>\n",
       "    </tr>\n",
       "  </tbody>\n",
       "</table>\n",
       "<p>520710 rows × 2 columns</p>\n",
       "</div>"
      ],
      "text/plain": [
       "                                                 sentence  label\n",
       "0                                         Хороший готель.  pos_2\n",
       "1                          Перебувала в готелі одну добу.  pos_2\n",
       "2                   Повернули полную терасовані футболку.  neg_1\n",
       "3                         Комфортні номери, хороша кухня)  pos_2\n",
       "4       Прогулянка до пляжу займала лише 20 хвилин, че...  pos_2\n",
       "5       У головному корпусі до 23ч галаслива музика і ...  neg_1\n",
       "6                Ціна для такого номера (6 м.кв.) дорога.  neg_1\n",
       "7       Добре місцезнаходження, своя приватна автостоя...  pos_2\n",
       "8       Смачний сніданок, хороший номер, гостинний пер...  pos_2\n",
       "9       І відвертий плінтус на 3 поверсі в коридорі . ...  neg_1\n",
       "10      Гарячої води немає, туалетного паперу немає, в...  neg_1\n",
       "11      На прохання поміняти на більш дешеву, дівчина ...  neg_1\n",
       "12      Перебої з гарячою водою, прохолода в номерах, ...  neg_1\n",
       "13                                    Ввічливий персонал.  pos_2\n",
       "14      Ліжка в звичайний двох вмісних номерах, просто...  neg_1\n",
       "15                      Персонал був не завжди ввічливим.  neg_1\n",
       "16      У день від & #39; їзду на шведському столі не ...  neg_1\n",
       "17                  Якість надаваних послуг значно впала.  neg_1\n",
       "18      По - перше, дуже зручне розташування – як з по...  pos_2\n",
       "19                                               Та все .  pos_2\n",
       "20                                Затишно, поряд з метро.  pos_2\n",
       "21      Зупинилися на ніч і вранці після Несмачного сн...  neg_1\n",
       "22              Місцезнаходження і персонал просто Супер!  pos_2\n",
       "23      Внизу є невеликий супермаркет, з хорошою піцою...  pos_2\n",
       "24              Пізня прибирання в номері, в 17 небажана.  neg_1\n",
       "25      Відсутність халатів, капців і т.д. не впливає ...  neg_1\n",
       "26                                    Гарний вид з вікна.  pos_2\n",
       "27      Обслуговування ду-у-уже сильно потрібно підтяг...  neg_1\n",
       "28      Скористатися паризькою (не впевнений чи є там ...  neg_1\n",
       "29      Дуже важливий персонал.За таку ціну і за таке ...  pos_2\n",
       "...                                                   ...    ...\n",
       "119468                 Прохання до адміністрації готелю .  neg_1\n",
       "119469                        Персонал дуже привабливий .  pos_2\n",
       "119470  Чисто, тепло, комфортно, туалетні приналежност...  pos_2\n",
       "119471  Вдячна за чистоту, мінімалізм у оформленні при...  pos_2\n",
       "119472                                   Добра господиня.  pos_2\n",
       "119473               Йогурт зі злаками, круасани і т . д.  neg_1\n",
       "119474  Відсутність, видають купон в \" Львівські круас...  neg_1\n",
       "119475                     Хороші сніданки і тихі номери.  pos_2\n",
       "119476                 В центрі. все поруч, все недорого.  pos_2\n",
       "119477  Відсутність фена в номері, моторошний запах во...  neg_1\n",
       "119478              Провели 4 незабутніх і щасливих дні .  pos_2\n",
       "119479                                             Чисто.  pos_2\n",
       "119480  Не рекомендую!!! Фото не відповідає реалії, шу...  neg_1\n",
       "119481  Готель розташований в центрі, поруч парк з озе...  pos_2\n",
       "119482  Недолік один- немає ліфта, довелося підніматис...  neg_1\n",
       "119483  Сніданок дуже смачний, великий вибір продуктів...  pos_2\n",
       "119484                                                Nan  neg_1\n",
       "119485  У той же час дуже тихе місце для гарного відпо...  pos_2\n",
       "119486                                Ввічливий персонал!  pos_2\n",
       "119487  Задоволеними лишились не тільки ми, а й наші б...  pos_2\n",
       "119488                                Привітний персонал.  pos_2\n",
       "119489  Я пішла поговорити з адміністратором, але мені...  neg_1\n",
       "119490                 Відмінний готель, відмінний номер.  pos_2\n",
       "119491  Кімната була на 3 поверсі, але вночі чути, кол...  neg_1\n",
       "119492  Повна відповідність фотографій об & #39; єкта ...  pos_2\n",
       "119493                               Персонал ввічливий .  pos_2\n",
       "119494  Простора вітальня з вікном від стелі до підлоги .  pos_2\n",
       "119495  А в підсумку дістався нам номер з роздільними ...  neg_1\n",
       "119496  Хороший персонал, чисто, тепло, ключ карта зру...  pos_2\n",
       "119497                       Ліжко вставлена між 3 стін .  neg_1\n",
       "\n",
       "[520710 rows x 2 columns]"
      ]
     },
     "execution_count": 11,
     "metadata": {},
     "output_type": "execute_result"
    }
   ],
   "source": [
    "full_df"
   ]
  },
  {
   "cell_type": "code",
   "execution_count": 12,
   "metadata": {},
   "outputs": [
    {
     "data": {
      "text/plain": [
       "'pos_2'"
      ]
     },
     "execution_count": 12,
     "metadata": {},
     "output_type": "execute_result"
    }
   ],
   "source": [
    "full_df.iloc[0]['label']"
   ]
  },
  {
   "cell_type": "code",
   "execution_count": 13,
   "metadata": {},
   "outputs": [],
   "source": [
    "def get_pos_neg_text(df):\n",
    "    pos, neg = [], []\n",
    "    for i in range(0, len(df)):\n",
    "        if df.iloc[i]['label'] == 'pos_2':\n",
    "            pos.append(df.iloc[i]['sentence'])\n",
    "        elif df.iloc[i]['label'] == 'neg_1':\n",
    "            neg.append(df.iloc[i]['sentence'])\n",
    "            \n",
    "    return pos, neg\n",
    "        "
   ]
  },
  {
   "cell_type": "code",
   "execution_count": 14,
   "metadata": {},
   "outputs": [],
   "source": [
    "pos_texts, neg_texts = get_pos_neg_text(full_df)"
   ]
  },
  {
   "cell_type": "code",
   "execution_count": null,
   "metadata": {},
   "outputs": [],
   "source": [
    "neg_texts"
   ]
  },
  {
   "cell_type": "code",
   "execution_count": null,
   "metadata": {},
   "outputs": [],
   "source": []
  },
  {
   "cell_type": "code",
   "execution_count": null,
   "metadata": {},
   "outputs": [],
   "source": []
  },
  {
   "cell_type": "code",
   "execution_count": null,
   "metadata": {},
   "outputs": [],
   "source": [
    "pos_texts[:5]"
   ]
  },
  {
   "cell_type": "code",
   "execution_count": null,
   "metadata": {},
   "outputs": [],
   "source": [
    "neg_texts[:5]"
   ]
  },
  {
   "cell_type": "code",
   "execution_count": null,
   "metadata": {},
   "outputs": [],
   "source": [
    "def calc_num_of_coincided_ngram(texts, find_ngram_fn):\n",
    "    count = 0\n",
    "    for text in texts:\n",
    "        coincided_ngrams = find_ngram_fn(text)\n",
    "        if len(coincided_ngrams) > 0:\n",
    "            count += 1\n",
    "    return count"
   ]
  },
  {
   "cell_type": "code",
   "execution_count": null,
   "metadata": {},
   "outputs": [],
   "source": [
    "def show_statistics(tops, procents_unigrams, title):\n",
    "    labels = [f\"top - {top}\" for top in tops]\n",
    "    values = procents_unigrams.tolist()\n",
    "    indexes = np.arange(len(labels))\n",
    "    plt.bar(indexes, values, 0.8)\n",
    "    plt.xticks(indexes, labels)\n",
    "    plt.grid()\n",
    "    plt.ylim(0, 100)\n",
    "    plt.ylabel('%')\n",
    "    plt.title(title)\n",
    "    plt.show()"
   ]
  },
  {
   "cell_type": "code",
   "execution_count": null,
   "metadata": {},
   "outputs": [],
   "source": [
    "def create_n_grams_dataset(texts, unigram_scores, bigram_score, trigram_scores, stop_words):\n",
    "    ngram_mng = NgramManager(unigram_scores=unigram_scores, \n",
    "                             bigram_scores=bigram_score, \n",
    "                             trigram_scores=trigram_scores,\n",
    "                            stop_words=stop_words)\n",
    "    \n",
    "    unigrams, bigrams, trigrams = [], [], []\n",
    "    \n",
    "    for text in texts:\n",
    "        important_unigrams = ngram_mng.find_important_unigrams(text)\n",
    "        \n",
    "        if len(important_unigrams) > 0:\n",
    "            unigrams.append(important_unigrams[0][0])\n",
    "        else:\n",
    "            unigrams.append(None)\n",
    "            \n",
    "            \n",
    "        important_bigrams = ngram_mng.find_important_bigrams(text)\n",
    "        \n",
    "        if len(important_bigrams) > 0:\n",
    "            bigrams.append(important_bigrams[0][0])\n",
    "        else:\n",
    "            bigrams.append(None)\n",
    "            \n",
    "        \n",
    "        important_trigrams = ngram_mng.find_important_trigrams(text)\n",
    "        \n",
    "        if len(important_trigrams) > 0:\n",
    "            trigrams.append(important_trigrams[0][0])\n",
    "        else:\n",
    "            trigrams.append(None)\n",
    "            \n",
    "            \n",
    "    return unigrams, bigrams, trigrams "
   ]
  },
  {
   "cell_type": "markdown",
   "metadata": {},
   "source": [
    "### Positive data"
   ]
  },
  {
   "cell_type": "code",
   "execution_count": null,
   "metadata": {},
   "outputs": [],
   "source": [
    "pos_unigrams, pos_bigrams, pos_trigrams = create_n_grams_dataset(pos_texts, \n",
    "                                                                pos_unigram_scores,\n",
    "                                                                pos_bigram_scores,\n",
    "                                                                pos_trigram_scores,\n",
    "                                                                uk_stop_words)"
   ]
  },
  {
   "cell_type": "code",
   "execution_count": null,
   "metadata": {},
   "outputs": [],
   "source": [
    "len(pos_unigrams)"
   ]
  },
  {
   "cell_type": "code",
   "execution_count": null,
   "metadata": {},
   "outputs": [],
   "source": [
    "len(pos_bigrams)"
   ]
  },
  {
   "cell_type": "code",
   "execution_count": null,
   "metadata": {},
   "outputs": [],
   "source": [
    "len(pos_trigrams)"
   ]
  },
  {
   "cell_type": "code",
   "execution_count": null,
   "metadata": {},
   "outputs": [],
   "source": []
  },
  {
   "cell_type": "code",
   "execution_count": null,
   "metadata": {},
   "outputs": [],
   "source": [
    "positive_data = pd.DataFrame.from_dict({\"text\": pos_texts, \n",
    "                                        'unigram': pos_unigrams,\n",
    "                                        'bigram': pos_bigrams,\n",
    "                                        'trigram': pos_trigrams})"
   ]
  },
  {
   "cell_type": "code",
   "execution_count": null,
   "metadata": {},
   "outputs": [],
   "source": [
    "print(f\"There were found {100*sum(np.array(pos_unigrams) != None) / len(pos_texts)}% positive unigrams\")"
   ]
  },
  {
   "cell_type": "code",
   "execution_count": null,
   "metadata": {},
   "outputs": [],
   "source": [
    "print(f\"There were found {100*sum(np.array(pos_bigrams) != None) / len(pos_texts)}% positive bigrams\")"
   ]
  },
  {
   "cell_type": "code",
   "execution_count": null,
   "metadata": {},
   "outputs": [],
   "source": [
    "print(f\"There were found {100*sum(np.array(pos_trigrams) != None) / len(pos_texts)}% positive trigrams\")"
   ]
  },
  {
   "cell_type": "code",
   "execution_count": null,
   "metadata": {},
   "outputs": [],
   "source": [
    "positive_data"
   ]
  },
  {
   "cell_type": "code",
   "execution_count": null,
   "metadata": {},
   "outputs": [],
   "source": [
    "t = type(positive_data['trigram'].values[0])"
   ]
  },
  {
   "cell_type": "code",
   "execution_count": null,
   "metadata": {},
   "outputs": [],
   "source": [
    "t"
   ]
  },
  {
   "cell_type": "code",
   "execution_count": null,
   "metadata": {},
   "outputs": [],
   "source": [
    "positive_data['unigram'] = positive_data['unigram'].apply(lambda x: 'None' if type(x) is not str else x)"
   ]
  },
  {
   "cell_type": "code",
   "execution_count": null,
   "metadata": {},
   "outputs": [],
   "source": [
    "positive_data['unigram'].values[0]"
   ]
  },
  {
   "cell_type": "code",
   "execution_count": null,
   "metadata": {},
   "outputs": [],
   "source": [
    "len(positive_data.loc[positive_data['trigram'] != 'None'])"
   ]
  },
  {
   "cell_type": "code",
   "execution_count": null,
   "metadata": {},
   "outputs": [],
   "source": [
    "len(positive_data.loc[positive_data['bigram'] != 'None'])"
   ]
  },
  {
   "cell_type": "code",
   "execution_count": null,
   "metadata": {},
   "outputs": [],
   "source": [
    "len(positive_data.loc[positive_data['unigram'] != 'None'])"
   ]
  },
  {
   "cell_type": "code",
   "execution_count": null,
   "metadata": {},
   "outputs": [],
   "source": []
  },
  {
   "cell_type": "code",
   "execution_count": null,
   "metadata": {},
   "outputs": [],
   "source": [
    "positive_data.loc[positive_data['trigram'] != 'None']"
   ]
  },
  {
   "cell_type": "code",
   "execution_count": null,
   "metadata": {},
   "outputs": [],
   "source": [
    "positive_data.to_csv(\"./data/pos-sentence-ngram.csv\")"
   ]
  },
  {
   "cell_type": "code",
   "execution_count": null,
   "metadata": {},
   "outputs": [],
   "source": [
    "negative_data.to_csv(\"./data/pos-sentence-ngram.csv\")"
   ]
  },
  {
   "cell_type": "code",
   "execution_count": null,
   "metadata": {},
   "outputs": [],
   "source": []
  },
  {
   "cell_type": "code",
   "execution_count": null,
   "metadata": {},
   "outputs": [],
   "source": []
  },
  {
   "cell_type": "markdown",
   "metadata": {},
   "source": [
    "### Negative data"
   ]
  },
  {
   "cell_type": "code",
   "execution_count": null,
   "metadata": {},
   "outputs": [],
   "source": [
    "neg_unigrams, neg_bigrams, neg_trigrams = create_n_grams_dataset(neg_texts, \n",
    "                                                                neg_unigram_scores,\n",
    "                                                                neg_bigram_scores,\n",
    "                                                                neg_trigram_scores,\n",
    "                                                                uk_stop_words)"
   ]
  },
  {
   "cell_type": "code",
   "execution_count": null,
   "metadata": {},
   "outputs": [],
   "source": [
    "negative_data = pd.DataFrame.from_dict({\"text\": neg_texts, \n",
    "                                        'unigram': neg_unigrams,\n",
    "                                        'bigram': neg_bigrams,\n",
    "                                        'trigram': neg_trigrams})"
   ]
  },
  {
   "cell_type": "code",
   "execution_count": null,
   "metadata": {},
   "outputs": [],
   "source": [
    "print(f\"There were found {100*sum(np.array(neg_unigrams) != None) / len(neg_texts)}% negative unigrams\")"
   ]
  },
  {
   "cell_type": "code",
   "execution_count": null,
   "metadata": {},
   "outputs": [],
   "source": [
    "print(f\"There were found {100*sum(np.array(neg_bigrams) != None) / len(neg_texts)}% negative bigrams\")"
   ]
  },
  {
   "cell_type": "code",
   "execution_count": null,
   "metadata": {},
   "outputs": [],
   "source": [
    "print(f\"There were found {100*sum(np.array(neg_trigrams) != None) / len(neg_texts)}% negative trigrams\")"
   ]
  },
  {
   "cell_type": "code",
   "execution_count": null,
   "metadata": {},
   "outputs": [],
   "source": [
    "negative_data"
   ]
  },
  {
   "cell_type": "code",
   "execution_count": null,
   "metadata": {},
   "outputs": [],
   "source": [
    "negative_data['unigram'] = negative_data['unigram'].apply(lambda x: 'None' if type(x) is not str else x)"
   ]
  },
  {
   "cell_type": "code",
   "execution_count": null,
   "metadata": {},
   "outputs": [],
   "source": [
    "negative_data['unigram'].values[0]"
   ]
  },
  {
   "cell_type": "code",
   "execution_count": null,
   "metadata": {},
   "outputs": [],
   "source": [
    "len(negative_data['unigram'])"
   ]
  },
  {
   "cell_type": "code",
   "execution_count": null,
   "metadata": {},
   "outputs": [],
   "source": [
    "len(negative_data.loc[negative_data['bigram'] != 'None'])"
   ]
  },
  {
   "cell_type": "code",
   "execution_count": null,
   "metadata": {},
   "outputs": [],
   "source": [
    "len(negative_data.loc[negative_data['trigram'] != 'None'])"
   ]
  },
  {
   "cell_type": "code",
   "execution_count": null,
   "metadata": {},
   "outputs": [],
   "source": []
  },
  {
   "cell_type": "markdown",
   "metadata": {},
   "source": [
    "## Example for several pos and neg texts using default threshold"
   ]
  },
  {
   "cell_type": "code",
   "execution_count": null,
   "metadata": {},
   "outputs": [],
   "source": [
    "def get_all_important_phrases(text: str, ngram_mng):\n",
    "    unigrams = ngram_mng.find_important_unigrams(text)\n",
    "    bigrams = ngram_mng.find_important_bigrams(text)\n",
    "    trigrams = ngram_mng.find_important_trigrams(text)\n",
    "    \n",
    "    return unigrams, bigrams, trigrams"
   ]
  },
  {
   "cell_type": "markdown",
   "metadata": {},
   "source": [
    "## positive text"
   ]
  },
  {
   "cell_type": "code",
   "execution_count": null,
   "metadata": {},
   "outputs": [],
   "source": [
    "ngram_mng = NgramManager(pos_unigram_scores, pos_bigram_scores, pos_trigram_scores, uk_stop_words, threshold=None)"
   ]
  },
  {
   "cell_type": "code",
   "execution_count": null,
   "metadata": {},
   "outputs": [],
   "source": [
    "pos_text = df['text'][127]\n",
    "pos_text"
   ]
  },
  {
   "cell_type": "code",
   "execution_count": null,
   "metadata": {},
   "outputs": [],
   "source": [
    "pos_unigrams, pos_bigrams, pos_trigrams = get_all_important_phrases(pos_text, ngram_mng)"
   ]
  },
  {
   "cell_type": "code",
   "execution_count": null,
   "metadata": {},
   "outputs": [],
   "source": [
    "pos_unigrams"
   ]
  },
  {
   "cell_type": "code",
   "execution_count": null,
   "metadata": {},
   "outputs": [],
   "source": [
    "pos_bigrams"
   ]
  },
  {
   "cell_type": "code",
   "execution_count": null,
   "metadata": {},
   "outputs": [],
   "source": [
    "pos_trigrams"
   ]
  },
  {
   "cell_type": "markdown",
   "metadata": {},
   "source": [
    "## negative text"
   ]
  },
  {
   "cell_type": "code",
   "execution_count": null,
   "metadata": {},
   "outputs": [],
   "source": [
    "neg_ngram_mng = NgramManager(neg_unigram_scores, neg_bigram_scores, neg_trigram_scores, stop_words=uk_stop_words)"
   ]
  },
  {
   "cell_type": "code",
   "execution_count": null,
   "metadata": {},
   "outputs": [],
   "source": [
    "neg_unigrams, neg_bigrams, neg_trigrams = get_all_important_phrases(neg_text, neg_ngram_mng)"
   ]
  },
  {
   "cell_type": "code",
   "execution_count": null,
   "metadata": {},
   "outputs": [],
   "source": [
    "neg_unigrams"
   ]
  },
  {
   "cell_type": "code",
   "execution_count": null,
   "metadata": {},
   "outputs": [],
   "source": [
    "neg_bigrams"
   ]
  },
  {
   "cell_type": "code",
   "execution_count": null,
   "metadata": {},
   "outputs": [],
   "source": [
    "neg_trigrams"
   ]
  }
 ],
 "metadata": {
  "kernelspec": {
   "display_name": "Python 3",
   "language": "python",
   "name": "python3"
  },
  "language_info": {
   "codemirror_mode": {
    "name": "ipython",
    "version": 3
   },
   "file_extension": ".py",
   "mimetype": "text/x-python",
   "name": "python",
   "nbconvert_exporter": "python",
   "pygments_lexer": "ipython3",
   "version": "3.6.8"
  }
 },
 "nbformat": 4,
 "nbformat_minor": 2
}
