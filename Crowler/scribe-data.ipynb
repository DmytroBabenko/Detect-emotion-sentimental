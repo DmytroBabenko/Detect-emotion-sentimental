{
 "cells": [
  {
   "cell_type": "code",
   "execution_count": 1,
   "metadata": {},
   "outputs": [],
   "source": [
    "from utils import Utils\n",
    "from booking_reader import BookingReader"
   ]
  },
  {
   "cell_type": "code",
   "execution_count": 2,
   "metadata": {},
   "outputs": [],
   "source": [
    "odesa_filepath = \"../data/links/odesa-hotel-reviews.txt\"\n",
    "lviv_filepath = \"../data/links/lviv-hotel-reviews.txt\""
   ]
  },
  {
   "cell_type": "code",
   "execution_count": 3,
   "metadata": {},
   "outputs": [],
   "source": [
    "urls = Utils.read_links(odesa_filepath) + Utils.read_links(lviv_filepath)"
   ]
  },
  {
   "cell_type": "code",
   "execution_count": 4,
   "metadata": {},
   "outputs": [
    {
     "data": {
      "text/plain": [
       "572"
      ]
     },
     "execution_count": 4,
     "metadata": {},
     "output_type": "execute_result"
    }
   ],
   "source": [
    "len(urls)"
   ]
  },
  {
   "cell_type": "code",
   "execution_count": 5,
   "metadata": {},
   "outputs": [
    {
     "name": "stdout",
     "output_type": "stream",
     "text": [
      "'NoneType' object has no attribute 'text'\n",
      "https://www.booking.com/reviews/ua/hotel/ok-odessa.uk.html?label=gen173nr-1DCA0o6QFCCmhvc3RlbC1zdW5IKVgEaOkBiAEBmAEpuAEHyAEN2AED6AEB-AECiAIBqAIDuAKQgdPrBcACAQ;sid=45a571d0756ef620ea794c3a3ec26fbb;customer_type=total;hp_nav=0;old_page=0;order=featuredreviews;page=1;r_lang=uk;rows=75&\n",
      "\n",
      "####################################\n",
      "'NoneType' object has no attribute 'text'\n",
      "https://www.booking.com/reviews/ua/hotel/pervachok.uk.html?label=gen173nr-1DCA0o6QFCCmhvc3RlbC1zdW5IKVgEaOkBiAEBmAEpuAEHyAEN2AED6AEB-AECiAIBqAIDuAKQgdPrBcACAQ;sid=45a571d0756ef620ea794c3a3ec26fbb;customer_type=total;hp_nav=0;old_page=0;order=featuredreviews;page=1;r_lang=uk;rows=75&\n",
      "\n",
      "####################################\n",
      "'NoneType' object has no attribute 'text'\n",
      "https://www.booking.com/reviews/ua/hotel/panska-gora.uk.html?label=gen173nr-1DCA0o6QFCCmhvc3RlbC1zdW5IKVgEaOkBiAEBmAEpuAEHyAEN2AED6AEB-AECiAIBqAIDuAKQgdPrBcACAQ;sid=4ff55b6e7471ef57f630f8bc69d27327;customer_type=total;hp_nav=0;old_page=0;order=featuredreviews;page=2;r_lang=uk;rows=75&\n",
      "\n",
      "####################################\n",
      "'NoneType' object has no attribute 'text'\n",
      "https://www.booking.com/reviews/ua/hotel/hostel-sun.uk.html?label=gen173nr-1DCA0o6QFCCmhvc3RlbC1zdW5IKVgEaOkBiAEBmAEpuAEHyAEN2AED6AEB-AECiAIBqAIDuAKQgdPrBcACAQ;sid=4ff55b6e7471ef57f630f8bc69d27327;customer_type=total;hp_nav=0;old_page=0;order=featuredreviews;page=2;r_lang=uk;rows=75&\n",
      "\n",
      "####################################\n",
      "'NoneType' object has no attribute 'text'\n",
      "https://www.booking.com/reviews/ua/hotel/z-one-hostel.uk.html?label=gen173nr-1DCA0o6QFCCmhvc3RlbC1zdW5IKVgEaOkBiAEBmAEpuAEHyAEN2AED6AEB-AECiAIBqAIDuAKQgdPrBcACAQ;sid=4ff55b6e7471ef57f630f8bc69d27327;customer_type=total;hp_nav=0;old_page=0;order=featuredreviews;page=2;r_lang=uk;rows=75&\n",
      "\n",
      "####################################\n",
      "'NoneType' object has no attribute 'text'\n",
      "https://www.booking.com/reviews/ua/hotel/taurus.uk.html?label=gen173nr-1DCA0o6QFCCmhvc3RlbC1zdW5IKVgEaOkBiAEBmAEpuAEHyAEN2AED6AEB-AECiAIBqAIDuAKQgdPrBcACAQ;sid=4ff55b6e7471ef57f630f8bc69d27327;customer_type=total;hp_nav=0;old_page=0;order=featuredreviews;page=3;r_lang=uk;rows=75&\n",
      "\n",
      "####################################\n",
      "'NoneType' object has no attribute 'text'\n",
      "https://www.booking.com/reviews/ua/hotel/park-plus.uk.html?label=gen173nr-1DCA0o6QFCCmhvc3RlbC1zdW5IKVgEaOkBiAEBmAEpuAEHyAEN2AED6AEB-AECiAIBqAIDuAKQgdPrBcACAQ;sid=4ff55b6e7471ef57f630f8bc69d27327;customer_type=total;hp_nav=0;old_page=0;order=featuredreviews;page=2;r_lang=uk;rows=75&\n",
      "\n",
      "####################################\n",
      "'NoneType' object has no attribute 'text'\n",
      "https://www.booking.com/reviews/ua/hotel/park-plus.uk.html?label=gen173nr-1DCA0o6QFCCmhvc3RlbC1zdW5IKVgEaOkBiAEBmAEpuAEHyAEN2AED6AEB-AECiAIBqAIDuAKQgdPrBcACAQ;sid=4ff55b6e7471ef57f630f8bc69d27327;customer_type=total;hp_nav=0;old_page=0;order=featuredreviews;page=2;r_lang=uk;rows=75&\n",
      "\n",
      "####################################\n",
      "'NoneType' object has no attribute 'text'\n",
      "https://www.booking.com/reviews/ua/hotel/g-hostel.uk.html?label=gen173nr-1DCA0o6QFCCmhvc3RlbC1zdW5IKVgEaOkBiAEBmAEpuAEHyAEN2AED6AEB-AECiAIBqAIDuAKQgdPrBcACAQ;sid=4ff55b6e7471ef57f630f8bc69d27327;customer_type=total;hp_nav=0;old_page=0;order=featuredreviews;page=2;r_lang=uk;rows=75&\n",
      "\n",
      "####################################\n"
     ]
    }
   ],
   "source": [
    "df = BookingReader.read_reviews_from_urls(urls)"
   ]
  },
  {
   "cell_type": "code",
   "execution_count": 6,
   "metadata": {},
   "outputs": [
    {
     "data": {
      "text/plain": [
       "15993"
      ]
     },
     "execution_count": 6,
     "metadata": {},
     "output_type": "execute_result"
    }
   ],
   "source": [
    "len(df)"
   ]
  },
  {
   "cell_type": "code",
   "execution_count": 7,
   "metadata": {},
   "outputs": [
    {
     "data": {
      "text/html": [
       "<div>\n",
       "<style scoped>\n",
       "    .dataframe tbody tr th:only-of-type {\n",
       "        vertical-align: middle;\n",
       "    }\n",
       "\n",
       "    .dataframe tbody tr th {\n",
       "        vertical-align: top;\n",
       "    }\n",
       "\n",
       "    .dataframe thead th {\n",
       "        text-align: right;\n",
       "    }\n",
       "</style>\n",
       "<table border=\"1\" class=\"dataframe\">\n",
       "  <thead>\n",
       "    <tr style=\"text-align: right;\">\n",
       "      <th></th>\n",
       "      <th>title</th>\n",
       "      <th>pos_text</th>\n",
       "      <th>neg_text</th>\n",
       "      <th>ratingValue</th>\n",
       "      <th>bestRating</th>\n",
       "    </tr>\n",
       "  </thead>\n",
       "  <tbody>\n",
       "    <tr>\n",
       "      <th>0</th>\n",
       "      <td>Ідеально для ділової поїздки!</td>\n",
       "      <td>Ідеально для ділової поїздки! Господар зустрів...</td>\n",
       "      <td></td>\n",
       "      <td>10.0</td>\n",
       "      <td>10.0</td>\n",
       "    </tr>\n",
       "    <tr>\n",
       "      <th>1</th>\n",
       "      <td>Затишний, чистий номер з усіма зручностями.</td>\n",
       "      <td>Затишний, чистий номер з усіма зручностями. Чу...</td>\n",
       "      <td>При бронюванні вказала час прибуття о 7 ранку,...</td>\n",
       "      <td>9.2</td>\n",
       "      <td>10.0</td>\n",
       "    </tr>\n",
       "    <tr>\n",
       "      <th>2</th>\n",
       "      <td>Все сподобалося. Рекомендую</td>\n",
       "      <td>Чисто, тихо, комфортно. Зустрів і провів приєм...</td>\n",
       "      <td>На барі кава тільки 3 в 1. Хотілося звичайної ...</td>\n",
       "      <td>9.6</td>\n",
       "      <td>10.0</td>\n",
       "    </tr>\n",
       "    <tr>\n",
       "      <th>3</th>\n",
       "      <td>Зручне розташування,чудовий вигляд з вікна,в н...</td>\n",
       "      <td>Зручне розташування,чудовий вигляд з вікна,в н...</td>\n",
       "      <td></td>\n",
       "      <td>10.0</td>\n",
       "      <td>10.0</td>\n",
       "    </tr>\n",
       "    <tr>\n",
       "      <th>4</th>\n",
       "      <td>Все чудово: 9,9 балів!</td>\n",
       "      <td>Нові апартаменти на останньому поверсі ЖК, біл...</td>\n",
       "      <td>Немає терміналу для оплати кредиткою, тільки г...</td>\n",
       "      <td>10.0</td>\n",
       "      <td>10.0</td>\n",
       "    </tr>\n",
       "  </tbody>\n",
       "</table>\n",
       "</div>"
      ],
      "text/plain": [
       "                                               title  \\\n",
       "0                      Ідеально для ділової поїздки!   \n",
       "1        Затишний, чистий номер з усіма зручностями.   \n",
       "2                        Все сподобалося. Рекомендую   \n",
       "3  Зручне розташування,чудовий вигляд з вікна,в н...   \n",
       "4                             Все чудово: 9,9 балів!   \n",
       "\n",
       "                                            pos_text  \\\n",
       "0  Ідеально для ділової поїздки! Господар зустрів...   \n",
       "1  Затишний, чистий номер з усіма зручностями. Чу...   \n",
       "2  Чисто, тихо, комфортно. Зустрів і провів приєм...   \n",
       "3  Зручне розташування,чудовий вигляд з вікна,в н...   \n",
       "4  Нові апартаменти на останньому поверсі ЖК, біл...   \n",
       "\n",
       "                                            neg_text  ratingValue  bestRating  \n",
       "0                                                            10.0        10.0  \n",
       "1  При бронюванні вказала час прибуття о 7 ранку,...          9.2        10.0  \n",
       "2  На барі кава тільки 3 в 1. Хотілося звичайної ...          9.6        10.0  \n",
       "3                                                            10.0        10.0  \n",
       "4  Немає терміналу для оплати кредиткою, тільки г...         10.0        10.0  "
      ]
     },
     "execution_count": 7,
     "metadata": {},
     "output_type": "execute_result"
    }
   ],
   "source": [
    "df.head()"
   ]
  },
  {
   "cell_type": "code",
   "execution_count": 8,
   "metadata": {},
   "outputs": [],
   "source": [
    "df.to_csv(\"../data/reviews.csv\")"
   ]
  },
  {
   "cell_type": "code",
   "execution_count": null,
   "metadata": {},
   "outputs": [],
   "source": []
  }
 ],
 "metadata": {
  "kernelspec": {
   "display_name": "Python 3",
   "language": "python",
   "name": "python3"
  },
  "language_info": {
   "codemirror_mode": {
    "name": "ipython",
    "version": 3
   },
   "file_extension": ".py",
   "mimetype": "text/x-python",
   "name": "python",
   "nbconvert_exporter": "python",
   "pygments_lexer": "ipython3",
   "version": "3.6.8"
  }
 },
 "nbformat": 4,
 "nbformat_minor": 2
}
