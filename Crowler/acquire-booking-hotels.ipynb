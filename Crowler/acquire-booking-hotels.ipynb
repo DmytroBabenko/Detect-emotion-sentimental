{
 "cells": [
  {
   "cell_type": "code",
   "execution_count": 1,
   "metadata": {},
   "outputs": [],
   "source": [
    "import pandas as pd\n",
    "import requests\n",
    "from bs4 import BeautifulSoup\n",
    "import copy\n",
    "from booking_reader import BookingReader"
   ]
  },
  {
   "cell_type": "code",
   "execution_count": 2,
   "metadata": {},
   "outputs": [],
   "source": [
    "def parse_hotel_refs(url: str):\n",
    "    result = requests.get(url)\n",
    "    soup = BeautifulSoup(result.text, 'html.parser')\n",
    "    hotels = soup.findAll(\"div\", class_=\"sr-hotel__title-wrap\")\n",
    "    \n",
    "    hotel_refs = []\n",
    "    \n",
    "    for hotel in hotels:\n",
    "        try:\n",
    "            hotel_soup = BeautifulSoup(str(hotel), 'html.parser')\n",
    "            href = hotel_soup.find(\"a\", class_=\"hotel_name_link url\").get('href')\n",
    "\n",
    "            hotel_ref = href.split(\"/\")[3][:-1]\n",
    "            hotel_refs.append(hotel_ref)\n",
    "        except:\n",
    "            print(\"Error\")\n",
    "            \n",
    "    return hotel_refs"
   ]
  },
  {
   "cell_type": "code",
   "execution_count": 3,
   "metadata": {},
   "outputs": [],
   "source": [
    "def parse_all_hotels_refs(urls):\n",
    "    references = []\n",
    "    for url in urls:\n",
    "        references += parse_hotel_refs(url)\n",
    "    \n",
    "    return references"
   ]
  },
  {
   "cell_type": "code",
   "execution_count": 4,
   "metadata": {},
   "outputs": [],
   "source": [
    "def get_all_possible_urls(url1: str, url2: str = None, num_pages: int = None):\n",
    "    if url2 is None or num_pages is None:\n",
    "        return [url1]\n",
    "    \n",
    "    urls = [url1, url2]\n",
    "    \n",
    "    for page in range(3, num_pages + 1):\n",
    "        url = url2[:-2] + str((page - 1) * 25)\n",
    "        urls.append(url)\n",
    "    \n",
    "    return urls"
   ]
  },
  {
   "cell_type": "code",
   "execution_count": 5,
   "metadata": {},
   "outputs": [],
   "source": [
    "def create_review_url(hotel_ref: str, num: int):\n",
    "    ref = hotel_ref.replace('.uk.html', '.ru.html')\n",
    "    url = f\"https://www.booking.com/reviews/ua/hotel/{ref}?label=gen173nr-1DCA0o6QFCCmhvc3RlbC1zdW5IKVgEaOkBiAEBmAEpuAEHyAEN2AED6AEB-AECiAIBqAIDuAKQgdPrBcACAQ;sid=45a571d0756ef620ea794c3a3ec26fbb;customer_type=total;hp_nav=0;old_page=0;order=featuredreviews;page={num};r_lang=ru;rows=75&\"\n",
    "    return url"
   ]
  },
  {
   "cell_type": "code",
   "execution_count": 6,
   "metadata": {},
   "outputs": [],
   "source": [
    "def read_reviews_for_ref(hotel_ref: str):\n",
    "    all_reviews = []\n",
    "    \n",
    "    page: int = 1\n",
    "    frames = [] \n",
    "    while True:\n",
    "        review_url = create_review_url(hotel_ref, page)\n",
    "        try:\n",
    "            df = BookingReader.parse_reviews_from_url(review_url)\n",
    "            if len(df) == 0:\n",
    "                break\n",
    "            df['hotel'] = hotel_ref\n",
    "            frames.append(df)\n",
    "            page += 1\n",
    "            \n",
    "        except:\n",
    "            break\n",
    "            \n",
    "    if len(frames) == 0:\n",
    "        return None\n",
    "    \n",
    "    return pd.concat(frames)  "
   ]
  },
  {
   "cell_type": "code",
   "execution_count": 7,
   "metadata": {},
   "outputs": [],
   "source": [
    "def read_reviews_for_refences(refs):\n",
    "    frames = []\n",
    "    for ref in refs:\n",
    "        df = read_reviews_for_ref(ref)\n",
    "        frames.append(df)\n",
    "        \n",
    "    return pd.concat(frames)"
   ]
  },
  {
   "cell_type": "markdown",
   "metadata": {},
   "source": [
    "### Parse data"
   ]
  },
  {
   "cell_type": "code",
   "execution_count": 10,
   "metadata": {},
   "outputs": [],
   "source": [
    "input_data = [\n",
    "#     { \n",
    "#     'location': 'kyiv',\n",
    "#     'url1' : \"https://www.booking.com/searchresults.uk.html?aid=304142&label=gen173nr-1FCAEoggI46AdIM1gEaOkBiAEBmAEpuAEHyAEN2AEB6AEB-AELiAIBqAIDuAKb7uzvBcACAQ&sid=b695f9c28245d03eeefe8ce9bcf78790&tmpl=searchresults&city=-1044367&class_interval=1&dest_id=-1044367&dest_type=city&dr_ps=IDR&from_idr=1&group_adults=2&group_children=0&ilp=1&label_click=undef&no_rooms=1&percent_htype_hotel=1&raw_dest_type=city&room1=A%2CA&sb_price_type=total&shw_aparth=1&slp_r_match=0&srpvid=1da163700aff009d&ssb=empty&top_ufis=1&nflt=ht_id%3D204%3Bht_id%3D208%3B&rsf=\", \n",
    "#     'url2' : \"https://www.booking.com/searchresults.uk.html?aid=304142&label=gen173nr-1FCAEoggI46AdIM1gEaOkBiAEBmAEpuAEHyAEN2AEB6AEB-AELiAIBqAIDuAKb7uzvBcACAQ&sid=b695f9c28245d03eeefe8ce9bcf78790&tmpl=searchresults&city=-1044367&class_interval=1&dest_id=-1044367&dest_type=city&dr_ps=IDR&dtdisc=0&from_idr=1&group_adults=2&group_children=0&ilp=1&inac=0&index_postcard=0&label_click=undef&nflt=ht_id%3D204%3Bht_id%3D208%3B&no_rooms=1&percent_htype_hotel=1&postcard=0&raw_dest_type=city&room1=A%2CA&sb_price_type=total&shw_aparth=1&slp_r_match=0&srpvid=8f6d63732a67016d&ss_all=0&ssb=empty&sshis=0&top_ufis=1&rows=25&offset=25\",\n",
    "#     'num_pages' : 12\n",
    "# },\n",
    "# {\n",
    "#     'location' : 'lviv',\n",
    "#     'url1' : 'https://www.booking.com/searchresults.uk.html?aid=304142&label=gen173nr-1FCAEoggI46AdIM1gEaOkBiAEBmAEpuAEHyAEN2AEB6AEB-AELiAIBqAIDuAKb7uzvBcACAQ&sid=b695f9c28245d03eeefe8ce9bcf78790&tmpl=searchresults&class_interval=1&dest_id=-1045268&dest_type=city&from_sf=1&group_adults=2&group_children=0&label_click=undef&nflt=ht_id%3D204%3Bht_id%3D208%3B&no_rooms=1&percent_htype_hotel=1&raw_dest_type=city&room1=A%2CA&sb_price_type=total&shw_aparth=1&slp_r_match=0&src=index&srpvid=a2b1635941690167&ss=Львів&ssb=empty&top_ufis=1&rows=25',\n",
    "#     'url2' : 'https://www.booking.com/searchresults.uk.html?aid=304142&label=gen173nr-1FCAEoggI46AdIM1gEaOkBiAEBmAEpuAEHyAEN2AEB6AEB-AELiAIBqAIDuAKb7uzvBcACAQ&sid=b695f9c28245d03eeefe8ce9bcf78790&tmpl=searchresults&class_interval=1&dest_id=-1045268&dest_type=city&dtdisc=0&from_sf=1&group_adults=2&group_children=0&inac=0&index_postcard=0&label_click=undef&nflt=ht_id%3D204%3Bht_id%3D208%3B&no_rooms=1&percent_htype_hotel=1&postcard=0&raw_dest_type=city&room1=A%2CA&sb_price_type=total&shw_aparth=1&slp_r_match=0&src=index&srpvid=08d163cdf20e0099&ss=Львів&ss_all=0&ssb=empty&sshis=0&top_ufis=1&rows=25&offset=25',\n",
    "#     'num_pages': 7\n",
    "# },\n",
    "    \n",
    "# {\n",
    "#     'location': 'odesa',\n",
    "#     'url1': \"https://www.booking.com/searchresults.uk.html?aid=304142&label=gen173nr-1FCAEoggI46AdIM1gEaOkBiAEBmAEpuAEHyAEN2AEB6AEB-AELiAIBqAIDuAKb7uzvBcACAQ&sid=b695f9c28245d03eeefe8ce9bcf78790&tmpl=searchresults&city=-1049092&class_interval=1&dest_id=-1049092&dest_type=city&dr_ps=IDR&from_idr=1&group_adults=2&group_children=0&ilp=1&label_click=undef&no_rooms=1&percent_htype_hotel=1&raw_dest_type=city&room1=A%2CA&sb_price_type=total&shw_aparth=1&slp_r_match=0&srpvid=edc46463ed680070&ssb=empty&top_ufis=1&nflt=ht_id%3D204%3Bht_id%3D208%3B&rsf=\",\n",
    "#     'url2': \"https://www.booking.com/searchresults.uk.html?aid=304142&label=gen173nr-1FCAEoggI46AdIM1gEaOkBiAEBmAEpuAEHyAEN2AEB6AEB-AELiAIBqAIDuAKb7uzvBcACAQ&sid=b695f9c28245d03eeefe8ce9bcf78790&tmpl=searchresults&city=-1049092&class_interval=1&dest_id=-1049092&dest_type=city&dr_ps=IDR&dtdisc=0&from_idr=1&group_adults=2&group_children=0&ilp=1&inac=0&index_postcard=0&label_click=undef&nflt=ht_id%3D204%3Bht_id%3D208%3B&no_rooms=1&percent_htype_hotel=1&postcard=0&raw_dest_type=city&room1=A%2CA&sb_price_type=total&shw_aparth=1&slp_r_match=0&srpvid=e3db6468626700ee&ss_all=0&ssb=empty&sshis=0&top_ufis=1&rows=25&offset=25\",\n",
    "#     'num_pages' : 11\n",
    "# },\n",
    "    \n",
    "# {\n",
    "#     'location' : 'kharkiv',\n",
    "#     'url1': \"https://www.booking.com/searchresults.uk.html?aid=304142&label=gen173nr-1FCAEoggI46AdIM1gEaOkBiAEBmAEpuAEHyAEN2AEB6AEB-AELiAIBqAIDuAKb7uzvBcACAQ&sid=b695f9c28245d03eeefe8ce9bcf78790&tmpl=searchresults&ac_click_type=b&ac_position=0&city=-1049092&class_interval=1&clear_ht_id=1&clear_ht_id=1&dest_id=-1041320&dest_type=city&from_sf=1&group_adults=2&group_children=0&iata=HRK&label_click=undef&no_rooms=1&percent_htype_hotel=1&raw_dest_type=city&room1=A%2CA&sb_price_type=total&search_selected=1&shw_aparth=1&slp_r_match=0&src=searchresults&srpvid=cfec64b8cdfe0151&ss=Харків%2C%20Харківська%20область%2C%20Україна&ss_raw=Харків&ssb=empty&ssne=Одеса&ssne_untouched=Одеса&top_ufis=1&nflt=ht_id%3D204%3Bht_id%3D208%3B&rsf=\",\n",
    "#     'url2': \"https://www.booking.com/searchresults.uk.html?aid=304142&label=gen173nr-1FCAEoggI46AdIM1gEaOkBiAEBmAEpuAEHyAEN2AEB6AEB-AELiAIBqAIDuAKb7uzvBcACAQ&sid=b695f9c28245d03eeefe8ce9bcf78790&tmpl=searchresults&ac_click_type=b&ac_position=0&city=-1049092&class_interval=1&clear_ht_id=1&clear_ht_id=1&dest_id=-1041320&dest_type=city&dtdisc=0&from_sf=1&group_adults=2&group_children=0&iata=HRK&inac=0&index_postcard=0&label_click=undef&nflt=ht_id%3D204%3Bht_id%3D208%3B&no_rooms=1&percent_htype_hotel=1&postcard=0&raw_dest_type=city&room1=A%2CA&sb_price_type=total&search_selected=1&shw_aparth=1&slp_r_match=0&src=searchresults&srpvid=cfec64bc09540029&ss=Харків%2C%20Харківська%20область%2C%20Україна&ss_all=0&ss_raw=Харків&ssb=empty&sshis=0&ssne=Одеса&ssne_untouched=Одеса&top_ufis=1&rows=25&offset=25\",\n",
    "#     'num_pages': 4\n",
    "        \n",
    "# },\n",
    "{\n",
    "    'location': 'dnipro',\n",
    "    'url1': \"https://www.booking.com/searchresults.uk.html?aid=304142&label=gen173nr-1FCAEoggI46AdIM1gEaOkBiAEBmAEpuAEHyAEN2AEB6AEB-AELiAIBqAIDuAKb7uzvBcACAQ&sid=b695f9c28245d03eeefe8ce9bcf78790&tmpl=searchresults&ac_click_type=b&ac_position=0&city=-1041320&class_interval=1&dest_id=-1037865&dest_id=-1037865&dest_type=city&dest_type=city&from_sf=1&group_adults=2&group_children=0&iata=DNK&iata=DNK&label_click=undef&no_rooms=1&percent_htype_hotel=1&raw_dest_type=city&raw_dest_type=city&room1=A%2CA&sb_price_type=total&search_selected=1&search_selected=1&shw_aparth=1&slp_r_match=0&src=searchresults&srpvid=344e64fffa500062&ss=Дніпро%2C%20Дніпропетровська%20область%2C%20Україна&ss_raw=Дніпро&ssb=empty&ssne=Харків&ssne_untouched=Харків&top_ufis=1&nflt=ht_id%3D204%3Bht_id%3D208%3B&rsf=\",\n",
    "    'url2': \"https://www.booking.com/searchresults.uk.html?aid=304142&label=gen173nr-1FCAEoggI46AdIM1gEaOkBiAEBmAEpuAEHyAEN2AEB6AEB-AELiAIBqAIDuAKb7uzvBcACAQ&sid=b695f9c28245d03eeefe8ce9bcf78790&tmpl=searchresults&ac_click_type=b&ac_position=0&city=-1041320&class_interval=1&dest_id=-1037865&dest_id=-1037865&dest_type=city&dest_type=city&dtdisc=0&from_sf=1&group_adults=2&group_children=0&iata=DNK&iata=DNK&inac=0&index_postcard=0&label_click=undef&nflt=ht_id%3D204%3Bht_id%3D208%3B&no_rooms=1&percent_htype_hotel=1&postcard=0&raw_dest_type=city&raw_dest_type=city&room1=A%2CA&sb_price_type=total&search_selected=1&search_selected=1&shw_aparth=1&slp_r_match=0&src=searchresults&srpvid=84686503af9c0087&ss=Дніпро%2C%20Дніпропетровська%20область%2C%20Україна&ss_all=0&ss_raw=Дніпро&ssb=empty&sshis=0&ssne=Харків&ssne_untouched=Харків&top_ufis=1&rows=25&offset=25\",\n",
    "    'num_pages': 3\n",
    "},\n",
    "{\n",
    "    'location': 'uzhgorod',\n",
    "    'url1' : 'https://www.booking.com/searchresults.uk.html?label=gen173nr-1FCAEoggI46AdIM1gEaOkBiAEBmAEpuAEHyAEN2AEB6AEB-AELiAIBqAIDuAKb7uzvBcACAQ&sid=b695f9c28245d03eeefe8ce9bcf78790&tmpl=searchresults&city=-1057311&class_interval=1&dest_id=-1057311&dest_type=city&dr_ps=IDR&dtdisc=0&from_idr=1&group_adults=2&group_children=0&ilp=1&inac=0&index_postcard=0&label_click=undef&no_rooms=1&postcard=0&room1=A%2CA&sb_price_type=total&shw_aparth=1&slp_r_match=0&srpvid=e2116544da140052&ss_all=0&ssb=empty&sshis=0&top_ufis=1&nflt=ht_id%3D204%3B&percent_htype_hotel=1&rsf=',\n",
    "    'url2': 'https://www.booking.com/searchresults.uk.html?aid=304142&label=gen173nr-1FCAEoggI46AdIM1gEaOkBiAEBmAEpuAEHyAEN2AEB6AEB-AELiAIBqAIDuAKb7uzvBcACAQ&sid=b695f9c28245d03eeefe8ce9bcf78790&tmpl=searchresults&city=-1057311&class_interval=1&dest_id=-1057311&dest_type=city&dr_ps=IDR&from_idr=1&group_adults=2&group_children=0&ilp=1&label_click=undef&nflt=ht_id%3D204%3B&no_rooms=1&percent_htype_hotel=1&raw_dest_type=city&room1=A%2CA&sb_price_type=total&shw_aparth=1&slp_r_match=0&srpvid=e2116547c2a700f1&ssb=empty&top_ufis=1&rows=25&offset=25',\n",
    "    'num_pages': 2     \n",
    "},\n",
    "{\n",
    "    'location': 'ivano-frankivsk',\n",
    "    'url1': \"https://www.booking.com/searchresults.uk.html?label=gen173nr-1FCAEoggI46AdIM1gEaOkBiAEBmAEpuAEHyAEN2AEB6AEB-AELiAIBqAIDuAKb7uzvBcACAQ&sid=b695f9c28245d03eeefe8ce9bcf78790&tmpl=searchresults&city=-1040327&class_interval=1&dest_id=-1040327&dest_type=city&dr_ps=IDR&dtdisc=0&from_idr=1&group_adults=2&group_children=0&ilp=1&inac=0&index_postcard=0&label_click=undef&no_rooms=1&postcard=0&room1=A%2CA&sb_price_type=total&shw_aparth=1&slp_r_match=0&srpvid=e3db65808d2200b9&ss_all=0&ssb=empty&sshis=0&top_ufis=1&nflt=ht_id%3D204%3B&percent_htype_hotel=1&rsf=\",\n",
    "    'url2': \"https://www.booking.com/searchresults.uk.html?aid=304142&label=gen173nr-1FCAEoggI46AdIM1gEaOkBiAEBmAEpuAEHyAEN2AEB6AEB-AELiAIBqAIDuAKb7uzvBcACAQ&sid=b695f9c28245d03eeefe8ce9bcf78790&tmpl=searchresults&city=-1040327&class_interval=1&dest_id=-1040327&dest_type=city&dr_ps=IDR&from_idr=1&group_adults=2&group_children=0&ilp=1&label_click=undef&nflt=ht_id%3D204%3B&no_rooms=1&percent_htype_hotel=1&raw_dest_type=city&room1=A%2CA&sb_price_type=total&shw_aparth=1&slp_r_match=0&srpvid=668d6587665b003a&ssb=empty&top_ufis=1&rows=25&offset=25\",\n",
    "    'num_pages': 2\n",
    "}]"
   ]
  },
  {
   "cell_type": "code",
   "execution_count": 11,
   "metadata": {},
   "outputs": [
    {
     "name": "stdout",
     "output_type": "stream",
     "text": [
      "There were parsed 65 in dnipro\n",
      "'NoneType' object has no attribute 'text'\n",
      "https://www.booking.com/reviews/ua/hotel/spa-tsunami.ru.html?label=gen173nr-1DCA0o6QFCCmhvc3RlbC1zdW5IKVgEaOkBiAEBmAEpuAEHyAEN2AED6AEB-AECiAIBqAIDuAKQgdPrBcACAQ;sid=45a571d0756ef620ea794c3a3ec26fbb;customer_type=total;hp_nav=0;old_page=0;order=featuredreviews;page=2;r_lang=ru;rows=75&\n",
      "'NoneType' object has no attribute 'text'\n",
      "https://www.booking.com/reviews/ua/hotel/menorah.ru.html?label=gen173nr-1DCA0o6QFCCmhvc3RlbC1zdW5IKVgEaOkBiAEBmAEpuAEHyAEN2AED6AEB-AECiAIBqAIDuAKQgdPrBcACAQ;sid=45a571d0756ef620ea794c3a3ec26fbb;customer_type=total;hp_nav=0;old_page=0;order=featuredreviews;page=1;r_lang=ru;rows=75&\n",
      "'NoneType' object has no attribute 'text'\n",
      "https://www.booking.com/reviews/ua/hotel/abri.ru.html?label=gen173nr-1DCA0o6QFCCmhvc3RlbC1zdW5IKVgEaOkBiAEBmAEpuAEHyAEN2AED6AEB-AECiAIBqAIDuAKQgdPrBcACAQ;sid=45a571d0756ef620ea794c3a3ec26fbb;customer_type=total;hp_nav=0;old_page=0;order=featuredreviews;page=2;r_lang=ru;rows=75&\n",
      "'NoneType' object has no attribute 'text'\n",
      "https://www.booking.com/reviews/ua/hotel/dvoryanskiy-hotel.ru.html?label=gen173nr-1DCA0o6QFCCmhvc3RlbC1zdW5IKVgEaOkBiAEBmAEpuAEHyAEN2AED6AEB-AECiAIBqAIDuAKQgdPrBcACAQ;sid=45a571d0756ef620ea794c3a3ec26fbb;customer_type=total;hp_nav=0;old_page=0;order=featuredreviews;page=2;r_lang=ru;rows=75&\n",
      "'NoneType' object has no attribute 'text'\n",
      "https://www.booking.com/reviews/ua/hotel/mamba.ru.html?label=gen173nr-1DCA0o6QFCCmhvc3RlbC1zdW5IKVgEaOkBiAEBmAEpuAEHyAEN2AED6AEB-AECiAIBqAIDuAKQgdPrBcACAQ;sid=45a571d0756ef620ea794c3a3ec26fbb;customer_type=total;hp_nav=0;old_page=0;order=featuredreviews;page=1;r_lang=ru;rows=75&\n",
      "'NoneType' object has no attribute 'text'\n",
      "https://www.booking.com/reviews/ua/hotel/mini-litera.ru.html?label=gen173nr-1DCA0o6QFCCmhvc3RlbC1zdW5IKVgEaOkBiAEBmAEpuAEHyAEN2AED6AEB-AECiAIBqAIDuAKQgdPrBcACAQ;sid=45a571d0756ef620ea794c3a3ec26fbb;customer_type=total;hp_nav=0;old_page=0;order=featuredreviews;page=1;r_lang=ru;rows=75&\n",
      "There were parsed 5209 reviews in dnipro\n",
      "There were parsed 32 in uzhgorod\n",
      "'NoneType' object has no attribute 'text'\n",
      "https://www.booking.com/reviews/ua/hotel/emigrand-art.ru.html?label=gen173nr-1DCA0o6QFCCmhvc3RlbC1zdW5IKVgEaOkBiAEBmAEpuAEHyAEN2AED6AEB-AECiAIBqAIDuAKQgdPrBcACAQ;sid=45a571d0756ef620ea794c3a3ec26fbb;customer_type=total;hp_nav=0;old_page=0;order=featuredreviews;page=1;r_lang=ru;rows=75&\n",
      "'NoneType' object has no attribute 'text'\n",
      "https://www.booking.com/reviews/ua/hotel/izumrud.ru.html?label=gen173nr-1DCA0o6QFCCmhvc3RlbC1zdW5IKVgEaOkBiAEBmAEpuAEHyAEN2AED6AEB-AECiAIBqAIDuAKQgdPrBcACAQ;sid=45a571d0756ef620ea794c3a3ec26fbb;customer_type=total;hp_nav=0;old_page=0;order=featuredreviews;page=1;r_lang=ru;rows=75&\n",
      "There were parsed 2455 reviews in uzhgorod\n",
      "There were parsed 29 in ivano-frankivsk\n",
      "'NoneType' object has no attribute 'text'\n",
      "https://www.booking.com/reviews/ua/hotel/nadiya-ivano-frankivsk.ru.html?label=gen173nr-1DCA0o6QFCCmhvc3RlbC1zdW5IKVgEaOkBiAEBmAEpuAEHyAEN2AED6AEB-AECiAIBqAIDuAKQgdPrBcACAQ;sid=45a571d0756ef620ea794c3a3ec26fbb;customer_type=total;hp_nav=0;old_page=0;order=featuredreviews;page=2;r_lang=ru;rows=75&\n",
      "There were parsed 2161 reviews in ivano-frankivsk\n"
     ]
    }
   ],
   "source": [
    "for item in input_data:\n",
    "    location = item['location']\n",
    "    url1 = item['url1']\n",
    "    url2 = item['url2']\n",
    "    num_pages = item['num_pages']\n",
    "    \n",
    "    urls = get_all_possible_urls(url1, url2, num_pages)\n",
    "    hotel_refs = parse_all_hotels_refs(urls)    \n",
    "    print(f\"There were parsed {len(hotel_refs)} in {location}\")\n",
    "    \n",
    "    df = read_reviews_for_refences(hotel_refs)\n",
    "    \n",
    "    print(f\"There were parsed {len(df)} reviews in {location}\")\n",
    "    \n",
    "    df.to_csv(f\"../dataset/{location}-reviews-ru.csv\", index=False)\n",
    "    \n",
    "    "
   ]
  },
  {
   "cell_type": "markdown",
   "metadata": {},
   "source": [
    "### Check dataset"
   ]
  },
  {
   "cell_type": "code",
   "execution_count": 12,
   "metadata": {},
   "outputs": [
    {
     "name": "stderr",
     "output_type": "stream",
     "text": [
      "/Library/Frameworks/Python.framework/Versions/3.6/lib/python3.6/site-packages/ipykernel_launcher.py:1: FutureWarning: from_csv is deprecated. Please use read_csv(...) instead. Note that some of the default arguments are different, so please refer to the documentation for from_csv when changing your function calls\n",
      "  \"\"\"Entry point for launching an IPython kernel.\n"
     ]
    }
   ],
   "source": [
    "kyiv_reviews_df = pd.DataFrame.from_csv('../dataset/kyiv-reviews-ru.csv')"
   ]
  },
  {
   "cell_type": "code",
   "execution_count": 13,
   "metadata": {},
   "outputs": [
    {
     "data": {
      "text/plain": [
       "38024"
      ]
     },
     "execution_count": 13,
     "metadata": {},
     "output_type": "execute_result"
    }
   ],
   "source": [
    "len(kyiv_reviews_df)"
   ]
  },
  {
   "cell_type": "code",
   "execution_count": 14,
   "metadata": {},
   "outputs": [
    {
     "name": "stderr",
     "output_type": "stream",
     "text": [
      "/Library/Frameworks/Python.framework/Versions/3.6/lib/python3.6/site-packages/ipykernel_launcher.py:1: FutureWarning: from_csv is deprecated. Please use read_csv(...) instead. Note that some of the default arguments are different, so please refer to the documentation for from_csv when changing your function calls\n",
      "  \"\"\"Entry point for launching an IPython kernel.\n"
     ]
    }
   ],
   "source": [
    "lviv_reviews_df = pd.DataFrame.from_csv('../dataset/lviv-reviews-ru.csv')"
   ]
  },
  {
   "cell_type": "code",
   "execution_count": 15,
   "metadata": {},
   "outputs": [
    {
     "data": {
      "text/plain": [
       "23551"
      ]
     },
     "execution_count": 15,
     "metadata": {},
     "output_type": "execute_result"
    }
   ],
   "source": [
    "len(lviv_reviews_df)"
   ]
  },
  {
   "cell_type": "code",
   "execution_count": 16,
   "metadata": {},
   "outputs": [
    {
     "name": "stderr",
     "output_type": "stream",
     "text": [
      "/Library/Frameworks/Python.framework/Versions/3.6/lib/python3.6/site-packages/ipykernel_launcher.py:1: FutureWarning: from_csv is deprecated. Please use read_csv(...) instead. Note that some of the default arguments are different, so please refer to the documentation for from_csv when changing your function calls\n",
      "  \"\"\"Entry point for launching an IPython kernel.\n"
     ]
    }
   ],
   "source": [
    "odesa_reviews_df = pd.DataFrame.from_csv('../dataset/odesa-reviews-ru.csv')"
   ]
  },
  {
   "cell_type": "code",
   "execution_count": 17,
   "metadata": {},
   "outputs": [
    {
     "name": "stderr",
     "output_type": "stream",
     "text": [
      "/Library/Frameworks/Python.framework/Versions/3.6/lib/python3.6/site-packages/ipykernel_launcher.py:1: FutureWarning: from_csv is deprecated. Please use read_csv(...) instead. Note that some of the default arguments are different, so please refer to the documentation for from_csv when changing your function calls\n",
      "  \"\"\"Entry point for launching an IPython kernel.\n"
     ]
    }
   ],
   "source": [
    "kharkiv_reviews_df = pd.DataFrame.from_csv('../dataset/kharkiv-reviews-ru.csv')"
   ]
  },
  {
   "cell_type": "code",
   "execution_count": 18,
   "metadata": {},
   "outputs": [
    {
     "name": "stderr",
     "output_type": "stream",
     "text": [
      "/Library/Frameworks/Python.framework/Versions/3.6/lib/python3.6/site-packages/ipykernel_launcher.py:1: FutureWarning: from_csv is deprecated. Please use read_csv(...) instead. Note that some of the default arguments are different, so please refer to the documentation for from_csv when changing your function calls\n",
      "  \"\"\"Entry point for launching an IPython kernel.\n"
     ]
    }
   ],
   "source": [
    "dnipro_reviews_df = pd.DataFrame.from_csv('../dataset/dnipro-reviews-ru.csv')"
   ]
  },
  {
   "cell_type": "code",
   "execution_count": 19,
   "metadata": {},
   "outputs": [
    {
     "name": "stderr",
     "output_type": "stream",
     "text": [
      "/Library/Frameworks/Python.framework/Versions/3.6/lib/python3.6/site-packages/ipykernel_launcher.py:1: FutureWarning: from_csv is deprecated. Please use read_csv(...) instead. Note that some of the default arguments are different, so please refer to the documentation for from_csv when changing your function calls\n",
      "  \"\"\"Entry point for launching an IPython kernel.\n"
     ]
    }
   ],
   "source": [
    "uzhgorod_reviews_df = pd.DataFrame.from_csv('../dataset/uzhgorod-reviews-ru.csv')"
   ]
  },
  {
   "cell_type": "code",
   "execution_count": 20,
   "metadata": {},
   "outputs": [
    {
     "name": "stderr",
     "output_type": "stream",
     "text": [
      "/Library/Frameworks/Python.framework/Versions/3.6/lib/python3.6/site-packages/ipykernel_launcher.py:1: FutureWarning: from_csv is deprecated. Please use read_csv(...) instead. Note that some of the default arguments are different, so please refer to the documentation for from_csv when changing your function calls\n",
      "  \"\"\"Entry point for launching an IPython kernel.\n"
     ]
    }
   ],
   "source": [
    "ivano_frankivsk_df = pd.DataFrame.from_csv('../dataset/ivano-frankivsk-reviews-ru.csv')"
   ]
  },
  {
   "cell_type": "code",
   "execution_count": 21,
   "metadata": {},
   "outputs": [
    {
     "data": {
      "text/plain": [
       "105737"
      ]
     },
     "execution_count": 21,
     "metadata": {},
     "output_type": "execute_result"
    }
   ],
   "source": [
    "len(kyiv_reviews_df) + len(lviv_reviews_df) + len(odesa_reviews_df) + len(kharkiv_reviews_df) + len(dnipro_reviews_df) + len(uzhgorod_reviews_df) + len(ivano_frankivsk_df)"
   ]
  },
  {
   "cell_type": "code",
   "execution_count": null,
   "metadata": {},
   "outputs": [],
   "source": []
  }
 ],
 "metadata": {
  "kernelspec": {
   "display_name": "Python 3",
   "language": "python",
   "name": "python3"
  },
  "language_info": {
   "codemirror_mode": {
    "name": "ipython",
    "version": 3
   },
   "file_extension": ".py",
   "mimetype": "text/x-python",
   "name": "python",
   "nbconvert_exporter": "python",
   "pygments_lexer": "ipython3",
   "version": "3.6.8"
  }
 },
 "nbformat": 4,
 "nbformat_minor": 2
}
