{
 "cells": [
  {
   "cell_type": "code",
   "execution_count": 1,
   "metadata": {},
   "outputs": [],
   "source": [
    "import pandas as pd\n",
    "import tokenize_uk\n",
    "from typing import List\n",
    "from ast import literal_eval"
   ]
  },
  {
   "cell_type": "code",
   "execution_count": 2,
   "metadata": {},
   "outputs": [],
   "source": [
    "def read_stop_words(file):\n",
    "    with open(file) as f:\n",
    "        stop_words = f.read().split('\\n')\n",
    "\n",
    "    return stop_words"
   ]
  },
  {
   "cell_type": "code",
   "execution_count": 3,
   "metadata": {},
   "outputs": [],
   "source": [
    "def read_all_frames(files):\n",
    "    frames= []\n",
    "    for file in files:\n",
    "        df = pd.read_csv(file)\n",
    "        frames.append(df)\n",
    "    \n",
    "    return pd.concat(frames)"
   ]
  },
  {
   "cell_type": "code",
   "execution_count": 4,
   "metadata": {},
   "outputs": [],
   "source": [
    "files = [\n",
    "    'dataset/booking/booking-train.csv',\n",
    "    'dataset/booking/booking-test.csv',\n",
    "    'dataset/booking/booking-val.csv'\n",
    "]"
   ]
  },
  {
   "cell_type": "code",
   "execution_count": 5,
   "metadata": {},
   "outputs": [],
   "source": [
    "full_df = read_all_frames(files)"
   ]
  },
  {
   "cell_type": "code",
   "execution_count": 6,
   "metadata": {},
   "outputs": [
    {
     "data": {
      "text/html": [
       "<div>\n",
       "<style scoped>\n",
       "    .dataframe tbody tr th:only-of-type {\n",
       "        vertical-align: middle;\n",
       "    }\n",
       "\n",
       "    .dataframe tbody tr th {\n",
       "        vertical-align: top;\n",
       "    }\n",
       "\n",
       "    .dataframe thead th {\n",
       "        text-align: right;\n",
       "    }\n",
       "</style>\n",
       "<table border=\"1\" class=\"dataframe\">\n",
       "  <thead>\n",
       "    <tr style=\"text-align: right;\">\n",
       "      <th></th>\n",
       "      <th>title</th>\n",
       "      <th>pos_text</th>\n",
       "      <th>neg_text</th>\n",
       "      <th>ratingValue</th>\n",
       "      <th>bestRating</th>\n",
       "      <th>hotel</th>\n",
       "      <th>rating</th>\n",
       "    </tr>\n",
       "  </thead>\n",
       "  <tbody>\n",
       "    <tr>\n",
       "      <th>0</th>\n",
       "      <td>Лише дівчата на рецепції - три рази мені мінял...</td>\n",
       "      <td>Лише дівчата на рецепції - три рази мені мінял...</td>\n",
       "      <td>Все. Одного досвіду вистарчило, щоб більше сюд...</td>\n",
       "      <td>4.6</td>\n",
       "      <td>10.0</td>\n",
       "      <td>verhovina.uk.html</td>\n",
       "      <td>2</td>\n",
       "    </tr>\n",
       "    <tr>\n",
       "      <th>1</th>\n",
       "      <td>Оформлення кімнати хороше, досить приємне, на ...</td>\n",
       "      <td>Оформлення кімнати хороше, досить приємне, на ...</td>\n",
       "      <td>Nan</td>\n",
       "      <td>9.2</td>\n",
       "      <td>10.0</td>\n",
       "      <td>verhovina.uk.html</td>\n",
       "      <td>5</td>\n",
       "    </tr>\n",
       "    <tr>\n",
       "      <th>2</th>\n",
       "      <td>Усе відмінно, завдяки якісному сервісу ми завж...</td>\n",
       "      <td>Усе відмінно, завдяки якісному сервісу ми завж...</td>\n",
       "      <td>Рекомендую людям котрі подорожують власним тра...</td>\n",
       "      <td>10.0</td>\n",
       "      <td>10.0</td>\n",
       "      <td>verhovina.uk.html</td>\n",
       "      <td>5</td>\n",
       "    </tr>\n",
       "    <tr>\n",
       "      <th>3</th>\n",
       "      <td>Ціна/якість в принципі</td>\n",
       "      <td>Ціна/якість в принципі</td>\n",
       "      <td>душова, трохи старий ремонт, але за 500 грн за...</td>\n",
       "      <td>7.5</td>\n",
       "      <td>10.0</td>\n",
       "      <td>verhovina.uk.html</td>\n",
       "      <td>4</td>\n",
       "    </tr>\n",
       "    <tr>\n",
       "      <th>4</th>\n",
       "      <td>Приїхали з сином біля сьомої ранку, сонні та в...</td>\n",
       "      <td>Приїхали з сином біля сьомої ранку, сонні та в...</td>\n",
       "      <td>Nan</td>\n",
       "      <td>8.3</td>\n",
       "      <td>10.0</td>\n",
       "      <td>verhovina.uk.html</td>\n",
       "      <td>4</td>\n",
       "    </tr>\n",
       "    <tr>\n",
       "      <th>...</th>\n",
       "      <td>...</td>\n",
       "      <td>...</td>\n",
       "      <td>...</td>\n",
       "      <td>...</td>\n",
       "      <td>...</td>\n",
       "      <td>...</td>\n",
       "      <td>...</td>\n",
       "    </tr>\n",
       "    <tr>\n",
       "      <th>30499</th>\n",
       "      <td>Сауна, басейн, стоянка, обслуговування, ресторан</td>\n",
       "      <td>Сауна, басейн, стоянка, обслуговування, ресторан</td>\n",
       "      <td>Nan</td>\n",
       "      <td>10.0</td>\n",
       "      <td>10.0</td>\n",
       "      <td>izumrud.uk.html</td>\n",
       "      <td>5</td>\n",
       "    </tr>\n",
       "    <tr>\n",
       "      <th>30500</th>\n",
       "      <td>Басейн, кухня в ресторані</td>\n",
       "      <td>Басейн, кухня в ресторані</td>\n",
       "      <td>Безкоштовний Wi-Fi не працює</td>\n",
       "      <td>9.2</td>\n",
       "      <td>10.0</td>\n",
       "      <td>izumrud.uk.html</td>\n",
       "      <td>5</td>\n",
       "    </tr>\n",
       "    <tr>\n",
       "      <th>30501</th>\n",
       "      <td>Зручне місце розташування, парковка, комфортни...</td>\n",
       "      <td>Зручне місце розташування, парковка, комфортни...</td>\n",
       "      <td>Не працював басейн</td>\n",
       "      <td>8.8</td>\n",
       "      <td>10.0</td>\n",
       "      <td>izumrud.uk.html</td>\n",
       "      <td>4</td>\n",
       "    </tr>\n",
       "    <tr>\n",
       "      <th>30502</th>\n",
       "      <td>Рівень хорошого готелю: чисто, зручно, безкошт...</td>\n",
       "      <td>Рівень хорошого готелю: чисто, зручно, безкошт...</td>\n",
       "      <td>Вайда працював погано.</td>\n",
       "      <td>8.3</td>\n",
       "      <td>10.0</td>\n",
       "      <td>izumrud.uk.html</td>\n",
       "      <td>4</td>\n",
       "    </tr>\n",
       "    <tr>\n",
       "      <th>30503</th>\n",
       "      <td>Великий номер, зручне ліжко, ванна кімната</td>\n",
       "      <td>Великий номер, зручне ліжко, ванна кімната</td>\n",
       "      <td>Відсутність сніданку, складність випити кави.</td>\n",
       "      <td>6.7</td>\n",
       "      <td>10.0</td>\n",
       "      <td>izumrud.uk.html</td>\n",
       "      <td>3</td>\n",
       "    </tr>\n",
       "  </tbody>\n",
       "</table>\n",
       "<p>134083 rows × 7 columns</p>\n",
       "</div>"
      ],
      "text/plain": [
       "                                                   title  \\\n",
       "0      Лише дівчата на рецепції - три рази мені мінял...   \n",
       "1      Оформлення кімнати хороше, досить приємне, на ...   \n",
       "2      Усе відмінно, завдяки якісному сервісу ми завж...   \n",
       "3                                Ціна/якість в принципі    \n",
       "4      Приїхали з сином біля сьомої ранку, сонні та в...   \n",
       "...                                                  ...   \n",
       "30499   Сауна, басейн, стоянка, обслуговування, ресторан   \n",
       "30500                          Басейн, кухня в ресторані   \n",
       "30501  Зручне місце розташування, парковка, комфортни...   \n",
       "30502  Рівень хорошого готелю: чисто, зручно, безкошт...   \n",
       "30503         Великий номер, зручне ліжко, ванна кімната   \n",
       "\n",
       "                                                pos_text  \\\n",
       "0      Лише дівчата на рецепції - три рази мені мінял...   \n",
       "1      Оформлення кімнати хороше, досить приємне, на ...   \n",
       "2      Усе відмінно, завдяки якісному сервісу ми завж...   \n",
       "3                                 Ціна/якість в принципі   \n",
       "4      Приїхали з сином біля сьомої ранку, сонні та в...   \n",
       "...                                                  ...   \n",
       "30499   Сауна, басейн, стоянка, обслуговування, ресторан   \n",
       "30500                          Басейн, кухня в ресторані   \n",
       "30501  Зручне місце розташування, парковка, комфортни...   \n",
       "30502  Рівень хорошого готелю: чисто, зручно, безкошт...   \n",
       "30503         Великий номер, зручне ліжко, ванна кімната   \n",
       "\n",
       "                                                neg_text  ratingValue  \\\n",
       "0      Все. Одного досвіду вистарчило, щоб більше сюд...          4.6   \n",
       "1                                                    Nan          9.2   \n",
       "2      Рекомендую людям котрі подорожують власним тра...         10.0   \n",
       "3      душова, трохи старий ремонт, але за 500 грн за...          7.5   \n",
       "4                                                    Nan          8.3   \n",
       "...                                                  ...          ...   \n",
       "30499                                                Nan         10.0   \n",
       "30500                       Безкоштовний Wi-Fi не працює          9.2   \n",
       "30501                                 Не працював басейн          8.8   \n",
       "30502                             Вайда працював погано.          8.3   \n",
       "30503      Відсутність сніданку, складність випити кави.          6.7   \n",
       "\n",
       "       bestRating              hotel  rating  \n",
       "0            10.0  verhovina.uk.html       2  \n",
       "1            10.0  verhovina.uk.html       5  \n",
       "2            10.0  verhovina.uk.html       5  \n",
       "3            10.0  verhovina.uk.html       4  \n",
       "4            10.0  verhovina.uk.html       4  \n",
       "...           ...                ...     ...  \n",
       "30499        10.0    izumrud.uk.html       5  \n",
       "30500        10.0    izumrud.uk.html       5  \n",
       "30501        10.0    izumrud.uk.html       4  \n",
       "30502        10.0    izumrud.uk.html       4  \n",
       "30503        10.0    izumrud.uk.html       3  \n",
       "\n",
       "[134083 rows x 7 columns]"
      ]
     },
     "execution_count": 6,
     "metadata": {},
     "output_type": "execute_result"
    }
   ],
   "source": [
    "full_df"
   ]
  },
  {
   "cell_type": "code",
   "execution_count": 7,
   "metadata": {},
   "outputs": [],
   "source": [
    "def is_review_valid(review):\n",
    "    if type(review) is not str:\n",
    "        return False\n",
    "    try:\n",
    "        if len(review) == 0:\n",
    "            return False\n",
    "        if review == 'Nan':\n",
    "            return False\n",
    "        return True\n",
    "    except:\n",
    "        return False"
   ]
  },
  {
   "cell_type": "code",
   "execution_count": 8,
   "metadata": {},
   "outputs": [],
   "source": [
    "def get_pos_neg_reviews(df):\n",
    "    pos_texts = df['pos_text'].values\n",
    "    neg_texts = df['neg_text'].values\n",
    "    \n",
    "    positives, negatives = [], []\n",
    "    for i in range(0, len(df)):\n",
    "        if is_review_valid(pos_texts[i]):\n",
    "            positives.append(pos_texts[i])\n",
    "            \n",
    "        if is_review_valid(neg_texts[i]):\n",
    "            negatives.append(neg_texts[i])\n",
    "            \n",
    "    return positives, negatives"
   ]
  },
  {
   "cell_type": "code",
   "execution_count": 9,
   "metadata": {},
   "outputs": [],
   "source": [
    "pos_texts, neg_texts = get_pos_neg_reviews(full_df)"
   ]
  },
  {
   "cell_type": "code",
   "execution_count": 10,
   "metadata": {},
   "outputs": [],
   "source": [
    "stop_words = read_stop_words('data/ukrainian-stopwords.txt')"
   ]
  },
  {
   "cell_type": "code",
   "execution_count": 11,
   "metadata": {},
   "outputs": [],
   "source": [
    "def sort_coo(coo_matrix):\n",
    "    tuples = zip(coo_matrix.col, coo_matrix.data)\n",
    "    return sorted(tuples, key=lambda x: (x[1], x[0]), reverse=True)"
   ]
  },
  {
   "cell_type": "code",
   "execution_count": 12,
   "metadata": {},
   "outputs": [],
   "source": [
    "def extract_topn_from_vector(feature_names, sorted_items, topn=10):\n",
    "    \"\"\"get the feature names and tf-idf score of top n items\"\"\"\n",
    "    \n",
    "    #use only topn items from vector\n",
    "    sorted_items = sorted_items[:topn]\n",
    "\n",
    "    score_vals = []\n",
    "    feature_vals = []\n",
    "\n",
    "    for idx, score in sorted_items:\n",
    "        fname = feature_names[idx]\n",
    "        \n",
    "        #keep track of feature name and its corresponding score\n",
    "        score_vals.append(round(score, 3))\n",
    "        feature_vals.append(feature_names[idx])\n",
    "\n",
    "    #create a tuples of feature,score\n",
    "    #results = zip(feature_vals,score_vals)\n",
    "    results= {}\n",
    "    for idx in range(len(feature_vals)):\n",
    "        results[feature_vals[idx]]=score_vals[idx]\n",
    "    \n",
    "    return results"
   ]
  },
  {
   "cell_type": "code",
   "execution_count": 13,
   "metadata": {},
   "outputs": [
    {
     "name": "stdout",
     "output_type": "stream",
     "text": [
      "analyze.ipynb\r\n",
      "create-text-classification-dataset.ipynb\r\n",
      "tripadvisor-dnipro.csv\r\n",
      "tripadvisor-ivano_frankivsk.csv\r\n",
      "tripadvisor-kharkiv.csv\r\n",
      "tripadvisor-kyiv.csv\r\n",
      "tripadvisor-lviv.csv\r\n",
      "tripadvisor-odesa.csv\r\n",
      "trip-advisor-test.csv\r\n",
      "trip-advisor-text-classification-test.csv\r\n",
      "trip-advisor-text-classification-train.csv\r\n",
      "trip-advisor-text-classification-val.csv\r\n",
      "trip-advisor-train.csv\r\n",
      "tripadvisor-uzhhorod.csv\r\n",
      "trip-advisor-val.csv\r\n"
     ]
    }
   ],
   "source": [
    "!ls dataset/trip-advisor/"
   ]
  },
  {
   "cell_type": "code",
   "execution_count": 114,
   "metadata": {},
   "outputs": [],
   "source": [
    "trip_advisor_df = pd.read_csv(\"dataset/trip-advisor/trip-advisor-val.csv\")"
   ]
  },
  {
   "cell_type": "code",
   "execution_count": 110,
   "metadata": {},
   "outputs": [],
   "source": [
    "blum = 'https://www.tripadvisor.ru/Hotel_Review-g295377-d14044085-Reviews-Blum_Hotel-Lviv_Lviv_Oblast.html'"
   ]
  },
  {
   "cell_type": "code",
   "execution_count": 115,
   "metadata": {},
   "outputs": [
    {
     "data": {
      "text/html": [
       "<div>\n",
       "<style scoped>\n",
       "    .dataframe tbody tr th:only-of-type {\n",
       "        vertical-align: middle;\n",
       "    }\n",
       "\n",
       "    .dataframe tbody tr th {\n",
       "        vertical-align: top;\n",
       "    }\n",
       "\n",
       "    .dataframe thead th {\n",
       "        text-align: right;\n",
       "    }\n",
       "</style>\n",
       "<table border=\"1\" class=\"dataframe\">\n",
       "  <thead>\n",
       "    <tr style=\"text-align: right;\">\n",
       "      <th></th>\n",
       "      <th>hotel</th>\n",
       "      <th>review_ru</th>\n",
       "      <th>review_uk</th>\n",
       "      <th>ratings</th>\n",
       "    </tr>\n",
       "  </thead>\n",
       "  <tbody>\n",
       "  </tbody>\n",
       "</table>\n",
       "</div>"
      ],
      "text/plain": [
       "Empty DataFrame\n",
       "Columns: [hotel, review_ru, review_uk, ratings]\n",
       "Index: []"
      ]
     },
     "execution_count": 115,
     "metadata": {},
     "output_type": "execute_result"
    }
   ],
   "source": [
    "trip_advisor_df.loc[trip_advisor_df['hotel'] == blum]"
   ]
  },
  {
   "cell_type": "code",
   "execution_count": null,
   "metadata": {},
   "outputs": [],
   "source": []
  },
  {
   "cell_type": "code",
   "execution_count": null,
   "metadata": {},
   "outputs": [],
   "source": []
  },
  {
   "cell_type": "code",
   "execution_count": 17,
   "metadata": {},
   "outputs": [],
   "source": [
    "booking_df = pd.read_csv('dataset/booking/booking-test.csv')"
   ]
  },
  {
   "cell_type": "code",
   "execution_count": 33,
   "metadata": {},
   "outputs": [],
   "source": [
    "blum_df = full_df.loc[full_df['hotel'] == 'blum.uk.html']"
   ]
  },
  {
   "cell_type": "markdown",
   "metadata": {},
   "source": [
    "### Neagtive TF-IDF"
   ]
  },
  {
   "cell_type": "code",
   "execution_count": 14,
   "metadata": {},
   "outputs": [],
   "source": [
    "from sklearn.feature_extraction.text import CountVectorizer, TfidfVectorizer"
   ]
  },
  {
   "cell_type": "code",
   "execution_count": 15,
   "metadata": {},
   "outputs": [
    {
     "data": {
      "text/plain": [
       "96242"
      ]
     },
     "execution_count": 15,
     "metadata": {},
     "output_type": "execute_result"
    }
   ],
   "source": [
    "len(neg_texts)"
   ]
  },
  {
   "cell_type": "code",
   "execution_count": 70,
   "metadata": {},
   "outputs": [
    {
     "name": "stderr",
     "output_type": "stream",
     "text": [
      "/home/dbabenko/.local/lib/python3.7/site-packages/sklearn/feature_extraction/text.py:385: UserWarning: Your stop_words may be inconsistent with your preprocessing. Tokenizing the stop words generated tokens ['дев', 'ласка', 'разу', 'ятий', 'ятнадцятий', 'ятнадцять', 'ять', 'ім'] not in stop_words.\n",
      "  'stop_words.' % sorted(inconsistent))\n"
     ]
    },
    {
     "data": {
      "text/plain": [
       "(134083, 1000)"
      ]
     },
     "execution_count": 70,
     "metadata": {},
     "output_type": "execute_result"
    }
   ],
   "source": [
    "neg_cv=CountVectorizer(max_df=0.85,stop_words=stop_words,max_features=1000, ngram_range=(2,2))\n",
    "neg_word_count_vector=neg_cv.fit_transform(full_df['neg_text'].values)\n",
    "neg_word_count_vector.shape"
   ]
  },
  {
   "cell_type": "code",
   "execution_count": 71,
   "metadata": {},
   "outputs": [
    {
     "data": {
      "text/plain": [
       "TfidfTransformer(norm='l2', smooth_idf=True, sublinear_tf=False, use_idf=True)"
      ]
     },
     "execution_count": 71,
     "metadata": {},
     "output_type": "execute_result"
    }
   ],
   "source": [
    "from sklearn.feature_extraction.text import TfidfTransformer\n",
    "\n",
    "neg_tfidf_transformer=TfidfTransformer(smooth_idf=True,use_idf=True)\n",
    "neg_tfidf_transformer.fit(neg_word_count_vector)"
   ]
  },
  {
   "cell_type": "code",
   "execution_count": 18,
   "metadata": {},
   "outputs": [
    {
     "name": "stdout",
     "output_type": "stream",
     "text": [
      "\n",
      "===Keywords===\n",
      "їжа ресторані 1.0\n",
      "іншому номері 1.0\n",
      "іншому місці 1.0\n",
      "іншому готелі 1.0\n",
      "іншого боку 1.0\n"
     ]
    }
   ],
   "source": [
    "# get the document that we want to extract keywords from\n",
    "#doc=\"Хороше розташування. Безпечна парковка на території готелю. Наявність холодильника та чайника в номері.\\nЩоденне прибирання.\"\n",
    "#doc  = \"Готель дуже зручно розташований. Якщо вам в номері не сидіти то можна спокійно бронювати. Сніданок хороший. Номери стандартні НЕ великі. Персонал ввічливий. Чисто. Після ремонту свіжо. Проблема була з водою, гаряча швидко закінчилася. Але на наступний день з'явилася)). Тапки були одні речі. Мабуть комплектацією дійсно не заморочуються. Але якщо б сказали принесли напевно, ми не просили. Вид з нашого Номери 305 був на вікна житлового будинку, але якщо вийти на балкончик і подивитися на право красиво. Відмінний вид з ресторану на місто. Таксі нам викликали на прощання, доїхали до вокзалу за 3 ціни))))) але зате водій був ввічливий і машина хороша. На фото вид з ресторану.\"\n",
    "# doc = neg_texts[123]\n",
    "\n",
    "\n",
    "#generate tf-idf for the given document\n",
    "neg_tf_idf_vector=neg_tfidf_transformer.transform(neg_cv.transform(neg_texts))\n",
    "\n",
    "#sort the tf-idf vectors by descending order of scores\n",
    "sorted_items=sort_coo(neg_tf_idf_vector.tocoo())\n",
    "\n",
    "#extract only the top n; n here is 10\n",
    "keywords=extract_topn_from_vector(neg_cv.get_feature_names(),sorted_items,100)\n",
    "\n",
    "# now print the results\n",
    "# print(\"\\n===Review text===\")\n",
    "# print(doc)\n",
    "print(\"\\n===Keywords===\")\n",
    "for k in keywords:\n",
    "    print(k,keywords[k])"
   ]
  },
  {
   "cell_type": "markdown",
   "metadata": {},
   "source": [
    "### Positive TF-IDF"
   ]
  },
  {
   "cell_type": "code",
   "execution_count": 19,
   "metadata": {},
   "outputs": [],
   "source": [
    "from sklearn.feature_extraction.text import CountVectorizer, TfidfVectorizer"
   ]
  },
  {
   "cell_type": "code",
   "execution_count": 20,
   "metadata": {},
   "outputs": [
    {
     "data": {
      "text/plain": [
       "120432"
      ]
     },
     "execution_count": 20,
     "metadata": {},
     "output_type": "execute_result"
    }
   ],
   "source": [
    "len(pos_texts)"
   ]
  },
  {
   "cell_type": "code",
   "execution_count": 21,
   "metadata": {},
   "outputs": [
    {
     "name": "stderr",
     "output_type": "stream",
     "text": [
      "/home/dbabenko/.local/lib/python3.7/site-packages/sklearn/feature_extraction/text.py:385: UserWarning: Your stop_words may be inconsistent with your preprocessing. Tokenizing the stop words generated tokens ['дев', 'ласка', 'разу', 'ятий', 'ятнадцятий', 'ятнадцять', 'ять', 'ім'] not in stop_words.\n",
      "  'stop_words.' % sorted(inconsistent))\n"
     ]
    },
    {
     "data": {
      "text/plain": [
       "(134083, 1000)"
      ]
     },
     "execution_count": 21,
     "metadata": {},
     "output_type": "execute_result"
    }
   ],
   "source": [
    "pos_cv=CountVectorizer(max_df=0.85,stop_words=stop_words,max_features=1000, ngram_range=(2,2))\n",
    "pos_word_count_vector=pos_cv.fit_transform(full_df['pos_text'].values)\n",
    "pos_word_count_vector.shape"
   ]
  },
  {
   "cell_type": "code",
   "execution_count": 22,
   "metadata": {},
   "outputs": [
    {
     "data": {
      "text/plain": [
       "1000"
      ]
     },
     "execution_count": 22,
     "metadata": {},
     "output_type": "execute_result"
    }
   ],
   "source": [
    "len(pos_cv.vocabulary_)"
   ]
  },
  {
   "cell_type": "code",
   "execution_count": 23,
   "metadata": {},
   "outputs": [
    {
     "data": {
      "text/plain": [
       "TfidfTransformer(norm='l2', smooth_idf=True, sublinear_tf=False, use_idf=True)"
      ]
     },
     "execution_count": 23,
     "metadata": {},
     "output_type": "execute_result"
    }
   ],
   "source": [
    "from sklearn.feature_extraction.text import TfidfTransformer\n",
    "\n",
    "pos_tfidf_transformer=TfidfTransformer(smooth_idf=True,use_idf=True)\n",
    "pos_tfidf_transformer.fit(pos_word_count_vector)"
   ]
  },
  {
   "cell_type": "code",
   "execution_count": 24,
   "metadata": {},
   "outputs": [
    {
     "data": {
      "text/plain": [
       "<134083x1000 sparse matrix of type '<class 'numpy.int64'>'\n",
       "\twith 298443 stored elements in Compressed Sparse Row format>"
      ]
     },
     "execution_count": 24,
     "metadata": {},
     "output_type": "execute_result"
    }
   ],
   "source": [
    "pos_word_count_vector"
   ]
  },
  {
   "cell_type": "code",
   "execution_count": 25,
   "metadata": {},
   "outputs": [],
   "source": [
    "# you only needs to do this once\n",
    "pos_feature_names=pos_cv.get_feature_names()"
   ]
  },
  {
   "cell_type": "code",
   "execution_count": 26,
   "metadata": {},
   "outputs": [
    {
     "data": {
      "text/plain": [
       "['10 10',\n",
       " '10 15',\n",
       " '10 хв',\n",
       " '10 хвилин',\n",
       " '10 хвилинах',\n",
       " '12 00',\n",
       " '14 00',\n",
       " '15 20',\n",
       " '15 хв',\n",
       " '15 хвилин',\n",
       " '15 хвилинах',\n",
       " '20 хв',\n",
       " '20 хвилин',\n",
       " '23 00',\n",
       " '30 хвилин',\n",
       " '39 лякливий',\n",
       " '39 язаний',\n",
       " '39 язка',\n",
       " '39 язково',\n",
       " '39 язку',\n",
       " '39 язно',\n",
       " '39 яке',\n",
       " '39 яти',\n",
       " '39 ятки',\n",
       " '39 яток',\n",
       " '39 ять',\n",
       " '39 єр',\n",
       " '39 єру',\n",
       " '39 єю',\n",
       " '39 їзд',\n",
       " '39 їзду',\n",
       " 'quota quota',\n",
       " 'wi fi',\n",
       " 'адекватна ціна',\n",
       " 'аеропорту жуляни',\n",
       " 'акуратний номер',\n",
       " 'безкоштовна парковка',\n",
       " 'березі моря',\n",
       " 'близьке розташування',\n",
       " 'близькість метро',\n",
       " 'близькість моря',\n",
       " 'близькість центру',\n",
       " 'білизна рушники',\n",
       " 'білизна чиста',\n",
       " 'білосніжна постіль',\n",
       " 'білосніжні рушники',\n",
       " 'біля вокзалу',\n",
       " 'біля входу',\n",
       " 'біля готелю',\n",
       " 'біля метро',\n",
       " 'біля моря',\n",
       " 'вай фай',\n",
       " 'ванна кімната',\n",
       " 'ванною кімнатою',\n",
       " 'ванні приналежності',\n",
       " 'ванній кімнаті',\n",
       " 'вартість номера',\n",
       " 'вартість проживання',\n",
       " 'ввічливий персонал',\n",
       " 'ввічливий привітний',\n",
       " 'ввічливий уважний',\n",
       " 'ввічливий чуйний',\n",
       " 'вдале розташування',\n",
       " 'велика ванна',\n",
       " 'велика зручна',\n",
       " 'велика зручне',\n",
       " 'велика кімната',\n",
       " 'велика парковка',\n",
       " 'велика територія',\n",
       " 'велике ліжко',\n",
       " 'великий вибір',\n",
       " 'великий затишний',\n",
       " 'великий номер',\n",
       " 'великий плюс',\n",
       " 'великий просторий',\n",
       " 'великий телевізор',\n",
       " 'великий чистий',\n",
       " 'великі номери',\n",
       " 'величезний плюс',\n",
       " 'вибір страв',\n",
       " 'вигляд вікна',\n",
       " 'вид балкона',\n",
       " 'вид вікна',\n",
       " 'вид вікон',\n",
       " 'вид дніпро',\n",
       " 'вид море',\n",
       " 'вид місто',\n",
       " 'вид номера',\n",
       " 'видом море',\n",
       " 'видом місто',\n",
       " 'визначних пам',\n",
       " 'визначні пам',\n",
       " 'високими стелями',\n",
       " 'високому рівні',\n",
       " 'високі стелі',\n",
       " 'вище всяких',\n",
       " 'вищому рівні',\n",
       " 'включений вартість',\n",
       " 'власна парковка',\n",
       " 'внутрішній дворик',\n",
       " 'внутрішній двір',\n",
       " 'вода гаряча',\n",
       " 'вода номері',\n",
       " 'вода чай',\n",
       " 'вокзалу центру',\n",
       " 'всяких похвал',\n",
       " 'всі визначні',\n",
       " 'всі зручності',\n",
       " 'всі необхідні',\n",
       " 'всі очікування',\n",
       " 'всі питання',\n",
       " 'всі побажання',\n",
       " 'всі прохання',\n",
       " 'входить вартість',\n",
       " 'відмінна кухня',\n",
       " 'відмінна ліжко',\n",
       " 'відмінна ціна',\n",
       " 'відмінне місце',\n",
       " 'відмінне обслуговування',\n",
       " 'відмінне розташування',\n",
       " 'відмінне співвідношення',\n",
       " 'відмінний варіант',\n",
       " 'відмінний вид',\n",
       " 'відмінний готель',\n",
       " 'відмінний номер',\n",
       " 'відмінний персонал',\n",
       " 'відмінний ресторан',\n",
       " 'відмінний сервіс',\n",
       " 'відмінний сніданок',\n",
       " 'відмінний чистий',\n",
       " 'відмінно чисто',\n",
       " 'відмінні номери',\n",
       " 'відмінні сніданки',\n",
       " 'відношення персоналу',\n",
       " 'відповідають дійсності',\n",
       " 'відповідає опису',\n",
       " 'відповідає фото',\n",
       " 'відповідає якості',\n",
       " 'вікна виходили',\n",
       " 'вікна виходять',\n",
       " 'вікна номера',\n",
       " 'гарна ліжко',\n",
       " 'гарна територія',\n",
       " 'гарна шумоізоляція',\n",
       " 'гарне місце',\n",
       " 'гарне обслуговування',\n",
       " 'гарне розташування',\n",
       " 'гарне співвідношення',\n",
       " 'гарний вигляд',\n",
       " 'гарний вид',\n",
       " 'гарний готель',\n",
       " 'гарний дизайн',\n",
       " 'гарний настрій',\n",
       " 'гарний номер',\n",
       " 'гарний сніданок',\n",
       " 'гарний чистий',\n",
       " 'гарний інтер',\n",
       " 'гарні номери',\n",
       " 'гаряча вода',\n",
       " 'гарячою водою',\n",
       " 'гарячої води',\n",
       " 'гель душу',\n",
       " 'годині ночі',\n",
       " 'гостинний персонал',\n",
       " 'готель ввічливий',\n",
       " 'готель відмінне',\n",
       " 'готель відмінний',\n",
       " 'готель відповідає',\n",
       " 'готель гарне',\n",
       " 'готель гарний',\n",
       " 'готель гроші',\n",
       " 'готель затишний',\n",
       " 'готель знаходиться',\n",
       " 'готель зручне',\n",
       " 'готель зручно',\n",
       " 'готель має',\n",
       " 'готель новий',\n",
       " 'готель номер',\n",
       " 'готель перевершив',\n",
       " 'готель персонал',\n",
       " 'готель привітний',\n",
       " 'готель приємний',\n",
       " 'готель рекомендую',\n",
       " 'готель розташований',\n",
       " 'готель розташування',\n",
       " 'готель сподобався',\n",
       " 'готель супер',\n",
       " 'готель хороший',\n",
       " 'готель центру',\n",
       " 'готель центрі',\n",
       " 'готель чистий',\n",
       " 'готель чисто',\n",
       " 'готель чудовий',\n",
       " 'готелю відмінне',\n",
       " 'готелю зручне',\n",
       " 'готелю персонал',\n",
       " 'готелю привітний',\n",
       " 'готелю центру',\n",
       " 'готелю центрі',\n",
       " 'готелі тихо',\n",
       " 'готелі чисто',\n",
       " 'готовий допомогти',\n",
       " 'готові допомогти',\n",
       " 'громадського транспорту',\n",
       " 'даному готелі',\n",
       " 'двомісний номер',\n",
       " 'двоспальне ліжко',\n",
       " 'дерев 39',\n",
       " 'дивлячись те',\n",
       " 'дизайн готелю',\n",
       " 'дизайн номера',\n",
       " 'дизайн номерів',\n",
       " 'дизайн інтер',\n",
       " 'дитячий майданчик',\n",
       " 'доброзичливий персонал',\n",
       " 'доброзичливий чуйний',\n",
       " 'доглянута територія',\n",
       " 'додаткову плату',\n",
       " 'дозволили залишити',\n",
       " 'доступна ціна',\n",
       " 'другому поверсі',\n",
       " 'ду уже',\n",
       " 'душ туалет',\n",
       " 'душова кабіна',\n",
       " 'дівчата ресепшені',\n",
       " 'дівчата ресепшн',\n",
       " 'дівчата рецепції',\n",
       " 'дівчина адміністратор',\n",
       " 'дівчина ресепшені',\n",
       " 'дівчина ресепшн',\n",
       " 'дівчина рецепції',\n",
       " 'дійти пішки',\n",
       " 'ділової поїздки',\n",
       " 'жд вокзалу',\n",
       " 'жодного разу',\n",
       " 'загальна кухня',\n",
       " 'закрита парковка',\n",
       " 'закрита територія',\n",
       " 'залишилася задоволена',\n",
       " 'залишилися задоволені',\n",
       " 'залишити багаж',\n",
       " 'залишити речі',\n",
       " 'залізничного вокзалу',\n",
       " 'замовити сніданок',\n",
       " 'заселення виселення',\n",
       " 'заселили швидко',\n",
       " 'затишна атмосфера',\n",
       " 'затишна кімната',\n",
       " 'затишне місце',\n",
       " 'затишний готель',\n",
       " 'затишний дворик',\n",
       " 'затишний комфортний',\n",
       " 'затишний номер',\n",
       " 'затишний чистий',\n",
       " 'затишно зручне',\n",
       " 'затишно комфортно',\n",
       " 'затишно красиво',\n",
       " 'затишно номері',\n",
       " 'затишно персонал',\n",
       " 'затишно привітний',\n",
       " 'затишно тепло',\n",
       " 'затишно тихо',\n",
       " 'затишно хороший',\n",
       " 'затишно чисто',\n",
       " 'затишні номери',\n",
       " 'затишні чисті',\n",
       " 'зв 39',\n",
       " 'зміна рушників',\n",
       " 'знаходиться центрі',\n",
       " 'зручна ліжко',\n",
       " 'зручна парковка',\n",
       " 'зручна транспортна',\n",
       " 'зручне ліжко',\n",
       " 'зручне місце',\n",
       " 'зручне місцерозташування',\n",
       " 'зручне розташування',\n",
       " 'зручний матрац',\n",
       " 'зручний номер',\n",
       " 'зручний чистий',\n",
       " 'зручно добиратися',\n",
       " 'зручно комфортно',\n",
       " 'зручно розташований',\n",
       " 'зручно чисто',\n",
       " 'зручності номері',\n",
       " 'зручні ліжка',\n",
       " 'зручні матраци',\n",
       " 'зручні номери',\n",
       " 'зубна щітка',\n",
       " 'зубні щітки',\n",
       " 'зупинка громадського',\n",
       " 'зупинялися готелі',\n",
       " 'зупинятися готелі',\n",
       " 'зупиняюся готелі',\n",
       " 'зупиняємося готелі',\n",
       " 'кав 39',\n",
       " 'кава чай',\n",
       " 'камера зберігання',\n",
       " 'камері схову',\n",
       " 'кафе готелі',\n",
       " 'кафе ресторани',\n",
       " 'кафе ресторанів',\n",
       " 'кожному поверсі',\n",
       " 'комплімент готелю',\n",
       " 'комфорт чистота',\n",
       " 'комфортна ліжко',\n",
       " 'комфортне ліжко',\n",
       " 'комфортний готель',\n",
       " 'комфортний номер',\n",
       " 'комфортний чистий',\n",
       " 'комфортно затишно',\n",
       " 'комфортно персонал',\n",
       " 'комфортно чисто',\n",
       " 'комфортного відпочинку',\n",
       " 'комфортного перебування',\n",
       " 'комфортного проживання',\n",
       " 'комфортні ліжка',\n",
       " 'комфортні номери',\n",
       " 'кондиціонер телевізор',\n",
       " 'кондиціонер холодильник',\n",
       " 'красива територія',\n",
       " 'красивий вид',\n",
       " 'красивий номер',\n",
       " 'красивий інтер',\n",
       " 'красиво затишно',\n",
       " 'красиво чисто',\n",
       " 'кращий готель',\n",
       " 'крокової доступності',\n",
       " 'кулер водою',\n",
       " 'кухня ресторані',\n",
       " 'кухня усім',\n",
       " 'кімната велика',\n",
       " 'кімната простора',\n",
       " 'кімната чиста',\n",
       " 'кімнаті чисто',\n",
       " 'легко дістатися',\n",
       " 'легко знайти',\n",
       " 'люб 39',\n",
       " 'лякливий персонал',\n",
       " 'ліжка зручні',\n",
       " 'ліжко 39',\n",
       " 'ліжко велика',\n",
       " 'ліжко зручна',\n",
       " 'ліжко зручне',\n",
       " 'ліжко номері',\n",
       " 'ліжко подушки',\n",
       " 'ліжко хороший',\n",
       " 'ліжко чиста',\n",
       " 'ліжко чисто',\n",
       " 'магазини кафе',\n",
       " 'маленький затишний',\n",
       " 'маленькою дитиною',\n",
       " 'меблі нові',\n",
       " 'меблі сантехніка',\n",
       " 'метро 10',\n",
       " 'метро quota',\n",
       " 'метро хвилин',\n",
       " 'мило шампунь',\n",
       " 'можливість залишити',\n",
       " 'му поверсі',\n",
       " 'мікрохвильова піч',\n",
       " 'мікрохвильовка чайник',\n",
       " 'міні бар',\n",
       " 'міні готель',\n",
       " 'міні кухня',\n",
       " 'міні кухні',\n",
       " 'міні холодильник',\n",
       " 'міста привітний',\n",
       " 'місце відпочинку',\n",
       " 'місце положення',\n",
       " 'місце розташування',\n",
       " 'місце центрі',\n",
       " 'місцезнаходження відмінне',\n",
       " 'місцезнаходження персонал',\n",
       " 'місцезнаходження супер',\n",
       " 'місцезнаходження чистота',\n",
       " 'місцем розташування',\n",
       " 'місця розташування',\n",
       " 'нав 39',\n",
       " 'найвищому рівні',\n",
       " 'наступного разу',\n",
       " 'наявність кухні',\n",
       " 'наявність парковки',\n",
       " 'невеликий готель',\n",
       " 'невеликий затишний',\n",
       " 'незважаючи те',\n",
       " 'ненав 39',\n",
       " 'необхідне комфортного',\n",
       " 'необхідне номері',\n",
       " 'необхідне проживання',\n",
       " 'непоганий готель',\n",
       " 'непоганий сніданок',\n",
       " 'низька ціна',\n",
       " 'нова сантехніка',\n",
       " 'нове чисте',\n",
       " 'новий готель',\n",
       " 'новий ремонт',\n",
       " 'новий чистий',\n",
       " 'нові меблі',\n",
       " 'нові номери',\n",
       " 'нові чисті',\n",
       " 'номер балконом',\n",
       " 'номер ввічливий',\n",
       " 'номер великий',\n",
       " 'номер видом',\n",
       " 'номер відмінний',\n",
       " 'номер відповідає',\n",
       " 'номер гарний',\n",
       " 'номер затишний',\n",
       " 'номер зручне',\n",
       " 'номер зручний',\n",
       " 'номер комфортний',\n",
       " 'номер красивий',\n",
       " 'номер люкс',\n",
       " 'номер маленький',\n",
       " 'номер напівлюкс',\n",
       " 'номер невеликий',\n",
       " 'номер необхідне',\n",
       " 'номер номері',\n",
       " 'номер персонал',\n",
       " 'номер повністю',\n",
       " 'номер привітний',\n",
       " 'номер приємний',\n",
       " 'номер просторий',\n",
       " 'номер розташування',\n",
       " 'номер світлий',\n",
       " 'номер смачний',\n",
       " 'номер сніданок',\n",
       " 'номер сподобався',\n",
       " 'номер стандарт',\n",
       " 'номер усім',\n",
       " 'номер хороша',\n",
       " 'номер хороший',\n",
       " 'номер чистий',\n",
       " 'номер чисто',\n",
       " 'номер чистота',\n",
       " 'номер чудовий',\n",
       " 'номера чисті',\n",
       " 'номерах чисто',\n",
       " 'номери великі',\n",
       " 'номери затишні',\n",
       " 'номери привітний',\n",
       " 'номери просторі',\n",
       " 'номери хороший',\n",
       " 'номери хороші',\n",
       " 'номери чисто',\n",
       " 'номери чисті',\n",
       " 'номері затишно',\n",
       " 'номері зручне',\n",
       " 'номері кондиціонер',\n",
       " 'номері необхідне',\n",
       " 'номері тепло',\n",
       " 'номері тихо',\n",
       " 'номері холодильник',\n",
       " 'номері чайник',\n",
       " 'номері чисто',\n",
       " 'нормальний сніданок',\n",
       " 'ніяких проблем',\n",
       " 'об 39',\n",
       " 'обов 39',\n",
       " 'обов язково',\n",
       " 'обслуговування вищому',\n",
       " 'обслуговуючий персонал',\n",
       " 'одним словом',\n",
       " 'однозначно рекомендую',\n",
       " 'одноразові тапочки',\n",
       " 'одну ніч',\n",
       " 'окрема подяка',\n",
       " 'оперний театр',\n",
       " 'оперного театру',\n",
       " 'основних визначних',\n",
       " 'особлива подяка',\n",
       " 'пам 39',\n",
       " 'парковка авто',\n",
       " 'парковка території',\n",
       " 'пару днів',\n",
       " 'пару хвилин',\n",
       " 'перебування готелі',\n",
       " 'перевершив всі',\n",
       " 'перевершив очікування',\n",
       " 'персонал ввічливий',\n",
       " 'персонал всі',\n",
       " 'персонал відмінне',\n",
       " 'персонал відмінний',\n",
       " 'персонал гарне',\n",
       " 'персонал гарний',\n",
       " 'персонал готель',\n",
       " 'персонал готелю',\n",
       " 'персонал готелі',\n",
       " 'персонал готовий',\n",
       " 'персонал доброзичливий',\n",
       " 'персонал заселили',\n",
       " 'персонал затишний',\n",
       " 'персонал затишно',\n",
       " 'персонал зручне',\n",
       " 'персонал люб',\n",
       " 'персонал можливість',\n",
       " 'персонал місце',\n",
       " 'персонал наявність',\n",
       " 'персонал номер',\n",
       " 'персонал номери',\n",
       " 'персонал номері',\n",
       " 'персонал парковка',\n",
       " 'персонал прекрасний',\n",
       " 'персонал привітний',\n",
       " 'персонал приємний',\n",
       " 'персонал рекомендую',\n",
       " 'персонал ресепшені',\n",
       " 'персонал ресепшн',\n",
       " 'персонал рецепції',\n",
       " 'персонал розташування',\n",
       " 'персонал смачна',\n",
       " 'персонал смачний',\n",
       " 'персонал смачні',\n",
       " 'персонал сніданки',\n",
       " 'персонал сніданок',\n",
       " 'персонал сподобалося',\n",
       " 'персонал супер',\n",
       " 'персонал уважний',\n",
       " 'персонал хороша',\n",
       " 'персонал хороше',\n",
       " 'персонал хороший',\n",
       " 'персонал хороші',\n",
       " 'персонал ціна',\n",
       " 'персонал чистий',\n",
       " 'персонал чисто',\n",
       " 'персонал чистота',\n",
       " 'персонал чисті',\n",
       " 'персонал чудовий',\n",
       " 'персонал чуйний',\n",
       " 'персонал швидко',\n",
       " 'персоналу готелю',\n",
       " 'першому поверсі',\n",
       " 'першу чергу',\n",
       " 'питна вода',\n",
       " 'планувальна дошка',\n",
       " 'площі ринок',\n",
       " 'пляшка води',\n",
       " 'повністю відповідає',\n",
       " 'подвір 39',\n",
       " 'позитивні враження',\n",
       " 'порадувало наявність',\n",
       " 'поряд готелем',\n",
       " 'послужливо персонал',\n",
       " 'постіль рушники',\n",
       " 'постіль чиста',\n",
       " 'постільна білизна',\n",
       " 'постільну білизну',\n",
       " 'поєднання ціна',\n",
       " 'практично центрі',\n",
       " 'пральна машина',\n",
       " 'праска планувальна',\n",
       " 'працює цілодобово',\n",
       " 'прекрасне місце',\n",
       " 'прекрасне розташування',\n",
       " 'прекрасний вид',\n",
       " 'прекрасний готель',\n",
       " 'прекрасний номер',\n",
       " 'прекрасний персонал',\n",
       " 'прекрасний сніданок',\n",
       " 'прекрасні сніданки',\n",
       " 'прибирання номера',\n",
       " 'прибирання номері',\n",
       " 'привабливий персонал',\n",
       " 'привітна господиня',\n",
       " 'привітна дівчина',\n",
       " 'привітний адміністратор',\n",
       " 'привітний ввічливий',\n",
       " 'привітний доброзичливий',\n",
       " 'привітний персонал',\n",
       " 'привітний уважний',\n",
       " 'привітний чуйний',\n",
       " 'привітним персоналом',\n",
       " 'привітність персоналу',\n",
       " 'прийнятна ціна',\n",
       " 'прийти допомогу',\n",
       " 'приємна атмосфера',\n",
       " 'приємна дівчина',\n",
       " 'приємна ціна',\n",
       " 'приємне місце',\n",
       " 'приємний бонус',\n",
       " 'приємний ввічливий',\n",
       " 'приємний готель',\n",
       " 'приємний дизайн',\n",
       " 'приємний номер',\n",
       " 'приємний персонал',\n",
       " 'приємний привітний',\n",
       " 'приємний чуйний',\n",
       " 'приємний інтер',\n",
       " 'приємно здивовані',\n",
       " 'приємно здивував',\n",
       " 'приємно здивувала',\n",
       " 'приємно здивувало',\n",
       " 'приємні враження',\n",
       " 'приїхали пізно',\n",
       " 'продуктовий магазин',\n",
       " 'продумано дрібниць',\n",
       " 'простора ванна',\n",
       " 'простора кімната',\n",
       " 'просторий затишний',\n",
       " 'просторий номер',\n",
       " 'просторий світлий',\n",
       " 'просторий чистий',\n",
       " 'просторі кімнати',\n",
       " 'просторі номери',\n",
       " 'просторі чисті',\n",
       " 'професійний персонал',\n",
       " 'прямо біля',\n",
       " 'прямо номер',\n",
       " 'прямо центрі',\n",
       " 'пузата хата',\n",
       " 'пізно вночі',\n",
       " 'пізній виїзд',\n",
       " 'пішки 10',\n",
       " 'пішки хвилин',\n",
       " 'пішки центру',\n",
       " 'пішої доступності',\n",
       " 'пішій доступності',\n",
       " 'ранній заїзд',\n",
       " 'рекомендувати друзям',\n",
       " 'рекомендую готель',\n",
       " 'ремонт чисто',\n",
       " 'ресторан готелі',\n",
       " 'ресторані готелю',\n",
       " 'ресторані смачно',\n",
       " 'робота персоналу',\n",
       " 'розв 39',\n",
       " 'розмір номера',\n",
       " 'розміщення готелю',\n",
       " 'розташований готель',\n",
       " 'розташований центру',\n",
       " 'розташований центрі',\n",
       " 'розташування 10',\n",
       " 'розташування біля',\n",
       " 'розташування ввічливий',\n",
       " 'розташування вид',\n",
       " 'розташування вокзалу',\n",
       " 'розташування всі',\n",
       " 'розташування відмінне',\n",
       " 'розташування відмінний',\n",
       " 'розташування гарне',\n",
       " 'розташування гарний',\n",
       " 'розташування готель',\n",
       " 'розташування готелю',\n",
       " 'розташування доброзичливий',\n",
       " 'розташування затишний',\n",
       " 'розташування зручне',\n",
       " 'розташування зручно',\n",
       " 'розташування метро',\n",
       " 'розташування наявність',\n",
       " 'розташування номер',\n",
       " 'розташування номері',\n",
       " 'розташування парковка',\n",
       " 'розташування персонал',\n",
       " 'розташування прекрасне',\n",
       " 'розташування привітний',\n",
       " 'розташування приємний',\n",
       " 'розташування прямо',\n",
       " 'розташування самий',\n",
       " 'розташування смачний',\n",
       " 'розташування смачні',\n",
       " 'розташування сніданок',\n",
       " 'розташування співвідношення',\n",
       " 'розташування супер',\n",
       " 'розташування тихо',\n",
       " 'розташування хв',\n",
       " 'розташування хвилин',\n",
       " 'розташування хороше',\n",
       " 'розташування хороший',\n",
       " 'розташування центр',\n",
       " 'розташування центру',\n",
       " 'розташування центрі',\n",
       " 'розташування ціна',\n",
       " 'розташування чистий',\n",
       " 'розташування чисто',\n",
       " 'розташування чистота',\n",
       " 'розташування чисті',\n",
       " 'розташування чудове',\n",
       " 'розташування чуйний',\n",
       " 'розташування ідеальне',\n",
       " 'рукою подати',\n",
       " 'рушники міняли',\n",
       " 'рушники тапочки',\n",
       " 'рушники халати',\n",
       " 'рушники чисті',\n",
       " 'різноманітний сніданок',\n",
       " 'різноманітні сніданки',\n",
       " 'самий центр',\n",
       " 'своя парковка',\n",
       " 'свіже повітря',\n",
       " 'свіжий ремонт',\n",
       " 'свіжим ремонтом',\n",
       " 'світлий номер',\n",
       " 'світлий чистий',\n",
       " 'ситний сніданок',\n",
       " 'ситні сніданки',\n",
       " 'смачна кава',\n",
       " 'смачна кухня',\n",
       " 'смачна їжа',\n",
       " 'смачний різноманітний',\n",
       " 'смачний ситний',\n",
       " 'смачний сніданок',\n",
       " 'смачно готують',\n",
       " 'смачно поїсти',\n",
       " 'смачну каву',\n",
       " 'смачні різноманітні',\n",
       " 'смачні ситні',\n",
       " 'смачні сніданки',\n",
       " 'сніданки вибір',\n",
       " 'сніданки відмінні',\n",
       " 'сніданки привітний',\n",
       " 'сніданки смачні',\n",
       " 'сніданки хороші',\n",
       " 'сніданок великий',\n",
       " 'сніданок вибір',\n",
       " 'сніданок включений',\n",
       " 'сніданок входить',\n",
       " 'сніданок відмінний',\n",
       " 'сніданок зручне',\n",
       " 'сніданок непоганий',\n",
       " 'сніданок номер',\n",
       " 'сніданок нормальний',\n",
       " 'сніданок персонал',\n",
       " 'сніданок привітний',\n",
       " 'сніданок приємний',\n",
       " 'сніданок розташування',\n",
       " 'сніданок різноманітний',\n",
       " 'сніданок ситний',\n",
       " 'сніданок смачний',\n",
       " 'сніданок сподобався',\n",
       " 'сніданок супер',\n",
       " 'сніданок хороший',\n",
       " 'сніданок чисто',\n",
       " 'сніданок чистота',\n",
       " 'сніданок чудовий',\n",
       " 'сніданок шведський',\n",
       " 'спасибо большое',\n",
       " 'сподобався готель',\n",
       " 'сподобався номер',\n",
       " 'сподобався персонал',\n",
       " 'сподобався сніданок',\n",
       " 'сподобалось розташування',\n",
       " 'сподобалося абсолютно',\n",
       " 'сподобалося готель',\n",
       " 'сподобалося місце',\n",
       " 'сподобалося номер',\n",
       " 'сподобалося персонал',\n",
       " 'сподобалося рекомендую',\n",
       " 'сподобалося розташування',\n",
       " 'сподобалося ставлення',\n",
       " 'сподобалося те',\n",
       " 'сподобалося чисто',\n",
       " 'спокійне місце',\n",
       " 'співвідношенню ціна',\n",
       " 'співвідношення ціна',\n",
       " 'співвідношення ціни',\n",
       " 'ставлення персоналу',\n",
       " 'станція метро',\n",
       " 'станції метро',\n",
       " 'старого міста',\n",
       " 'стильний дизайн',\n",
       " 'стильний інтер',\n",
       " 'сторонніх запахів',\n",
       " 'стійка реєстрації',\n",
       " 'супер персонал',\n",
       " 'супер розташування',\n",
       " 'супер чисто',\n",
       " 'сучасний готель',\n",
       " 'сучасний дизайн',\n",
       " 'сучасний ремонт',\n",
       " 'сучасний інтер',\n",
       " 'таку ціну',\n",
       " 'тапочки рушники',\n",
       " 'тапочки халати',\n",
       " 'те готель',\n",
       " 'телевізор кондиціонер',\n",
       " 'телевізор холодильник',\n",
       " 'тепла підлога',\n",
       " 'теплий номер',\n",
       " 'теплий прийом',\n",
       " 'тепло затишно',\n",
       " 'тепло комфортно',\n",
       " 'тепло номері',\n",
       " 'тепло чисто',\n",
       " 'територія готелю',\n",
       " 'території готелю',\n",
       " 'тихе місце',\n",
       " 'тихе спокійне',\n",
       " 'тихий готель',\n",
       " 'тихий дворик',\n",
       " 'тихий двір',\n",
       " 'тихий затишний',\n",
       " 'тихий номер',\n",
       " 'тихий район',\n",
       " 'тихо затишно',\n",
       " 'тихо комфортно',\n",
       " 'тихо спокійно',\n",
       " 'тихо чисто',\n",
       " 'тихому місці',\n",
       " 'тихій вулиці',\n",
       " 'тиша спокій',\n",
       " 'торговий центр',\n",
       " 'транспортна розв',\n",
       " 'туалетні приналежності',\n",
       " 'турботливий персонал',\n",
       " 'уважний ввічливий',\n",
       " 'уважний персонал',\n",
       " 'умови проживання',\n",
       " 'усміхнений персонал',\n",
       " 'усім необхідним',\n",
       " 'фен праска',\n",
       " 'фен чайник',\n",
       " 'фото відповідають',\n",
       " 'фото сайті',\n",
       " 'халат тапочки',\n",
       " 'халати тапочки',\n",
       " 'хв пішки',\n",
       " 'хв ходьби',\n",
       " 'хвилин 10',\n",
       " 'хвилин 15',\n",
       " 'хвилин 20',\n",
       " 'хвилин пішки',\n",
       " 'хвилин ходьби',\n",
       " 'хвилин центру',\n",
       " 'хвилинах ходьби',\n",
       " 'ходьби центру',\n",
       " 'холодильник кондиціонер',\n",
       " 'холодильник мікрохвильова',\n",
       " 'холодильник номері',\n",
       " 'холодильник телевізор',\n",
       " 'холодильник чайник',\n",
       " 'хороша звукоізоляція',\n",
       " 'хороша кухня',\n",
       " 'хороша ліжко',\n",
       " 'хороша сантехніка',\n",
       " 'хороша транспортна',\n",
       " 'хороша ціна',\n",
       " 'хороше місце',\n",
       " 'хороше розташування',\n",
       " 'хороший wi',\n",
       " 'хороший варіант',\n",
       " 'хороший вибір',\n",
       " 'хороший вид',\n",
       " 'хороший готель',\n",
       " 'хороший затишний',\n",
       " 'хороший номер',\n",
       " 'хороший персонал',\n",
       " 'хороший привітний',\n",
       " 'хороший ремонт',\n",
       " 'хороший ресторан',\n",
       " 'хороший сервіс',\n",
       " 'хороший сніданок',\n",
       " 'хороший чистий',\n",
       " 'хороший інтернет',\n",
       " 'хорошому рівні',\n",
       " 'хорошому стані',\n",
       " 'хороші номери',\n",
       " 'хороші сніданки',\n",
       " 'хороші чисті',\n",
       " 'хочеться відзначити',\n",
       " 'хочеться повернутися',\n",
       " 'хочу відзначити',\n",
       " 'центр міста',\n",
       " 'центру 10',\n",
       " 'центру львова',\n",
       " 'центру міста',\n",
       " 'центру пішки',\n",
       " 'центру хвилин',\n",
       " 'центрі києва',\n",
       " 'центрі львова',\n",
       " 'центрі міста',\n",
       " 'центрі одеси',\n",
       " 'цікавий дизайн',\n",
       " 'цікавий інтер',\n",
       " 'цілодобова стійка',\n",
       " 'цілому готель',\n",
       " 'цілому сподобалося',\n",
       " 'ціна відповідає',\n",
       " 'ціна номер',\n",
       " 'ціна розташування',\n",
       " 'ціна якість',\n",
       " 'ціни якості',\n",
       " 'чай кава',\n",
       " 'чай каву',\n",
       " 'чайник мікрохвильова',\n",
       " 'чайник номері',\n",
       " 'чайник посуд',\n",
       " 'чайник холодильник',\n",
       " 'чайник чай',\n",
       " 'чайник чашки',\n",
       " 'чаю кави',\n",
       " 'чиста білизна',\n",
       " 'чиста ванна',\n",
       " 'чиста кімната',\n",
       " 'чиста постіль',\n",
       " 'чиста постільна',\n",
       " 'чистий акуратний',\n",
       " 'чистий готель',\n",
       " 'чистий затишний',\n",
       " 'чистий зручний',\n",
       " 'чистий комфортний',\n",
       " 'чистий красивий',\n",
       " 'чистий новий',\n",
       " 'чистий номер',\n",
       " 'чистий охайний',\n",
       " 'чистий персонал',\n",
       " 'чистий просторий',\n",
       " 'чистий санвузол',\n",
       " 'чистий світлий',\n",
       " 'чистий теплий',\n",
       " 'чисто акуратно',\n",
       " 'чисто ввічливий',\n",
       " 'чисто затишно',\n",
       " 'чисто зручне',\n",
       " 'чисто зручно',\n",
       " 'чисто комфортно',\n",
       " 'чисто красиво',\n",
       " 'чисто необхідне',\n",
       " 'чисто нове',\n",
       " 'чисто номер',\n",
       " 'чисто номерах',\n",
       " 'чисто номері',\n",
       " 'чисто охайно',\n",
       " 'чисто персонал',\n",
       " 'чисто прибрано',\n",
       " 'чисто привітний',\n",
       " 'чисто приємний',\n",
       " 'чисто приємно',\n",
       " 'чисто просторо',\n",
       " 'чисто сніданок',\n",
       " 'чисто спокійно',\n",
       " 'чисто тепло',\n",
       " 'чисто тихо',\n",
       " 'чисто хороший',\n",
       " 'чистота затишок',\n",
       " 'чистота комфорт',\n",
       " 'чистота номера',\n",
       " 'чистота номерах',\n",
       " 'чистота номері',\n",
       " 'чистота персонал',\n",
       " 'чистота порядок',\n",
       " 'чистота привітний',\n",
       " 'чистота розташування',\n",
       " 'чистота тиша',\n",
       " 'чистота ідеальна',\n",
       " 'чисту білизну',\n",
       " 'чисті затишні',\n",
       " 'чисті комфортні',\n",
       " 'чисті номера',\n",
       " 'чисті номери',\n",
       " 'чисті просторі',\n",
       " 'чисті рушники',\n",
       " 'чудове місце',\n",
       " 'чудове розташування',\n",
       " 'чудовий вид',\n",
       " 'чудовий готель',\n",
       " 'чудовий номер',\n",
       " 'чудовий персонал',\n",
       " 'чудовий сніданок',\n",
       " 'чудові сніданки',\n",
       " 'чуйна персонал',\n",
       " 'чуйний персонал',\n",
       " 'чуйний привітний',\n",
       " 'шампунь гель',\n",
       " 'шампунь мило',\n",
       " 'шведський стіл',\n",
       " 'шведського столу',\n",
       " 'швидке заселення',\n",
       " 'швидкий інтернет',\n",
       " 'швидко заселили',\n",
       " 'шикарне місце',\n",
       " 'шикарний вид',\n",
       " 'шикарний сніданок',\n",
       " 'щоденне прибирання',\n",
       " 'язаний персонал',\n",
       " 'язково зупинимося',\n",
       " 'язково зупинюся',\n",
       " 'язково повернемося',\n",
       " 'язково повернуся',\n",
       " 'язково приїдемо',\n",
       " 'яке ліжко',\n",
       " 'якість відповідає',\n",
       " 'якість супер',\n",
       " 'єдиний мінус',\n",
       " 'єдиний плюс',\n",
       " 'єр готелю',\n",
       " 'єр номера',\n",
       " 'єр чистота',\n",
       " 'ідеальна чистота',\n",
       " 'ідеальне місце',\n",
       " 'ідеальне розташування',\n",
       " 'ідеальне співвідношення',\n",
       " 'ідеальний варіант',\n",
       " 'ідеально чисто',\n",
       " 'із задоволенням',\n",
       " 'інтер 39',\n",
       " 'інтер єр',\n",
       " 'історичного центру',\n",
       " 'історичному центрі',\n",
       " 'їжа ресторані',\n",
       " 'їжа смачна']"
      ]
     },
     "execution_count": 26,
     "metadata": {},
     "output_type": "execute_result"
    }
   ],
   "source": [
    "pos_feature_names"
   ]
  },
  {
   "cell_type": "code",
   "execution_count": 60,
   "metadata": {},
   "outputs": [],
   "source": [
    "def analyze_top_n_pos_bigram(positive_texts):\n",
    "    pos_tf_idf_vector=pos_tfidf_transformer.transform(pos_cv.transform(positive_texts))\n",
    "\n",
    "    #sort the tf-idf vectors by descending order of scores\n",
    "    sorted_items=sort_coo(pos_tf_idf_vector.tocoo())\n",
    "\n",
    "    #extract only the top n; n here is 10\n",
    "    keywords=extract_topn_from_vector(pos_feature_names,sorted_items,100)\n",
    "    return list(keywords.keys())"
   ]
  },
  {
   "cell_type": "code",
   "execution_count": 72,
   "metadata": {},
   "outputs": [],
   "source": [
    "def analyze_top_n_neg_bigram(negative_texts):\n",
    "    neg_tf_idf_vector=neg_tfidf_transformer.transform(pos_cv.transform(negative_texts))\n",
    "\n",
    "    #sort the tf-idf vectors by descending order of scores\n",
    "    sorted_items=sort_coo(neg_tf_idf_vector.tocoo())\n",
    "\n",
    "    #extract only the top n; n here is 10\n",
    "    keywords=extract_topn_from_vector(neg_cv.get_feature_names(),sorted_items,100)\n",
    "    return list(keywords.keys())"
   ]
  },
  {
   "cell_type": "markdown",
   "metadata": {},
   "source": [
    "### Clustering"
   ]
  },
  {
   "cell_type": "code",
   "execution_count": 39,
   "metadata": {},
   "outputs": [],
   "source": [
    "import torch\n",
    "import pandas as pd\n",
    "from ngram_manager import NgramManager\n",
    "from gensim.models import KeyedVectors\n",
    "import numpy as np\n",
    "from nltk.cluster import KMeansClusterer\n",
    "import nltk\n",
    "from sklearn.feature_extraction.text import CountVectorizer\n",
    "import tokenize_uk"
   ]
  },
  {
   "cell_type": "code",
   "execution_count": 38,
   "metadata": {},
   "outputs": [],
   "source": [
    "class ClusterNgram:\n",
    "    def __init__(self, word2vec):\n",
    "        self.word2vec = word2vec\n",
    "        \n",
    "        \n",
    "    \n",
    "    def cluster_n_grams(self, ngrams, num_cluster):\n",
    "        X = self.convert_ngrams_to_vectors(ngrams)\n",
    "        kclusterer = KMeansClusterer(num_cluster, \n",
    "                                     distance=nltk.cluster.util.cosine_distance, \n",
    "                                     repeats=100,\n",
    "                                     avoid_empty_clusters=True)\n",
    "        y = kclusterer.cluster(X, assign_clusters=True)\n",
    "        \n",
    "        top_indices = self.find_top_n_gram_indices(X, y, kclusterer.means())\n",
    "        \n",
    "        return np.array(ngrams)[top_indices]\n",
    "        \n",
    "        \n",
    "    \n",
    "    def find_top_n_gram_indices(self, X, y, centroids):\n",
    "        min_dis = len(centroids)*[100]\n",
    "        top_indices = len(centroids)*[-1]\n",
    "        for i in range(0, len(centroids)):\n",
    "            for j in range(0, len(X)):\n",
    "                if y[j] != i:\n",
    "                    continue\n",
    "                \n",
    "                dis = nltk.cluster.util.cosine_distance(X[j], centroids[i])\n",
    "                if min_dis[i] > dis:\n",
    "                    min_dis[i] = dis\n",
    "                    top_indices[i] = j\n",
    "        \n",
    "        return top_indices\n",
    "                    \n",
    "    \n",
    "    def convert_ngrams_to_vectors(self, ngrams):\n",
    "        X = []\n",
    "        for ngram in ngrams:\n",
    "            try:\n",
    "                words = tokenize_uk.tokenize_words(ngram)\n",
    "                x = word2vec[words[0]]\n",
    "                for i in range(1, len(words)):\n",
    "                    x = x + word2vec[words[i]]\n",
    "                X.append(x)\n",
    "            except Exception as e:\n",
    "                print(e)\n",
    "#                 X.append(np.zeros(300))\n",
    "        return X"
   ]
  },
  {
   "cell_type": "code",
   "execution_count": 40,
   "metadata": {},
   "outputs": [],
   "source": [
    "embeddings_file = \"/home/dbabenko/Downloads/ubercorpus.cased.tokenized.word2vec.300d\""
   ]
  },
  {
   "cell_type": "code",
   "execution_count": 41,
   "metadata": {},
   "outputs": [],
   "source": [
    "word2vec = KeyedVectors.load_word2vec_format(embeddings_file)"
   ]
  },
  {
   "cell_type": "code",
   "execution_count": 52,
   "metadata": {},
   "outputs": [],
   "source": [
    "cluster_ngram = ClusterNgram(word2vec)"
   ]
  },
  {
   "cell_type": "code",
   "execution_count": null,
   "metadata": {},
   "outputs": [],
   "source": []
  },
  {
   "cell_type": "markdown",
   "metadata": {},
   "source": [
    "### Analyze"
   ]
  },
  {
   "cell_type": "code",
   "execution_count": 62,
   "metadata": {},
   "outputs": [],
   "source": [
    "pos_bigrams = analyze_top_n_pos_bigram(blum_df['pos_text'].values)"
   ]
  },
  {
   "cell_type": "code",
   "execution_count": 73,
   "metadata": {},
   "outputs": [],
   "source": [
    "neg_bigrams = analyze_top_n_neg_bigram(blum_df['neg_text'].values)"
   ]
  },
  {
   "cell_type": "code",
   "execution_count": 56,
   "metadata": {},
   "outputs": [
    {
     "data": {
      "text/plain": [
       "array(['кава чай', 'готель центрі', 'чудовий готель', 'сніданок номер',\n",
       "       'чисто комфортно', 'привітний персонал', 'зручне розташування'],\n",
       "      dtype='<U22')"
      ]
     },
     "execution_count": 56,
     "metadata": {},
     "output_type": "execute_result"
    }
   ],
   "source": [
    "cluster_ngram.cluster_n_grams(pos_bigrams, 7)"
   ]
  },
  {
   "cell_type": "code",
   "execution_count": null,
   "metadata": {},
   "outputs": [],
   "source": [
    "cluster_ngram.cluster_n_grams(pos_bigrams, 7)"
   ]
  },
  {
   "cell_type": "code",
   "execution_count": 74,
   "metadata": {},
   "outputs": [
    {
     "data": {
      "text/plain": [
       "array(['те готель', 'тепла вода', 'двері номер', 'маленький холодильник',\n",
       "       'телевізора номері', 'включений вартість', '30 40'], dtype='<U22')"
      ]
     },
     "execution_count": 74,
     "metadata": {},
     "output_type": "execute_result"
    }
   ],
   "source": [
    "cluster_ngram.cluster_n_grams(neg_bigrams, 7)"
   ]
  },
  {
   "cell_type": "code",
   "execution_count": 65,
   "metadata": {},
   "outputs": [
    {
     "data": {
      "text/plain": [
       "['чудовий персонал',\n",
       " 'чудовий готель',\n",
       " 'чистота персонал',\n",
       " 'чистота затишок',\n",
       " 'чисто тихо',\n",
       " 'чисто персонал',\n",
       " 'чисто охайно',\n",
       " 'чисто комфортно',\n",
       " 'ціна якість',\n",
       " 'центрі міста',\n",
       " 'хороший сніданок',\n",
       " 'хороший персонал',\n",
       " 'уважний персонал',\n",
       " 'тиша спокій',\n",
       " 'супер розташування',\n",
       " 'ставлення персоналу',\n",
       " 'сніданок смачний',\n",
       " 'сніданок різноманітний',\n",
       " 'сніданок номер',\n",
       " 'сніданок вибір',\n",
       " 'смачні сніданки',\n",
       " 'свіжим ремонтом',\n",
       " 'розташування чудове',\n",
       " 'розташування чистота',\n",
       " 'розташування персонал',\n",
       " 'розташування готелю',\n",
       " 'розташування відмінне',\n",
       " 'розташований центрі',\n",
       " 'прямо центрі',\n",
       " 'приємний персонал',\n",
       " 'привітний персонал',\n",
       " 'привабливий персонал',\n",
       " 'питна вода',\n",
       " 'персонал чистота',\n",
       " 'персонал уважний',\n",
       " 'персонал ввічливий',\n",
       " 'номері чисто',\n",
       " 'місце розташування',\n",
       " 'кава чай',\n",
       " 'зупинятися готелі',\n",
       " 'зручно чисто',\n",
       " 'зручне розташування',\n",
       " 'затишний номер',\n",
       " 'затишне місце',\n",
       " 'доброзичливий персонал',\n",
       " 'готель чистий',\n",
       " 'готель центрі',\n",
       " 'готель центру',\n",
       " 'готель має',\n",
       " 'гарне розташування',\n",
       " 'відмінний готель',\n",
       " 'близькість центру',\n",
       " 'чистота привітний',\n",
       " 'чисто привітний',\n",
       " 'чудове місце',\n",
       " 'кращий готель',\n",
       " 'незважаючи те',\n",
       " 'доброзичливий чуйний',\n",
       " 'розташування приємний',\n",
       " 'прибирання номера',\n",
       " 'знаходиться центрі',\n",
       " 'практично центрі',\n",
       " 'готель гроші',\n",
       " 'зручне місце',\n",
       " 'самий центр',\n",
       " 'нові номери',\n",
       " 'відмінне місце',\n",
       " 'дизайн номерів',\n",
       " 'залишити речі',\n",
       " 'номері тихо',\n",
       " 'чистота розташування',\n",
       " 'міста привітний',\n",
       " 'готелю зручне',\n",
       " 'тепло комфортно',\n",
       " 'вода номері',\n",
       " 'смачно поїсти',\n",
       " 'розташування смачний',\n",
       " 'світлий чистий',\n",
       " 'чаю кави',\n",
       " 'сніданок привітний',\n",
       " 'номер усім']"
      ]
     },
     "execution_count": 65,
     "metadata": {},
     "output_type": "execute_result"
    }
   ],
   "source": [
    "neg_bigrams"
   ]
  },
  {
   "cell_type": "code",
   "execution_count": null,
   "metadata": {},
   "outputs": [],
   "source": []
  },
  {
   "cell_type": "code",
   "execution_count": null,
   "metadata": {},
   "outputs": [],
   "source": []
  },
  {
   "cell_type": "code",
   "execution_count": null,
   "metadata": {},
   "outputs": [],
   "source": []
  },
  {
   "cell_type": "code",
   "execution_count": null,
   "metadata": {},
   "outputs": [],
   "source": []
  },
  {
   "cell_type": "code",
   "execution_count": null,
   "metadata": {},
   "outputs": [],
   "source": []
  },
  {
   "cell_type": "code",
   "execution_count": null,
   "metadata": {},
   "outputs": [],
   "source": []
  },
  {
   "cell_type": "code",
   "execution_count": null,
   "metadata": {},
   "outputs": [],
   "source": []
  },
  {
   "cell_type": "code",
   "execution_count": 71,
   "metadata": {},
   "outputs": [],
   "source": [
    "import pickle"
   ]
  },
  {
   "cell_type": "code",
   "execution_count": 115,
   "metadata": {},
   "outputs": [],
   "source": [
    "pickle.dump(pos_tfidf_transformer, open(\"pos_tfidf_transformer.pickle\", \"wb\"))"
   ]
  },
  {
   "cell_type": "code",
   "execution_count": 116,
   "metadata": {},
   "outputs": [],
   "source": [
    "pickle.dump(pos_cv, open(\"pos_cv.pickle\", \"wb\"))"
   ]
  },
  {
   "cell_type": "code",
   "execution_count": null,
   "metadata": {},
   "outputs": [],
   "source": []
  },
  {
   "cell_type": "code",
   "execution_count": null,
   "metadata": {},
   "outputs": [],
   "source": [
    "# open a file, where you stored the pickled data\n",
    "file = open('important', 'rb')\n",
    "\n",
    "# dump information to that file\n",
    "data = pickle.load(file)\n",
    "\n",
    "# close the file\n",
    "file.close()"
   ]
  },
  {
   "cell_type": "code",
   "execution_count": null,
   "metadata": {},
   "outputs": [],
   "source": [
    "pos_cv"
   ]
  },
  {
   "cell_type": "code",
   "execution_count": 117,
   "metadata": {},
   "outputs": [
    {
     "ename": "NameError",
     "evalue": "name 'neg_text' is not defined",
     "output_type": "error",
     "traceback": [
      "\u001b[0;31m---------------------------------------------------------------------------\u001b[0m",
      "\u001b[0;31mNameError\u001b[0m                                 Traceback (most recent call last)",
      "\u001b[0;32m<ipython-input-117-0ddd05d8c064>\u001b[0m in \u001b[0;36m<module>\u001b[0;34m\u001b[0m\n\u001b[0;32m----> 1\u001b[0;31m \u001b[0mneg_text\u001b[0m\u001b[0;34m\u001b[0m\u001b[0;34m\u001b[0m\u001b[0m\n\u001b[0m",
      "\u001b[0;31mNameError\u001b[0m: name 'neg_text' is not defined"
     ]
    }
   ],
   "source": [
    "neg_text"
   ]
  },
  {
   "cell_type": "code",
   "execution_count": null,
   "metadata": {},
   "outputs": [],
   "source": []
  },
  {
   "cell_type": "code",
   "execution_count": 75,
   "metadata": {},
   "outputs": [
    {
     "data": {
      "text/plain": [
       "'Хороше розташування. Безпечна парковка на території готелю. Наявність холодильника та чайника в номері.\\nЩоденне прибирання.'"
      ]
     },
     "execution_count": 75,
     "metadata": {},
     "output_type": "execute_result"
    }
   ],
   "source": [
    "pos_texts[123]"
   ]
  },
  {
   "cell_type": "code",
   "execution_count": 119,
   "metadata": {},
   "outputs": [
    {
     "data": {
      "text/plain": [
       "'Головне не переплутати з іншим готелем \"Верховина\", котрий знаходиться на відстані 2,5 км. При поселенні потрібно пройти квест \"знайди рецепцію, котра знаходиться в корпусі №Х, а потім звідти іди на поселення в корпус №У\"'"
      ]
     },
     "execution_count": 119,
     "metadata": {},
     "output_type": "execute_result"
    }
   ],
   "source": [
    "neg_texts[123]"
   ]
  },
  {
   "cell_type": "code",
   "execution_count": null,
   "metadata": {},
   "outputs": [],
   "source": []
  },
  {
   "cell_type": "code",
   "execution_count": null,
   "metadata": {},
   "outputs": [],
   "source": []
  },
  {
   "cell_type": "code",
   "execution_count": null,
   "metadata": {},
   "outputs": [],
   "source": []
  },
  {
   "cell_type": "markdown",
   "metadata": {},
   "source": [
    "## Read dataset and create docs"
   ]
  },
  {
   "cell_type": "code",
   "execution_count": 9,
   "metadata": {},
   "outputs": [
    {
     "data": {
      "text/plain": [
       "'Лише дівчата на рецепції - три рази мені міняли кімнату.'"
      ]
     },
     "execution_count": 9,
     "metadata": {},
     "output_type": "execute_result"
    }
   ],
   "source": [
    "full_df['title'].iloc[0]"
   ]
  },
  {
   "cell_type": "code",
   "execution_count": 12,
   "metadata": {},
   "outputs": [
    {
     "ename": "SyntaxError",
     "evalue": "invalid syntax (<unknown>, line 1)",
     "output_type": "error",
     "traceback": [
      "Traceback \u001b[0;36m(most recent call last)\u001b[0m:\n",
      "  File \u001b[1;32m\"/Library/Frameworks/Python.framework/Versions/3.6/lib/python3.6/site-packages/IPython/core/interactiveshell.py\"\u001b[0m, line \u001b[1;32m3296\u001b[0m, in \u001b[1;35mrun_code\u001b[0m\n    exec(code_obj, self.user_global_ns, self.user_ns)\n",
      "  File \u001b[1;32m\"<ipython-input-12-1ff282630633>\"\u001b[0m, line \u001b[1;32m1\u001b[0m, in \u001b[1;35m<module>\u001b[0m\n    title = literal_eval(full_df.iloc[0]['title'])\n",
      "  File \u001b[1;32m\"/Library/Frameworks/Python.framework/Versions/3.6/lib/python3.6/ast.py\"\u001b[0m, line \u001b[1;32m48\u001b[0m, in \u001b[1;35mliteral_eval\u001b[0m\n    node_or_string = parse(node_or_string, mode='eval')\n",
      "\u001b[0;36m  File \u001b[0;32m\"/Library/Frameworks/Python.framework/Versions/3.6/lib/python3.6/ast.py\"\u001b[0;36m, line \u001b[0;32m35\u001b[0;36m, in \u001b[0;35mparse\u001b[0;36m\u001b[0m\n\u001b[0;31m    return compile(source, filename, mode, PyCF_ONLY_AST)\u001b[0m\n",
      "\u001b[0;36m  File \u001b[0;32m\"<unknown>\"\u001b[0;36m, line \u001b[0;32m1\u001b[0m\n\u001b[0;31m    Лише дівчата на рецепції - три рази мені міняли кімнату.\u001b[0m\n\u001b[0m               ^\u001b[0m\n\u001b[0;31mSyntaxError\u001b[0m\u001b[0;31m:\u001b[0m invalid syntax\n"
     ]
    }
   ],
   "source": [
    "title = literal_eval(full_df.iloc[0]['title'])"
   ]
  },
  {
   "cell_type": "code",
   "execution_count": 10,
   "metadata": {},
   "outputs": [
    {
     "ename": "NameError",
     "evalue": "name 'title' is not defined",
     "output_type": "error",
     "traceback": [
      "\u001b[0;31m---------------------------------------------------------------------------\u001b[0m",
      "\u001b[0;31mNameError\u001b[0m                                 Traceback (most recent call last)",
      "\u001b[0;32m<ipython-input-10-f805bc9f4db6>\u001b[0m in \u001b[0;36m<module>\u001b[0;34m\u001b[0m\n\u001b[0;32m----> 1\u001b[0;31m \u001b[0;34m' '\u001b[0m\u001b[0;34m.\u001b[0m\u001b[0mjoin\u001b[0m\u001b[0;34m(\u001b[0m\u001b[0mword\u001b[0m \u001b[0;32mfor\u001b[0m \u001b[0mword\u001b[0m \u001b[0;32min\u001b[0m \u001b[0mtitle\u001b[0m\u001b[0;34m)\u001b[0m\u001b[0;34m\u001b[0m\u001b[0;34m\u001b[0m\u001b[0m\n\u001b[0m",
      "\u001b[0;31mNameError\u001b[0m: name 'title' is not defined"
     ]
    }
   ],
   "source": [
    "' '.join(word for word in title)"
   ]
  },
  {
   "cell_type": "code",
   "execution_count": 15,
   "metadata": {},
   "outputs": [],
   "source": [
    "def create_docs(data):\n",
    "    docs = []\n",
    "    for i in range(0, len(data)):\n",
    "        text = \"\"\n",
    "        \n",
    "        title = data.iloc[i]['title']\n",
    "        if len(title) > 0 and title[0] != 'Nan':\n",
    "            text += title\n",
    "            \n",
    "        pos = data.iloc[i]['pos_text']\n",
    "        if len(pos) > 0 and pos[0] != 'Nan':\n",
    "            text += ' '\n",
    "            text += pos\n",
    "            \n",
    "        neg = data.iloc[i]['neg_text']\n",
    "        if len(neg) > 0 and neg[0] != 'Nan':\n",
    "            text += ' '\n",
    "            text += neg\n",
    "            \n",
    "        docs.append(text)\n",
    "    return docs\n",
    "        "
   ]
  },
  {
   "cell_type": "code",
   "execution_count": 16,
   "metadata": {},
   "outputs": [],
   "source": [
    "docs = create_docs(full_df)"
   ]
  },
  {
   "cell_type": "markdown",
   "metadata": {},
   "source": [
    "### Create the IDF"
   ]
  },
  {
   "cell_type": "code",
   "execution_count": 19,
   "metadata": {},
   "outputs": [],
   "source": [
    "from sklearn.feature_extraction.text import CountVectorizer"
   ]
  },
  {
   "cell_type": "code",
   "execution_count": 21,
   "metadata": {},
   "outputs": [],
   "source": [
    "stop_words = read_stop_words('data/ukrainian-stopwords.txt')"
   ]
  },
  {
   "cell_type": "code",
   "execution_count": 22,
   "metadata": {},
   "outputs": [
    {
     "name": "stderr",
     "output_type": "stream",
     "text": [
      "/Library/Frameworks/Python.framework/Versions/3.6/lib/python3.6/site-packages/sklearn/feature_extraction/text.py:301: UserWarning: Your stop_words may be inconsistent with your preprocessing. Tokenizing the stop words generated tokens ['дев', 'ласка', 'разу', 'ятий', 'ятнадцятий', 'ятнадцять', 'ять', 'ім'] not in stop_words.\n",
      "  'stop_words.' % sorted(inconsistent))\n"
     ]
    }
   ],
   "source": [
    "cv=CountVectorizer(max_df=0.9,stop_words=stop_words)\n",
    "word_count_vector=cv.fit_transform(docs)"
   ]
  },
  {
   "cell_type": "code",
   "execution_count": 23,
   "metadata": {},
   "outputs": [
    {
     "data": {
      "text/plain": [
       "(134083, 91583)"
      ]
     },
     "execution_count": 23,
     "metadata": {},
     "output_type": "execute_result"
    }
   ],
   "source": [
    "word_count_vector.shape"
   ]
  },
  {
   "cell_type": "markdown",
   "metadata": {},
   "source": [
    "Let's limit our vocabulary size to 10,000"
   ]
  },
  {
   "cell_type": "code",
   "execution_count": 24,
   "metadata": {
    "scrolled": true
   },
   "outputs": [
    {
     "data": {
      "text/plain": [
       "(134083, 1000)"
      ]
     },
     "execution_count": 24,
     "metadata": {},
     "output_type": "execute_result"
    }
   ],
   "source": [
    "cv=CountVectorizer(max_df=0.85,stop_words=stop_words,max_features=1000)\n",
    "word_count_vector=cv.fit_transform(docs)\n",
    "word_count_vector.shape"
   ]
  },
  {
   "cell_type": "markdown",
   "metadata": {},
   "source": [
    "### TfidfTransformer to Compute Inverse Document Frequency (IDF) "
   ]
  },
  {
   "cell_type": "code",
   "execution_count": 25,
   "metadata": {},
   "outputs": [
    {
     "data": {
      "text/plain": [
       "TfidfTransformer(norm='l2', smooth_idf=True, sublinear_tf=False, use_idf=True)"
      ]
     },
     "execution_count": 25,
     "metadata": {},
     "output_type": "execute_result"
    }
   ],
   "source": [
    "from sklearn.feature_extraction.text import TfidfTransformer\n",
    "\n",
    "tfidf_transformer=TfidfTransformer(smooth_idf=True,use_idf=True)\n",
    "tfidf_transformer.fit(word_count_vector)"
   ]
  },
  {
   "cell_type": "markdown",
   "metadata": {},
   "source": [
    "Let's look at some of the IDF values:"
   ]
  },
  {
   "cell_type": "code",
   "execution_count": 26,
   "metadata": {},
   "outputs": [
    {
     "data": {
      "text/plain": [
       "array([4.88795706, 4.41686193, 5.77095315, 6.0609854 , 5.69715961,\n",
       "       6.02289655, 4.98057702, 5.14846648, 6.34007702, 6.67499526,\n",
       "       6.56789712, 5.2843625 , 3.19101645, 6.35417279, 6.04812724,\n",
       "       7.42632439, 6.32464462, 5.10050892, 6.75884957, 1.95952893,\n",
       "       4.38884889, 7.27283226, 5.10005878, 5.83455314, 5.23629409,\n",
       "       5.67292579, 4.9254174 , 6.00716589, 6.52022365, 6.48905706,\n",
       "       6.63035448, 6.08479605, 6.8555792 , 5.65630491, 5.50439941,\n",
       "       6.7059028 , 5.72535385, 6.51465261, 5.65630491, 6.29447642,\n",
       "       6.51650618, 6.59161365, 5.33201694, 6.59361565, 6.48186279,\n",
       "       5.74403012, 6.62413684, 5.99277715, 6.24377765, 5.97319002,\n",
       "       5.45442188, 5.95503682, 5.84303176, 6.35259675, 6.54664028,\n",
       "       6.30944676, 5.93098966, 6.08359195, 5.97426818, 6.38459948,\n",
       "       5.97426818, 5.66894331, 6.03543232, 5.40011837, 6.23254158,\n",
       "       6.57181102, 5.78335366, 6.6663372 , 6.63243564, 6.55817887,\n",
       "       4.83375573, 6.24377765, 4.44802429, 5.6361022 , 5.99939239,\n",
       "       6.0195048 , 6.52582591, 4.47752916, 6.68153836, 6.40929209,\n",
       "       6.28560062, 6.44319364, 4.15624745, 5.51388457, 6.55431787,\n",
       "       4.99749244, 4.7504293 , 6.56985216, 5.35614218, 4.38818613,\n",
       "       6.58762163, 6.17290331, 6.44837948, 6.42271511, 6.38135272,\n",
       "       4.99627466, 5.32353992, 4.53825944, 6.40762681, 5.59984446,\n",
       "       6.63035448, 6.27243291, 6.30043769, 6.57968508, 6.21044123,\n",
       "       4.65431188, 6.58364548, 6.57771074, 6.52022365, 6.48905706,\n",
       "       4.93034259, 5.85636529, 6.48365651, 6.63243564, 4.18161016,\n",
       "       5.69552563, 5.58074028, 6.62207286, 6.61181636, 6.63870526,\n",
       "       5.99718244, 6.60774303, 6.49086375, 6.30643471, 6.45533603,\n",
       "       5.98511428, 5.98729768, 6.44491927, 6.40264755, 6.10672141,\n",
       "       5.73975478, 5.98839118, 6.49994646, 5.64615254, 6.63035448,\n",
       "       6.6663372 , 6.59161365, 6.17027519, 6.55624651, 6.61181636,\n",
       "       6.44319364, 4.721043  , 6.45883254, 4.09395532, 4.38620047,\n",
       "       5.58365573, 5.78961206, 6.49630347, 4.78463721, 5.6361022 ,\n",
       "       6.24802395, 4.63688535, 4.93148262, 6.30944676, 6.14692783,\n",
       "       4.20560695, 6.1228608 , 4.89123874, 6.23674033, 6.5757403 ,\n",
       "       6.52770032, 5.90347901, 6.02516412, 6.55431787, 6.19822112,\n",
       "       5.40621223, 3.94246456, 3.7794437 , 4.45343161, 5.6769242 ,\n",
       "       6.39934176, 6.76358891, 5.96140627, 4.69429368, 6.56789712,\n",
       "       6.59361565, 5.0271731 , 5.49969035, 5.93616834, 5.19339072,\n",
       "       6.36527521, 5.54009297, 6.39440348, 6.18215652, 4.19918785,\n",
       "       5.69715961, 3.83337743, 5.84208614, 6.19149615, 5.10411741,\n",
       "       5.59910289, 5.42596596, 5.77979494, 4.26785432, 4.64114249,\n",
       "       6.47294212, 6.33078903, 5.06729799, 6.48186279, 5.55771768,\n",
       "       6.10795369, 6.24660651, 5.56199423, 6.27243291, 6.45533603,\n",
       "       6.58166332, 6.22558261, 6.72172234, 6.56205485, 6.49812331,\n",
       "       5.3619731 , 6.82987084, 6.58563158, 6.50177295, 5.59098177,\n",
       "       2.53875102, 6.78277416, 3.22438679, 5.98293563, 3.59628146,\n",
       "       6.28412895, 5.85924576, 6.29150906, 6.41934243, 6.45708276,\n",
       "       6.33233105, 4.84067618, 6.32464462, 4.704544  , 6.61795763,\n",
       "       5.61629958, 6.04928936, 6.37328166, 4.72722349, 6.50911243,\n",
       "       6.66203611, 5.95397918, 5.95397918, 5.87964471, 5.65082545,\n",
       "       6.41096015, 6.53523332, 6.48365651, 6.28412895, 6.17553836,\n",
       "       6.51465261, 4.99343893, 6.22419661, 5.52897402, 5.46993609,\n",
       "       5.77359749, 6.49448694, 6.12161002, 4.90004291, 5.81228877,\n",
       "       4.78726707, 5.98402436, 6.59562167, 6.16896372, 6.3034317 ,\n",
       "       6.68372894, 5.58877832, 6.41430463, 5.75696691, 6.19149615,\n",
       "       6.14181273, 6.63243564, 6.44319364, 5.48569479, 6.37811648,\n",
       "       6.47828496, 6.54092054, 6.14181273, 5.94033067, 4.46433478,\n",
       "       5.73634762, 6.16896372, 5.29908067, 6.65989249, 5.41913151,\n",
       "       5.47385254, 4.78234176, 6.64712636, 5.93616834, 5.49500336,\n",
       "       6.48007228, 6.09691741, 6.23254158, 6.14692783, 6.57968508,\n",
       "       5.75263602, 6.19283753, 6.06806925, 6.27243291, 5.82150543,\n",
       "       6.11537947, 6.41934243, 5.51456554, 6.02289655, 6.51095575,\n",
       "       6.25086486, 6.22836039, 5.2741336 , 6.63661102, 6.57377373,\n",
       "       6.18748276, 6.41934243, 6.62827763, 6.34788346, 5.54009297,\n",
       "       6.00493871, 6.38622682, 6.59763172, 5.66102561, 5.4303396 ,\n",
       "       6.08841705, 6.03314137, 6.25371386, 6.68592433, 6.34631729,\n",
       "       5.75696691, 4.43799271, 5.88555024, 5.21891124, 5.97319002,\n",
       "       5.59614212, 6.01163517, 6.40929209, 4.1221591 , 3.81217345,\n",
       "       5.62007744, 5.99387665, 6.52022365, 6.52208759, 6.13039853,\n",
       "       6.20363386, 6.58961565, 6.13039853, 4.4739134 , 6.13926496,\n",
       "       6.40762681, 5.16754192, 6.20635125, 4.53237482, 6.19418071,\n",
       "       6.65136365, 6.40430455, 5.5207152 , 6.45185171, 5.13999982,\n",
       "       3.59139147, 5.12189768, 4.13613581, 5.71115737, 5.12789539,\n",
       "       6.38135272, 6.27243291, 6.05863522, 6.51836319, 5.91561263,\n",
       "       5.78513778, 6.07163009, 6.34007702, 6.35102318, 6.50911243,\n",
       "       6.48365651, 6.16896372, 5.60505086, 6.06688512, 6.48365651,\n",
       "       5.01387282, 5.41234346, 5.96460627, 6.58762163, 6.23674033,\n",
       "       6.41766034, 6.67935256, 4.59963813, 6.35102318, 5.76481008,\n",
       "       6.05512028, 6.62827763, 6.50543595, 6.68153836, 6.39769296,\n",
       "       6.60571257, 6.35733235, 6.13166036, 6.52770032, 6.59562167,\n",
       "       5.2946971 , 6.46234131, 6.34007702, 4.9212688 , 4.24100059,\n",
       "       6.31246791, 5.6737242 , 6.49812331, 4.454611  , 5.42037067,\n",
       "       6.20363386, 5.21789807, 6.56399848, 6.57968508, 6.22143036,\n",
       "       5.6873955 , 5.61103443, 6.65989249, 6.12161002, 6.45359235,\n",
       "       6.58563158, 6.57968508, 6.67499526, 6.36527521, 6.53712546,\n",
       "       4.47127012, 5.33827942, 6.29596341, 6.60571257, 4.25250378,\n",
       "       6.61795763, 4.84799456, 5.72956793, 4.19135753, 6.09326555,\n",
       "       6.17685849, 5.5478096 , 5.94555808, 6.31246791, 5.56199423,\n",
       "       6.36687138, 5.65866248, 4.40556237, 6.69475441, 3.52365374,\n",
       "       5.66102561, 5.53035715, 5.59614212, 5.30569226, 5.8187315 ,\n",
       "       6.18881877, 6.17553836, 5.48900934, 4.79254761, 5.78246279,\n",
       "       5.15225257, 5.85444958, 6.34319229, 6.30193357, 6.16243202,\n",
       "       5.70950037, 4.74252911, 5.468634  , 6.82987084, 4.30678528,\n",
       "       6.63661102, 5.98402436, 6.73087572, 5.38504422, 6.62413684,\n",
       "       6.21729527, 6.59562167, 5.39104664, 6.04003003, 5.3106798 ,\n",
       "       5.9982868 , 6.40099329, 6.13926496, 5.48503319, 5.37848291,\n",
       "       6.54282349, 6.48186279, 6.21044123, 6.57181102, 6.57968508,\n",
       "       5.2357785 , 5.86793726, 4.77581219, 4.1077075 , 5.60281623,\n",
       "       6.22558261, 3.17644762, 4.65604248, 6.20771272, 6.18082938,\n",
       "       5.16417735, 5.37848291, 6.24660651, 6.13672366, 6.51095575,\n",
       "       6.23533879, 6.48725363, 6.48725363, 5.94241836, 6.43119693,\n",
       "       6.12161002, 6.66849469, 6.16503958, 6.04580706, 6.63661102,\n",
       "       6.28412895, 6.40430455, 6.25943634, 4.82859665, 6.49630347,\n",
       "       5.50372532, 6.4926737 , 6.49812331, 6.56789712, 6.50911243,\n",
       "       6.08359195, 5.8336155 , 6.68153836, 5.99058176, 5.20132727,\n",
       "       6.76358891, 4.70940428, 6.41766034, 5.97859251, 5.65082545,\n",
       "       5.93305791, 5.90347901, 6.35417279, 6.80728519, 6.41096015,\n",
       "       5.66814871, 4.87673522, 5.55700669, 2.39453201, 3.8052453 ,\n",
       "       6.2623099 , 4.4182265 , 3.71816201, 6.51280247, 5.76306183,\n",
       "       2.58887281, 4.8982023 , 6.68153836, 5.86987901, 5.39044477,\n",
       "       4.94372455, 6.4747199 , 5.94346384, 6.24802395, 5.50642438,\n",
       "       4.5496144 , 6.57968508, 5.92789528, 6.43290196, 6.24095678,\n",
       "       5.113196  , 4.79420351, 6.39604687, 6.47294212, 5.87474994,\n",
       "       6.0609854 , 5.51934534, 5.7474636 , 6.35417279, 6.55624651,\n",
       "       6.22005009, 6.11911314, 6.52208759, 6.04349224, 5.2018254 ,\n",
       "       5.88555024, 6.46234131, 6.12411315, 6.07281986, 6.39440348,\n",
       "       5.70619458, 6.70366315, 6.44147099, 6.53712546, 6.58563158,\n",
       "       6.1228608 , 6.18215652, 6.64501443, 6.28855048, 6.54473006,\n",
       "       6.523955  , 6.57181102, 6.21729527, 5.7228339 , 5.54219161,\n",
       "       5.90952742, 4.36181433, 5.72703735, 6.5757403 , 6.43803456,\n",
       "       6.24095678, 5.66656141, 5.3970853 , 6.77074032, 5.59024675,\n",
       "       2.17850025, 6.17290331, 4.39750503, 6.55817887, 5.64770775,\n",
       "       6.48725363, 5.27627838, 6.62207286, 6.33542224, 6.67065686,\n",
       "       6.22005009, 5.26985781, 6.08720859, 6.1955257 , 6.64080389,\n",
       "       6.63661102, 6.3684701 , 6.52582591, 6.00049919, 6.39440348,\n",
       "       6.54664028, 4.26648459, 5.21739187, 6.39604687, 6.70142852,\n",
       "       5.63764185, 5.80224761, 4.77094284, 5.79500776, 4.89857015,\n",
       "       6.60774303, 5.30624521, 6.55817887, 6.65775345, 6.61181636,\n",
       "       6.71039719, 6.51650618, 6.1091875 , 6.37489067, 6.17158839,\n",
       "       6.05395137, 6.57968508, 6.19283753, 5.91764929, 6.53145973,\n",
       "       6.52022365, 6.03772854, 6.57968508, 5.333721  , 5.06773363,\n",
       "       5.08045031, 5.67452324, 6.22143036, 6.66203611, 6.59763172,\n",
       "       6.4711675 , 6.73087572, 6.22558261, 6.01612451, 5.98402436,\n",
       "       5.49366825, 5.86503169, 4.80956787, 6.52208759, 6.33387545,\n",
       "       4.57804485, 6.69032962, 5.30569226, 4.95145256, 6.59562167,\n",
       "       6.19687251, 4.89160404, 6.52957826, 6.63035448, 6.20092383,\n",
       "       3.22321498, 5.75177209, 6.74243654, 6.07520365, 6.1228608 ,\n",
       "       6.11289808, 5.80133976, 6.05395137, 5.59688149, 6.20771272,\n",
       "       4.0818518 , 4.62198697, 5.66023728, 6.12411315, 6.41430463,\n",
       "       6.05395137, 6.60368623, 5.40621223, 5.3970853 , 5.64459975,\n",
       "       5.62539055, 6.64924276, 4.56109978, 6.4711675 , 6.23674033,\n",
       "       4.6880147 , 6.63035448, 5.69797761, 6.59562167, 5.18747937,\n",
       "       5.69715961, 6.48186279, 5.13486083, 6.2159207 , 6.49994646,\n",
       "       5.80224761, 5.85540698, 6.34475357, 6.01500029, 6.70814747,\n",
       "       6.523955  , 4.6708748 , 6.25086486, 5.47581654, 6.11042283,\n",
       "       6.54282349, 5.27359813, 6.51650618, 5.90952742, 6.40264755,\n",
       "       4.91788725, 6.62001312, 6.62413684, 6.65348905, 6.65561898,\n",
       "       6.29894404, 6.42779556, 6.22005009, 4.00535451, 6.29894404,\n",
       "       4.50147948, 6.59763172, 5.74403012, 4.68059076, 5.14234449,\n",
       "       4.43915402, 5.3515018 , 4.63943746, 6.50360277, 5.17965154,\n",
       "       6.34631729, 4.96630239, 6.30944676, 5.96034187, 6.48365651,\n",
       "       6.63870526, 6.1572372 , 6.39440348, 6.15335872, 6.17685849,\n",
       "       6.36368158, 6.56011498, 5.50845347, 4.92202181, 2.39968876,\n",
       "       6.13166036, 4.21801107, 5.43096597, 6.13672366, 6.31549821,\n",
       "       5.04532855, 6.62001312, 6.23814384, 5.71115737, 5.98620538,\n",
       "       5.70536984, 6.23114591, 5.43096597, 5.48371131, 6.5757403 ,\n",
       "       6.56011498, 6.44319364, 6.49994646, 5.87474994, 6.09083836,\n",
       "       6.1203608 , 6.09691741, 5.83267873, 6.55431787, 5.08133331,\n",
       "       5.60058657, 6.51465261, 6.27972689, 5.63303001, 5.82800801,\n",
       "       6.21044123, 6.57771074, 6.75413258, 5.36080419, 4.40197332,\n",
       "       4.94990218, 4.72073498, 6.02402969, 3.78088653, 6.37973329,\n",
       "       4.8785367 , 5.99167885, 2.81894467, 5.85158288, 6.50911243,\n",
       "       4.86102062, 4.85255197, 5.98076171, 6.55624651, 4.76223732,\n",
       "       3.5973825 , 5.59762141, 4.60565895, 6.65989249, 5.37670091,\n",
       "       6.61590634, 6.12913829, 6.56399848, 6.08359195, 6.49448694,\n",
       "       6.64501443, 6.0206341 , 5.98402436, 5.77183382, 6.81226032,\n",
       "       6.27388746, 6.52770032, 6.20499163, 6.55431787, 6.03085566,\n",
       "       6.29596341, 5.28924452, 5.14375393, 4.15554717, 6.22836039,\n",
       "       5.83925461, 6.1341888 , 6.24944339, 5.48173177, 5.55487676,\n",
       "       5.63533327, 6.523955  , 6.34319229, 5.73634762, 6.03314137,\n",
       "       6.36527521, 5.0879808 , 6.64290694, 5.30458729, 5.7665614 ,\n",
       "       4.92051636, 5.92378428, 6.12536707, 4.53467337, 4.56715642,\n",
       "       6.07163009, 6.17158839, 6.08479605, 6.08600159, 4.62226603,\n",
       "       6.56985216, 5.295244  , 5.56916272, 6.53712546, 5.87768393,\n",
       "       5.40621223, 4.40399058, 6.49994646, 5.65709015, 6.06570239,\n",
       "       5.76743821, 6.4397513 , 6.71944702, 6.22975218, 6.65775345,\n",
       "       5.43536158, 5.96996247, 6.13545543, 5.19834367, 5.95186725,\n",
       "       5.64926538, 6.37650227, 5.4228536 , 6.44147099, 6.10303363,\n",
       "       4.98779148, 5.99167885, 5.01801019, 6.45359235, 5.78513778,\n",
       "       6.55624651, 6.31853773, 5.17140107, 4.25000017, 5.76481008,\n",
       "       6.41934243, 6.64712636, 6.45708276, 5.62615187, 4.65431188,\n",
       "       5.56628916, 6.35891589, 4.80855862, 6.54855416, 4.88323579,\n",
       "       5.26560022, 3.50832848, 6.42779556, 6.71717687, 5.05560702,\n",
       "       6.05045283, 5.01469893, 5.74918477, 6.51465261, 5.90750721,\n",
       "       6.45359235, 4.62115027, 3.87519853, 4.03330166, 6.54282349,\n",
       "       5.59466501, 6.45011409, 4.61559007, 3.5067722 , 4.80319308,\n",
       "       6.04696648, 5.06208512, 6.50911243, 4.92693026, 4.82859665,\n",
       "       5.69063962, 6.57771074, 6.06452105, 6.53712546, 5.80588729,\n",
       "       6.52022365, 4.93452908, 5.84019756, 6.47294212, 3.68788702,\n",
       "       2.85071117, 3.74844997, 4.46314388, 6.40430455, 6.58364548,\n",
       "       6.17553836, 5.10140983, 4.52551067, 6.1456466 , 4.65893349,\n",
       "       4.81564487, 4.83928825, 5.4679836 , 6.41430463, 6.46234131,\n",
       "       5.70950037, 6.64501443, 5.09556842, 6.33233105, 6.64712636,\n",
       "       5.80679928, 6.39769296, 6.2159207 , 6.30643471, 4.93720237,\n",
       "       4.89014365, 4.71673927, 6.62620509, 6.19687251, 6.38785681,\n",
       "       6.37811648, 5.42721362, 6.35102318, 6.62001312, 5.16417735,\n",
       "       6.65561898, 5.92995714, 5.71281712, 6.24660651, 5.4876822 ,\n",
       "       4.99546363, 6.63452115, 6.00493871, 6.46762767, 4.01839092,\n",
       "       6.56205485, 6.63035448, 6.35891589, 5.95821647, 5.68577738,\n",
       "       4.63943746, 6.1203608 , 5.85924576, 6.66849469, 5.66894331,\n",
       "       5.18502659, 4.49310505, 5.35905339, 6.46762767, 5.89846647,\n",
       "       5.46021154, 6.34319229, 5.98076171, 6.41263099, 5.76044517])"
      ]
     },
     "execution_count": 26,
     "metadata": {},
     "output_type": "execute_result"
    }
   ],
   "source": [
    "tfidf_transformer.idf_"
   ]
  },
  {
   "cell_type": "markdown",
   "metadata": {},
   "source": [
    "### Computing TF-IDF and Extracting Keywords"
   ]
  },
  {
   "cell_type": "code",
   "execution_count": 27,
   "metadata": {},
   "outputs": [],
   "source": [
    "def sort_coo(coo_matrix):\n",
    "    tuples = zip(coo_matrix.col, coo_matrix.data)\n",
    "    return sorted(tuples, key=lambda x: (x[1], x[0]), reverse=True)\n",
    "\n",
    "def extract_topn_from_vector(feature_names, sorted_items, topn=10):\n",
    "    \"\"\"get the feature names and tf-idf score of top n items\"\"\"\n",
    "    \n",
    "    #use only topn items from vector\n",
    "    sorted_items = sorted_items[:topn]\n",
    "\n",
    "    score_vals = []\n",
    "    feature_vals = []\n",
    "\n",
    "    for idx, score in sorted_items:\n",
    "        fname = feature_names[idx]\n",
    "        \n",
    "        #keep track of feature name and its corresponding score\n",
    "        score_vals.append(round(score, 3))\n",
    "        feature_vals.append(feature_names[idx])\n",
    "\n",
    "    #create a tuples of feature,score\n",
    "    #results = zip(feature_vals,score_vals)\n",
    "    results= {}\n",
    "    for idx in range(len(feature_vals)):\n",
    "        results[feature_vals[idx]]=score_vals[idx]\n",
    "    \n",
    "    return results"
   ]
  },
  {
   "cell_type": "code",
   "execution_count": 34,
   "metadata": {},
   "outputs": [
    {
     "name": "stdout",
     "output_type": "stream",
     "text": [
      "\n",
      "===Review text===\n",
      "Лише дівчата на рецепції - три рази мені міняли кімнату. Лише дівчата на рецепції - три рази мені міняли кімнату. Дякую їм. Все. Одного досвіду вистарчило, щоб більше сюди не повертатися. Готель лише для гостей, яким байдуже умови , чистота і комфорт.\n",
      "\n",
      "===Keywords===\n",
      "рази 0.472\n",
      "дівчата 0.458\n",
      "кімнату 0.442\n",
      "рецепції 0.4\n",
      "сюди 0.221\n",
      "умови 0.218\n",
      "гостей 0.207\n",
      "комфорт 0.204\n",
      "чистота 0.145\n",
      "готель 0.098\n"
     ]
    }
   ],
   "source": [
    "# you only needs to do this once\n",
    "feature_names=cv.get_feature_names()\n",
    "\n",
    "# get the document that we want to extract keywords from\n",
    "doc=docs[0]\n",
    "\n",
    "#generate tf-idf for the given document\n",
    "tf_idf_vector=tfidf_transformer.transform(cv.transform([doc]))\n",
    "\n",
    "#sort the tf-idf vectors by descending order of scores\n",
    "sorted_items=sort_coo(tf_idf_vector.tocoo())\n",
    "\n",
    "#extract only the top n; n here is 10\n",
    "keywords=extract_topn_from_vector(feature_names,sorted_items,10)\n",
    "\n",
    "# now print the results\n",
    "print(\"\\n===Review text===\")\n",
    "print(doc)\n",
    "print(\"\\n===Keywords===\")\n",
    "for k in keywords:\n",
    "    print(k,keywords[k])"
   ]
  },
  {
   "cell_type": "code",
   "execution_count": 29,
   "metadata": {},
   "outputs": [],
   "source": [
    "a = tf_idf_vector=tfidf_transformer.transform(cv.transform(docs[:1]))"
   ]
  },
  {
   "cell_type": "code",
   "execution_count": 30,
   "metadata": {},
   "outputs": [
    {
     "data": {
      "text/plain": [
       "<2x1000 sparse matrix of type '<class 'numpy.int64'>'\n",
       "\twith 22 stored elements in Compressed Sparse Row format>"
      ]
     },
     "execution_count": 30,
     "metadata": {},
     "output_type": "execute_result"
    }
   ],
   "source": [
    "cv.transform(docs[:2])"
   ]
  },
  {
   "cell_type": "code",
   "execution_count": 31,
   "metadata": {},
   "outputs": [],
   "source": [
    "sorted_items=sort_coo(a.tocoo())"
   ]
  },
  {
   "cell_type": "code",
   "execution_count": 32,
   "metadata": {},
   "outputs": [
    {
     "data": {
      "text/plain": [
       "[(714, 0.47177032223963566),\n",
       " (283, 0.4583165725717789),\n",
       " (422, 0.4423654769281214),\n",
       " (739, 0.39990782054595764),\n",
       " (838, 0.22144445972314214),\n",
       " (875, 0.2180827599072353),\n",
       " (210, 0.20699220385566333),\n",
       " (390, 0.20439509883082757),\n",
       " (936, 0.1447041801699384),\n",
       " (215, 0.09800527891767899)]"
      ]
     },
     "execution_count": 32,
     "metadata": {},
     "output_type": "execute_result"
    }
   ],
   "source": [
    "sorted_items"
   ]
  },
  {
   "cell_type": "code",
   "execution_count": null,
   "metadata": {},
   "outputs": [],
   "source": []
  },
  {
   "cell_type": "code",
   "execution_count": null,
   "metadata": {},
   "outputs": [],
   "source": []
  },
  {
   "cell_type": "code",
   "execution_count": null,
   "metadata": {},
   "outputs": [],
   "source": []
  }
 ],
 "metadata": {
  "kernelspec": {
   "display_name": "Python 3",
   "language": "python",
   "name": "python3"
  },
  "language_info": {
   "codemirror_mode": {
    "name": "ipython",
    "version": 3
   },
   "file_extension": ".py",
   "mimetype": "text/x-python",
   "name": "python",
   "nbconvert_exporter": "python",
   "pygments_lexer": "ipython3",
   "version": "3.7.5"
  }
 },
 "nbformat": 4,
 "nbformat_minor": 2
}
