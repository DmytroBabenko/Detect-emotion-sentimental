{
 "cells": [
  {
   "cell_type": "code",
   "execution_count": 1,
   "metadata": {},
   "outputs": [],
   "source": [
    "import pandas as pd\n",
    "import numpy as np\n",
    "import nltk\n",
    "from nltk.stem.lancaster import LancasterStemmer\n",
    "from sklearn.linear_model import LogisticRegression\n",
    "from sklearn.model_selection import train_test_split"
   ]
  },
  {
   "cell_type": "code",
   "execution_count": 2,
   "metadata": {},
   "outputs": [],
   "source": [
    "data = pd.read_csv(\"Crowler/booking_reviews3.csv\")"
   ]
  },
  {
   "cell_type": "code",
   "execution_count": 3,
   "metadata": {},
   "outputs": [
    {
     "data": {
      "text/html": [
       "<div>\n",
       "<style scoped>\n",
       "    .dataframe tbody tr th:only-of-type {\n",
       "        vertical-align: middle;\n",
       "    }\n",
       "\n",
       "    .dataframe tbody tr th {\n",
       "        vertical-align: top;\n",
       "    }\n",
       "\n",
       "    .dataframe thead th {\n",
       "        text-align: right;\n",
       "    }\n",
       "</style>\n",
       "<table border=\"1\" class=\"dataframe\">\n",
       "  <thead>\n",
       "    <tr style=\"text-align: right;\">\n",
       "      <th></th>\n",
       "      <th>title</th>\n",
       "      <th>pos_text</th>\n",
       "      <th>neg_text</th>\n",
       "      <th>ratingValue</th>\n",
       "      <th>bestRating</th>\n",
       "    </tr>\n",
       "  </thead>\n",
       "  <tbody>\n",
       "    <tr>\n",
       "      <th>0</th>\n",
       "      <td>наступної мандрівки до Львова оберемо цей готель.</td>\n",
       "      <td>Відмінне розташування готелю! Дуже близько до ...</td>\n",
       "      <td>один маленький мінус, але нам це не завдало не...</td>\n",
       "      <td>10.0</td>\n",
       "      <td>10.0</td>\n",
       "    </tr>\n",
       "    <tr>\n",
       "      <th>1</th>\n",
       "      <td>Сніданок - великі порціїї, смачно!</td>\n",
       "      <td>Сніданок - великі порціїї, смачно! 1 страва бе...</td>\n",
       "      <td>Сам готель усередині нагадує гуртожиток чи хос...</td>\n",
       "      <td>6.3</td>\n",
       "      <td>10.0</td>\n",
       "    </tr>\n",
       "    <tr>\n",
       "      <th>2</th>\n",
       "      <td>Все чудово! За нагоди, обов'язково знову завіт...</td>\n",
       "      <td>Дуже чудовий і затишний отель! Дуже зручне роз...</td>\n",
       "      <td>Сантехніку (труби , стоки) необхідно перевірит...</td>\n",
       "      <td>9.6</td>\n",
       "      <td>10.0</td>\n",
       "    </tr>\n",
       "    <tr>\n",
       "      <th>3</th>\n",
       "      <td>класне розташування, такий собі острівець тиші...</td>\n",
       "      <td>класне розташування, такий собі острівець тиші...</td>\n",
       "      <td>начебто новий ремонт - а велика тріщина над дв...</td>\n",
       "      <td>7.5</td>\n",
       "      <td>10.0</td>\n",
       "    </tr>\n",
       "    <tr>\n",
       "      <th>4</th>\n",
       "      <td>Гарне місце для туристів або відрядження, але ...</td>\n",
       "      <td>Ідеальний номер, як для тризіркового готелю - ...</td>\n",
       "      <td>Дуже круті сходи. Складно знайти поруч місце д...</td>\n",
       "      <td>9.2</td>\n",
       "      <td>10.0</td>\n",
       "    </tr>\n",
       "  </tbody>\n",
       "</table>\n",
       "</div>"
      ],
      "text/plain": [
       "                                               title  \\\n",
       "0  наступної мандрівки до Львова оберемо цей готель.   \n",
       "1                 Сніданок - великі порціїї, смачно!   \n",
       "2  Все чудово! За нагоди, обов'язково знову завіт...   \n",
       "3  класне розташування, такий собі острівець тиші...   \n",
       "4  Гарне місце для туристів або відрядження, але ...   \n",
       "\n",
       "                                            pos_text  \\\n",
       "0  Відмінне розташування готелю! Дуже близько до ...   \n",
       "1  Сніданок - великі порціїї, смачно! 1 страва бе...   \n",
       "2  Дуже чудовий і затишний отель! Дуже зручне роз...   \n",
       "3  класне розташування, такий собі острівець тиші...   \n",
       "4  Ідеальний номер, як для тризіркового готелю - ...   \n",
       "\n",
       "                                            neg_text  ratingValue  bestRating  \n",
       "0  один маленький мінус, але нам це не завдало не...         10.0        10.0  \n",
       "1  Сам готель усередині нагадує гуртожиток чи хос...          6.3        10.0  \n",
       "2  Сантехніку (труби , стоки) необхідно перевірит...          9.6        10.0  \n",
       "3  начебто новий ремонт - а велика тріщина над дв...          7.5        10.0  \n",
       "4  Дуже круті сходи. Складно знайти поруч місце д...          9.2        10.0  "
      ]
     },
     "execution_count": 3,
     "metadata": {},
     "output_type": "execute_result"
    }
   ],
   "source": [
    "data[:5]"
   ]
  },
  {
   "cell_type": "code",
   "execution_count": 4,
   "metadata": {},
   "outputs": [],
   "source": [
    "def read_stop_words(file):\n",
    "    with open(file) as f:\n",
    "        stop_words = f.read().split('\\n')\n",
    "\n",
    "    return stop_words"
   ]
  },
  {
   "cell_type": "code",
   "execution_count": 5,
   "metadata": {},
   "outputs": [],
   "source": [
    "stop_words = read_stop_words('ukrainian-stopwords.txt')"
   ]
  },
  {
   "cell_type": "code",
   "execution_count": 6,
   "metadata": {},
   "outputs": [],
   "source": [
    "ignore_symbols = [',', '.', '!', '?']"
   ]
  },
  {
   "cell_type": "code",
   "execution_count": null,
   "metadata": {},
   "outputs": [],
   "source": []
  },
  {
   "cell_type": "code",
   "execution_count": 7,
   "metadata": {},
   "outputs": [],
   "source": [
    "ignore = ignore_symbols + stop_words"
   ]
  },
  {
   "cell_type": "code",
   "execution_count": 8,
   "metadata": {},
   "outputs": [],
   "source": [
    "stemmer = LancasterStemmer()"
   ]
  },
  {
   "cell_type": "code",
   "execution_count": null,
   "metadata": {},
   "outputs": [],
   "source": []
  },
  {
   "cell_type": "code",
   "execution_count": 9,
   "metadata": {},
   "outputs": [],
   "source": [
    "def add_words_from_sentence_to_bag_of_words(sentence : str, ignore_words: list, bag_of_words : set):\n",
    "    words = nltk.word_tokenize(sentence)\n",
    "    for word in words:\n",
    "        if word in ignore_words:\n",
    "            continue\n",
    "        bag_of_words.add(stemmer.stem(word.lower()))"
   ]
  },
  {
   "cell_type": "code",
   "execution_count": 10,
   "metadata": {},
   "outputs": [],
   "source": [
    "bag_of_words = set()\n",
    "for i in range(0, len(data)):\n",
    "    add_words_from_sentence_to_bag_of_words(data['title'][i], ignore, bag_of_words)\n",
    "    add_words_from_sentence_to_bag_of_words(data['pos_text'][i], ignore, bag_of_words)\n",
    "    add_words_from_sentence_to_bag_of_words(data['neg_text'][i], ignore, bag_of_words)"
   ]
  },
  {
   "cell_type": "code",
   "execution_count": 11,
   "metadata": {},
   "outputs": [],
   "source": [
    "def create_bag_of_words_vector(sentence: str, ignore_words : list, bag_of_words : set):\n",
    "    d = dict.fromkeys(bag_of_words, 0) \n",
    "    words = nltk.word_tokenize(sentence)\n",
    "    for word in words:\n",
    "        if word in d:\n",
    "            d[word] += 1\n",
    "            \n",
    "    return list(d.values())"
   ]
  },
  {
   "cell_type": "code",
   "execution_count": 12,
   "metadata": {},
   "outputs": [],
   "source": [
    "X, y = [], []\n",
    "for i in range(0, len(data)):\n",
    "    title = create_bag_of_words_vector(data['title'][i], ignore, bag_of_words)\n",
    "    pos_text = create_bag_of_words_vector(data['pos_text'][i], ignore, bag_of_words)\n",
    "    neg_text = create_bag_of_words_vector(data['neg_text'][i], ignore, bag_of_words)\n",
    "    rating_value = data['ratingValue'][i]\n",
    "    xi = title + pos_text + neg_text\n",
    "    xi = np.array(title) + np.array(pos_text) + np.array(neg_text)\n",
    "    yi = int(round(rating_value / 2))\n",
    "    \n",
    "    X.append(xi)\n",
    "    y.append(yi)"
   ]
  },
  {
   "cell_type": "code",
   "execution_count": 13,
   "metadata": {},
   "outputs": [],
   "source": [
    "X_train, X_test, y_train, y_test = train_test_split(X, y, test_size=0.33, random_state=42)"
   ]
  },
  {
   "cell_type": "code",
   "execution_count": 14,
   "metadata": {},
   "outputs": [],
   "source": [
    "clf = LogisticRegression(random_state=42, solver='lbfgs', multi_class='multinomial')"
   ]
  },
  {
   "cell_type": "code",
   "execution_count": 15,
   "metadata": {},
   "outputs": [
    {
     "data": {
      "text/plain": [
       "LogisticRegression(C=1.0, class_weight=None, dual=False, fit_intercept=True,\n",
       "          intercept_scaling=1, max_iter=100, multi_class='multinomial',\n",
       "          n_jobs=None, penalty='l2', random_state=42, solver='lbfgs',\n",
       "          tol=0.0001, verbose=0, warm_start=False)"
      ]
     },
     "execution_count": 15,
     "metadata": {},
     "output_type": "execute_result"
    }
   ],
   "source": [
    "clf.fit(X_train, y_train)"
   ]
  },
  {
   "cell_type": "markdown",
   "metadata": {},
   "source": [
    "### Metric "
   ]
  },
  {
   "cell_type": "code",
   "execution_count": 16,
   "metadata": {},
   "outputs": [],
   "source": [
    "from sklearn.metrics import classification_report"
   ]
  },
  {
   "cell_type": "code",
   "execution_count": 17,
   "metadata": {},
   "outputs": [],
   "source": [
    "y_pred = clf.predict(X_test) "
   ]
  },
  {
   "cell_type": "code",
   "execution_count": 18,
   "metadata": {},
   "outputs": [
    {
     "name": "stdout",
     "output_type": "stream",
     "text": [
      "              precision    recall  f1-score   support\n",
      "\n",
      "           1       0.00      0.00      0.00         4\n",
      "           2       0.67      0.14      0.24        14\n",
      "           3       0.30      0.20      0.24        30\n",
      "           4       0.45      0.42      0.43       110\n",
      "           5       0.64      0.75      0.69       183\n",
      "\n",
      "   micro avg       0.56      0.56      0.56       341\n",
      "   macro avg       0.41      0.30      0.32       341\n",
      "weighted avg       0.54      0.56      0.54       341\n",
      "\n"
     ]
    },
    {
     "name": "stderr",
     "output_type": "stream",
     "text": [
      "/Library/Frameworks/Python.framework/Versions/3.6/lib/python3.6/site-packages/sklearn/metrics/classification.py:1143: UndefinedMetricWarning: Precision and F-score are ill-defined and being set to 0.0 in labels with no predicted samples.\n",
      "  'precision', 'predicted', average, warn_for)\n"
     ]
    }
   ],
   "source": [
    "print(classification_report(y_test, y_pred))"
   ]
  }
 ],
 "metadata": {
  "kernelspec": {
   "display_name": "Python 3",
   "language": "python",
   "name": "python3"
  },
  "language_info": {
   "codemirror_mode": {
    "name": "ipython",
    "version": 3
   },
   "file_extension": ".py",
   "mimetype": "text/x-python",
   "name": "python",
   "nbconvert_exporter": "python",
   "pygments_lexer": "ipython3",
   "version": "3.6.8"
  }
 },
 "nbformat": 4,
 "nbformat_minor": 2
}
